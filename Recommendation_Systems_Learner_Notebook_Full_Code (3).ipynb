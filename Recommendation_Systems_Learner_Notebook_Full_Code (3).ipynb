{
  "cells": [
    {
      "cell_type": "markdown",
      "metadata": {
        "id": "pXQzH0nC5JtP"
      },
      "source": [
        "# **Project: Amazon Product Recommendation System**\n",
        "\n",
        "# **Marks: 40**\n",
        "\n",
        "\n",
        "Welcome to the project on Recommendation Systems. We will work with the Amazon product reviews dataset for this project. The dataset contains ratings of different electronic products. It does not include information about the products or reviews to avoid bias while building the model.\n",
        "\n",
        "--------------\n",
        "## **Context:**\n",
        "--------------\n",
        "\n",
        "Today, information is growing exponentially with volume, velocity and variety throughout the globe. This has lead to information overload, and too many choices for the consumer of any business. It represents a real dilemma for these consumers and they often turn to denial. Recommender Systems are one of the best tools that help recommending products to consumers while they are browsing online. Providing personalized recommendations which is most relevant for the user is what's most likely to keep them engaged and help business.\n",
        "\n",
        "E-commerce websites like Amazon, Walmart, Target and Etsy use different recommendation models to provide personalized suggestions to different users. These companies spend millions of dollars to come up with algorithmic techniques that can provide personalized recommendations to their users.\n",
        "\n",
        "Amazon, for example, is well-known for its accurate selection of recommendations in its online site. Amazon's recommendation system is capable of intelligently analyzing and predicting customers' shopping preferences in order to offer them a list of recommended products. Amazon's recommendation algorithm is therefore a key element in using AI to improve the personalization of its website. For example, one of the baseline recommendation models that Amazon uses is item-to-item collaborative filtering, which scales to massive data sets and produces high-quality recommendations in real-time.\n",
        "\n",
        "----------------\n",
        "## **Objective:**\n",
        "----------------\n",
        "\n",
        "You are a Data Science Manager at Amazon, and have been given the task of building a recommendation system to recommend products to customers based on their previous ratings for other products. You have a collection of labeled data of Amazon reviews of products. The goal is to extract meaningful insights from the data and build a recommendation system that helps in recommending products to online consumers.\n",
        "\n",
        "-----------------------------\n",
        "## **Dataset:**\n",
        "-----------------------------\n",
        "\n",
        "The Amazon dataset contains the following attributes:\n",
        "\n",
        "- **userId:** Every user identified with a unique id\n",
        "- **productId:** Every product identified with a unique id\n",
        "- **Rating:** The rating of the corresponding product by the corresponding user\n",
        "- **timestamp:** Time of the rating. We **will not use this column** to solve the current problem"
      ]
    },
    {
      "cell_type": "markdown",
      "metadata": {
        "id": "nmdPxJ2Q7W7p"
      },
      "source": [
        "**Note:** The code has some user defined functions that will be usefull while making recommendations and measure model performance, you can use these functions or can create your own functions."
      ]
    },
    {
      "cell_type": "markdown",
      "metadata": {
        "id": "UoRfgjS2yekq"
      },
      "source": [
        "Sometimes, the installation of the surprise library, which is used to build recommendation systems, faces issues in Jupyter. To avoid any issues, it is advised to use **Google Colab** for this project.\n",
        "\n",
        "Let's start by mounting the Google drive on Colab."
      ]
    },
    {
      "cell_type": "code",
      "execution_count": 1,
      "metadata": {
        "colab": {
          "base_uri": "https://localhost:8080/"
        },
        "id": "GZ0YAszcT4zK",
        "outputId": "1ce8e350-5cd0-49f0-d1de-2c5b90b5163d"
      },
      "outputs": [
        {
          "output_type": "stream",
          "name": "stdout",
          "text": [
            "Mounted at /content/drive\n"
          ]
        }
      ],
      "source": [
        "from google.colab import drive\n",
        "drive.mount('/content/drive')"
      ]
    },
    {
      "cell_type": "markdown",
      "metadata": {
        "id": "0Ibk07-Cyekt"
      },
      "source": [
        "**Installing surprise library**"
      ]
    },
    {
      "cell_type": "code",
      "execution_count": 2,
      "metadata": {
        "colab": {
          "base_uri": "https://localhost:8080/"
        },
        "id": "05HQoiZYlsbB",
        "outputId": "1ea38ad5-615b-4f38-bf8f-589a06a0842c"
      },
      "outputs": [
        {
          "output_type": "stream",
          "name": "stdout",
          "text": [
            "Collecting surprise\n",
            "  Downloading surprise-0.1-py2.py3-none-any.whl.metadata (327 bytes)\n",
            "Collecting scikit-surprise (from surprise)\n",
            "  Downloading scikit_surprise-1.1.4.tar.gz (154 kB)\n",
            "\u001b[2K     \u001b[90m━━━━━━━━━━━━━━━━━━━━━━━━━━━━━━━━━━━━━━━━\u001b[0m \u001b[32m154.4/154.4 kB\u001b[0m \u001b[31m2.6 MB/s\u001b[0m eta \u001b[36m0:00:00\u001b[0m\n",
            "\u001b[?25h  Installing build dependencies ... \u001b[?25l\u001b[?25hdone\n",
            "  Getting requirements to build wheel ... \u001b[?25l\u001b[?25hdone\n",
            "  Preparing metadata (pyproject.toml) ... \u001b[?25l\u001b[?25hdone\n",
            "Requirement already satisfied: joblib>=1.2.0 in /usr/local/lib/python3.10/dist-packages (from scikit-surprise->surprise) (1.4.2)\n",
            "Requirement already satisfied: numpy>=1.19.5 in /usr/local/lib/python3.10/dist-packages (from scikit-surprise->surprise) (1.26.4)\n",
            "Requirement already satisfied: scipy>=1.6.0 in /usr/local/lib/python3.10/dist-packages (from scikit-surprise->surprise) (1.13.1)\n",
            "Downloading surprise-0.1-py2.py3-none-any.whl (1.8 kB)\n",
            "Building wheels for collected packages: scikit-surprise\n",
            "  Building wheel for scikit-surprise (pyproject.toml) ... \u001b[?25l\u001b[?25hdone\n",
            "  Created wheel for scikit-surprise: filename=scikit_surprise-1.1.4-cp310-cp310-linux_x86_64.whl size=2357277 sha256=ac57bb6702d53af6725a73963af42762a33539ca3e998e37b1c2a2fadbaf7abe\n",
            "  Stored in directory: /root/.cache/pip/wheels/4b/3f/df/6acbf0a40397d9bf3ff97f582cc22fb9ce66adde75bc71fd54\n",
            "Successfully built scikit-surprise\n",
            "Installing collected packages: scikit-surprise, surprise\n",
            "Successfully installed scikit-surprise-1.1.4 surprise-0.1\n"
          ]
        }
      ],
      "source": [
        "!pip install surprise"
      ]
    },
    {
      "cell_type": "markdown",
      "metadata": {
        "id": "7fIt4jcFIm76"
      },
      "source": [
        "## **Importing the necessary libraries and overview of the dataset**"
      ]
    },
    {
      "cell_type": "code",
      "execution_count": 3,
      "metadata": {
        "id": "jzu2P-TT5JtP"
      },
      "outputs": [],
      "source": [
        "# Basic python libraries\n",
        "import numpy as np\n",
        "import pandas as pd\n",
        "\n",
        "# Python libraries for data visualization\n",
        "import matplotlib.pyplot as plt\n",
        "import seaborn as sns\n",
        "\n",
        "# For implementing matrix factorization based recommendation system\n",
        "from surprise.prediction_algorithms.matrix_factorization import SVD\n",
        "from collections import defaultdict\n",
        "from surprise import accuracy  # Import accuracy directly from surprise\n",
        "\n",
        "# For implementing cross validation\n",
        "from surprise.model_selection import KFold\n",
        "\n",
        "import warnings\n",
        "warnings.filterwarnings('ignore')"
      ]
    },
    {
      "cell_type": "markdown",
      "metadata": {
        "id": "NrXYJAv95JtP"
      },
      "source": [
        "### **Loading the data**\n",
        "- Import the Dataset\n",
        "- Add column names ['user_id', 'prod_id', 'rating', 'timestamp']\n",
        "- Drop the column timestamp\n",
        "- Copy the data to another DataFrame called **df**"
      ]
    },
    {
      "cell_type": "code",
      "execution_count": 4,
      "metadata": {
        "id": "JGb-Hk1B5JtP"
      },
      "outputs": [],
      "source": [
        "df=pd.read_csv('/content/ratings_Electronics.csv')"
      ]
    },
    {
      "cell_type": "markdown",
      "metadata": {
        "id": "OVQnSG5g_9uX"
      },
      "source": [
        "**As this dataset is very large and has 7,824,482 observations, it is not computationally possible to build a model using this. Moreover, many users have only rated a few products and also some products are rated by very few users. Hence, we can reduce the dataset by considering certain logical assumptions.**\n",
        "\n",
        "Here, we will be taking users who have given at least 50 ratings, and the products that have at least 5 ratings, as when we shop online we prefer to have some number of ratings of a product."
      ]
    },
    {
      "cell_type": "code",
      "execution_count": 5,
      "metadata": {
        "colab": {
          "base_uri": "https://localhost:8080/",
          "height": 423
        },
        "id": "-Oq1aWTEMyZk",
        "outputId": "a47787c4-3c9a-43ba-d693-8dfef515a208"
      },
      "outputs": [
        {
          "output_type": "execute_result",
          "data": {
            "text/plain": [
              "                 userId   productId  rating   timestamp\n",
              "0        A2CX7LUOHB2NDG  0321732944     5.0  1341100800\n",
              "1        A2NWSAGRHCP8N5  0439886341     1.0  1367193600\n",
              "2        A2WNBOD3WNDNKT  0439886341     3.0  1374451200\n",
              "3        A1GI0U4ZRJA8WN  0439886341     1.0  1334707200\n",
              "4        A1QGNMC6O1VW39  0511189877     5.0  1397433600\n",
              "...                 ...         ...     ...         ...\n",
              "7824476  A2YZI3C9MOHC0L  BT008UKTMW     5.0  1396569600\n",
              "7824477  A322MDK0M89RHN  BT008UKTMW     5.0  1313366400\n",
              "7824478  A1MH90R0ADMIK0  BT008UKTMW     4.0  1404172800\n",
              "7824479  A10M2KEFPEQDHN  BT008UKTMW     4.0  1297555200\n",
              "7824480  A2G81TMIOIDEQQ  BT008V9J9U     5.0  1312675200\n",
              "\n",
              "[7824481 rows x 4 columns]"
            ],
            "text/html": [
              "\n",
              "  <div id=\"df-bb3aff1f-05ad-477a-8890-a23e2119bb5b\" class=\"colab-df-container\">\n",
              "    <div>\n",
              "<style scoped>\n",
              "    .dataframe tbody tr th:only-of-type {\n",
              "        vertical-align: middle;\n",
              "    }\n",
              "\n",
              "    .dataframe tbody tr th {\n",
              "        vertical-align: top;\n",
              "    }\n",
              "\n",
              "    .dataframe thead th {\n",
              "        text-align: right;\n",
              "    }\n",
              "</style>\n",
              "<table border=\"1\" class=\"dataframe\">\n",
              "  <thead>\n",
              "    <tr style=\"text-align: right;\">\n",
              "      <th></th>\n",
              "      <th>userId</th>\n",
              "      <th>productId</th>\n",
              "      <th>rating</th>\n",
              "      <th>timestamp</th>\n",
              "    </tr>\n",
              "  </thead>\n",
              "  <tbody>\n",
              "    <tr>\n",
              "      <th>0</th>\n",
              "      <td>A2CX7LUOHB2NDG</td>\n",
              "      <td>0321732944</td>\n",
              "      <td>5.0</td>\n",
              "      <td>1341100800</td>\n",
              "    </tr>\n",
              "    <tr>\n",
              "      <th>1</th>\n",
              "      <td>A2NWSAGRHCP8N5</td>\n",
              "      <td>0439886341</td>\n",
              "      <td>1.0</td>\n",
              "      <td>1367193600</td>\n",
              "    </tr>\n",
              "    <tr>\n",
              "      <th>2</th>\n",
              "      <td>A2WNBOD3WNDNKT</td>\n",
              "      <td>0439886341</td>\n",
              "      <td>3.0</td>\n",
              "      <td>1374451200</td>\n",
              "    </tr>\n",
              "    <tr>\n",
              "      <th>3</th>\n",
              "      <td>A1GI0U4ZRJA8WN</td>\n",
              "      <td>0439886341</td>\n",
              "      <td>1.0</td>\n",
              "      <td>1334707200</td>\n",
              "    </tr>\n",
              "    <tr>\n",
              "      <th>4</th>\n",
              "      <td>A1QGNMC6O1VW39</td>\n",
              "      <td>0511189877</td>\n",
              "      <td>5.0</td>\n",
              "      <td>1397433600</td>\n",
              "    </tr>\n",
              "    <tr>\n",
              "      <th>...</th>\n",
              "      <td>...</td>\n",
              "      <td>...</td>\n",
              "      <td>...</td>\n",
              "      <td>...</td>\n",
              "    </tr>\n",
              "    <tr>\n",
              "      <th>7824476</th>\n",
              "      <td>A2YZI3C9MOHC0L</td>\n",
              "      <td>BT008UKTMW</td>\n",
              "      <td>5.0</td>\n",
              "      <td>1396569600</td>\n",
              "    </tr>\n",
              "    <tr>\n",
              "      <th>7824477</th>\n",
              "      <td>A322MDK0M89RHN</td>\n",
              "      <td>BT008UKTMW</td>\n",
              "      <td>5.0</td>\n",
              "      <td>1313366400</td>\n",
              "    </tr>\n",
              "    <tr>\n",
              "      <th>7824478</th>\n",
              "      <td>A1MH90R0ADMIK0</td>\n",
              "      <td>BT008UKTMW</td>\n",
              "      <td>4.0</td>\n",
              "      <td>1404172800</td>\n",
              "    </tr>\n",
              "    <tr>\n",
              "      <th>7824479</th>\n",
              "      <td>A10M2KEFPEQDHN</td>\n",
              "      <td>BT008UKTMW</td>\n",
              "      <td>4.0</td>\n",
              "      <td>1297555200</td>\n",
              "    </tr>\n",
              "    <tr>\n",
              "      <th>7824480</th>\n",
              "      <td>A2G81TMIOIDEQQ</td>\n",
              "      <td>BT008V9J9U</td>\n",
              "      <td>5.0</td>\n",
              "      <td>1312675200</td>\n",
              "    </tr>\n",
              "  </tbody>\n",
              "</table>\n",
              "<p>7824481 rows × 4 columns</p>\n",
              "</div>\n",
              "    <div class=\"colab-df-buttons\">\n",
              "\n",
              "  <div class=\"colab-df-container\">\n",
              "    <button class=\"colab-df-convert\" onclick=\"convertToInteractive('df-bb3aff1f-05ad-477a-8890-a23e2119bb5b')\"\n",
              "            title=\"Convert this dataframe to an interactive table.\"\n",
              "            style=\"display:none;\">\n",
              "\n",
              "  <svg xmlns=\"http://www.w3.org/2000/svg\" height=\"24px\" viewBox=\"0 -960 960 960\">\n",
              "    <path d=\"M120-120v-720h720v720H120Zm60-500h600v-160H180v160Zm220 220h160v-160H400v160Zm0 220h160v-160H400v160ZM180-400h160v-160H180v160Zm440 0h160v-160H620v160ZM180-180h160v-160H180v160Zm440 0h160v-160H620v160Z\"/>\n",
              "  </svg>\n",
              "    </button>\n",
              "\n",
              "  <style>\n",
              "    .colab-df-container {\n",
              "      display:flex;\n",
              "      gap: 12px;\n",
              "    }\n",
              "\n",
              "    .colab-df-convert {\n",
              "      background-color: #E8F0FE;\n",
              "      border: none;\n",
              "      border-radius: 50%;\n",
              "      cursor: pointer;\n",
              "      display: none;\n",
              "      fill: #1967D2;\n",
              "      height: 32px;\n",
              "      padding: 0 0 0 0;\n",
              "      width: 32px;\n",
              "    }\n",
              "\n",
              "    .colab-df-convert:hover {\n",
              "      background-color: #E2EBFA;\n",
              "      box-shadow: 0px 1px 2px rgba(60, 64, 67, 0.3), 0px 1px 3px 1px rgba(60, 64, 67, 0.15);\n",
              "      fill: #174EA6;\n",
              "    }\n",
              "\n",
              "    .colab-df-buttons div {\n",
              "      margin-bottom: 4px;\n",
              "    }\n",
              "\n",
              "    [theme=dark] .colab-df-convert {\n",
              "      background-color: #3B4455;\n",
              "      fill: #D2E3FC;\n",
              "    }\n",
              "\n",
              "    [theme=dark] .colab-df-convert:hover {\n",
              "      background-color: #434B5C;\n",
              "      box-shadow: 0px 1px 3px 1px rgba(0, 0, 0, 0.15);\n",
              "      filter: drop-shadow(0px 1px 2px rgba(0, 0, 0, 0.3));\n",
              "      fill: #FFFFFF;\n",
              "    }\n",
              "  </style>\n",
              "\n",
              "    <script>\n",
              "      const buttonEl =\n",
              "        document.querySelector('#df-bb3aff1f-05ad-477a-8890-a23e2119bb5b button.colab-df-convert');\n",
              "      buttonEl.style.display =\n",
              "        google.colab.kernel.accessAllowed ? 'block' : 'none';\n",
              "\n",
              "      async function convertToInteractive(key) {\n",
              "        const element = document.querySelector('#df-bb3aff1f-05ad-477a-8890-a23e2119bb5b');\n",
              "        const dataTable =\n",
              "          await google.colab.kernel.invokeFunction('convertToInteractive',\n",
              "                                                    [key], {});\n",
              "        if (!dataTable) return;\n",
              "\n",
              "        const docLinkHtml = 'Like what you see? Visit the ' +\n",
              "          '<a target=\"_blank\" href=https://colab.research.google.com/notebooks/data_table.ipynb>data table notebook</a>'\n",
              "          + ' to learn more about interactive tables.';\n",
              "        element.innerHTML = '';\n",
              "        dataTable['output_type'] = 'display_data';\n",
              "        await google.colab.output.renderOutput(dataTable, element);\n",
              "        const docLink = document.createElement('div');\n",
              "        docLink.innerHTML = docLinkHtml;\n",
              "        element.appendChild(docLink);\n",
              "      }\n",
              "    </script>\n",
              "  </div>\n",
              "\n",
              "\n",
              "<div id=\"df-8ef85320-0d56-4286-9aa0-71836007bd25\">\n",
              "  <button class=\"colab-df-quickchart\" onclick=\"quickchart('df-8ef85320-0d56-4286-9aa0-71836007bd25')\"\n",
              "            title=\"Suggest charts\"\n",
              "            style=\"display:none;\">\n",
              "\n",
              "<svg xmlns=\"http://www.w3.org/2000/svg\" height=\"24px\"viewBox=\"0 0 24 24\"\n",
              "     width=\"24px\">\n",
              "    <g>\n",
              "        <path d=\"M19 3H5c-1.1 0-2 .9-2 2v14c0 1.1.9 2 2 2h14c1.1 0 2-.9 2-2V5c0-1.1-.9-2-2-2zM9 17H7v-7h2v7zm4 0h-2V7h2v10zm4 0h-2v-4h2v4z\"/>\n",
              "    </g>\n",
              "</svg>\n",
              "  </button>\n",
              "\n",
              "<style>\n",
              "  .colab-df-quickchart {\n",
              "      --bg-color: #E8F0FE;\n",
              "      --fill-color: #1967D2;\n",
              "      --hover-bg-color: #E2EBFA;\n",
              "      --hover-fill-color: #174EA6;\n",
              "      --disabled-fill-color: #AAA;\n",
              "      --disabled-bg-color: #DDD;\n",
              "  }\n",
              "\n",
              "  [theme=dark] .colab-df-quickchart {\n",
              "      --bg-color: #3B4455;\n",
              "      --fill-color: #D2E3FC;\n",
              "      --hover-bg-color: #434B5C;\n",
              "      --hover-fill-color: #FFFFFF;\n",
              "      --disabled-bg-color: #3B4455;\n",
              "      --disabled-fill-color: #666;\n",
              "  }\n",
              "\n",
              "  .colab-df-quickchart {\n",
              "    background-color: var(--bg-color);\n",
              "    border: none;\n",
              "    border-radius: 50%;\n",
              "    cursor: pointer;\n",
              "    display: none;\n",
              "    fill: var(--fill-color);\n",
              "    height: 32px;\n",
              "    padding: 0;\n",
              "    width: 32px;\n",
              "  }\n",
              "\n",
              "  .colab-df-quickchart:hover {\n",
              "    background-color: var(--hover-bg-color);\n",
              "    box-shadow: 0 1px 2px rgba(60, 64, 67, 0.3), 0 1px 3px 1px rgba(60, 64, 67, 0.15);\n",
              "    fill: var(--button-hover-fill-color);\n",
              "  }\n",
              "\n",
              "  .colab-df-quickchart-complete:disabled,\n",
              "  .colab-df-quickchart-complete:disabled:hover {\n",
              "    background-color: var(--disabled-bg-color);\n",
              "    fill: var(--disabled-fill-color);\n",
              "    box-shadow: none;\n",
              "  }\n",
              "\n",
              "  .colab-df-spinner {\n",
              "    border: 2px solid var(--fill-color);\n",
              "    border-color: transparent;\n",
              "    border-bottom-color: var(--fill-color);\n",
              "    animation:\n",
              "      spin 1s steps(1) infinite;\n",
              "  }\n",
              "\n",
              "  @keyframes spin {\n",
              "    0% {\n",
              "      border-color: transparent;\n",
              "      border-bottom-color: var(--fill-color);\n",
              "      border-left-color: var(--fill-color);\n",
              "    }\n",
              "    20% {\n",
              "      border-color: transparent;\n",
              "      border-left-color: var(--fill-color);\n",
              "      border-top-color: var(--fill-color);\n",
              "    }\n",
              "    30% {\n",
              "      border-color: transparent;\n",
              "      border-left-color: var(--fill-color);\n",
              "      border-top-color: var(--fill-color);\n",
              "      border-right-color: var(--fill-color);\n",
              "    }\n",
              "    40% {\n",
              "      border-color: transparent;\n",
              "      border-right-color: var(--fill-color);\n",
              "      border-top-color: var(--fill-color);\n",
              "    }\n",
              "    60% {\n",
              "      border-color: transparent;\n",
              "      border-right-color: var(--fill-color);\n",
              "    }\n",
              "    80% {\n",
              "      border-color: transparent;\n",
              "      border-right-color: var(--fill-color);\n",
              "      border-bottom-color: var(--fill-color);\n",
              "    }\n",
              "    90% {\n",
              "      border-color: transparent;\n",
              "      border-bottom-color: var(--fill-color);\n",
              "    }\n",
              "  }\n",
              "</style>\n",
              "\n",
              "  <script>\n",
              "    async function quickchart(key) {\n",
              "      const quickchartButtonEl =\n",
              "        document.querySelector('#' + key + ' button');\n",
              "      quickchartButtonEl.disabled = true;  // To prevent multiple clicks.\n",
              "      quickchartButtonEl.classList.add('colab-df-spinner');\n",
              "      try {\n",
              "        const charts = await google.colab.kernel.invokeFunction(\n",
              "            'suggestCharts', [key], {});\n",
              "      } catch (error) {\n",
              "        console.error('Error during call to suggestCharts:', error);\n",
              "      }\n",
              "      quickchartButtonEl.classList.remove('colab-df-spinner');\n",
              "      quickchartButtonEl.classList.add('colab-df-quickchart-complete');\n",
              "    }\n",
              "    (() => {\n",
              "      let quickchartButtonEl =\n",
              "        document.querySelector('#df-8ef85320-0d56-4286-9aa0-71836007bd25 button');\n",
              "      quickchartButtonEl.style.display =\n",
              "        google.colab.kernel.accessAllowed ? 'block' : 'none';\n",
              "    })();\n",
              "  </script>\n",
              "</div>\n",
              "\n",
              "  <div id=\"id_04d679af-ff44-439e-89c2-8c90ddf21731\">\n",
              "    <style>\n",
              "      .colab-df-generate {\n",
              "        background-color: #E8F0FE;\n",
              "        border: none;\n",
              "        border-radius: 50%;\n",
              "        cursor: pointer;\n",
              "        display: none;\n",
              "        fill: #1967D2;\n",
              "        height: 32px;\n",
              "        padding: 0 0 0 0;\n",
              "        width: 32px;\n",
              "      }\n",
              "\n",
              "      .colab-df-generate:hover {\n",
              "        background-color: #E2EBFA;\n",
              "        box-shadow: 0px 1px 2px rgba(60, 64, 67, 0.3), 0px 1px 3px 1px rgba(60, 64, 67, 0.15);\n",
              "        fill: #174EA6;\n",
              "      }\n",
              "\n",
              "      [theme=dark] .colab-df-generate {\n",
              "        background-color: #3B4455;\n",
              "        fill: #D2E3FC;\n",
              "      }\n",
              "\n",
              "      [theme=dark] .colab-df-generate:hover {\n",
              "        background-color: #434B5C;\n",
              "        box-shadow: 0px 1px 3px 1px rgba(0, 0, 0, 0.15);\n",
              "        filter: drop-shadow(0px 1px 2px rgba(0, 0, 0, 0.3));\n",
              "        fill: #FFFFFF;\n",
              "      }\n",
              "    </style>\n",
              "    <button class=\"colab-df-generate\" onclick=\"generateWithVariable('df')\"\n",
              "            title=\"Generate code using this dataframe.\"\n",
              "            style=\"display:none;\">\n",
              "\n",
              "  <svg xmlns=\"http://www.w3.org/2000/svg\" height=\"24px\"viewBox=\"0 0 24 24\"\n",
              "       width=\"24px\">\n",
              "    <path d=\"M7,19H8.4L18.45,9,17,7.55,7,17.6ZM5,21V16.75L18.45,3.32a2,2,0,0,1,2.83,0l1.4,1.43a1.91,1.91,0,0,1,.58,1.4,1.91,1.91,0,0,1-.58,1.4L9.25,21ZM18.45,9,17,7.55Zm-12,3A5.31,5.31,0,0,0,4.9,8.1,5.31,5.31,0,0,0,1,6.5,5.31,5.31,0,0,0,4.9,4.9,5.31,5.31,0,0,0,6.5,1,5.31,5.31,0,0,0,8.1,4.9,5.31,5.31,0,0,0,12,6.5,5.46,5.46,0,0,0,6.5,12Z\"/>\n",
              "  </svg>\n",
              "    </button>\n",
              "    <script>\n",
              "      (() => {\n",
              "      const buttonEl =\n",
              "        document.querySelector('#id_04d679af-ff44-439e-89c2-8c90ddf21731 button.colab-df-generate');\n",
              "      buttonEl.style.display =\n",
              "        google.colab.kernel.accessAllowed ? 'block' : 'none';\n",
              "\n",
              "      buttonEl.onclick = () => {\n",
              "        google.colab.notebook.generateWithVariable('df');\n",
              "      }\n",
              "      })();\n",
              "    </script>\n",
              "  </div>\n",
              "\n",
              "    </div>\n",
              "  </div>\n"
            ],
            "application/vnd.google.colaboratory.intrinsic+json": {
              "type": "dataframe",
              "variable_name": "df"
            }
          },
          "metadata": {},
          "execution_count": 5
        }
      ],
      "source": [
        "df.columns = ['userId', 'productId', 'rating', 'timestamp']\n",
        "df"
      ]
    },
    {
      "cell_type": "code",
      "execution_count": 6,
      "metadata": {
        "id": "4yt9W7Q32EQQ"
      },
      "outputs": [],
      "source": [
        "# Get the column containing the users\n",
        "users = df.userId\n",
        "\n",
        "# Create a dictionary from users to their number of ratings\n",
        "ratings_count = dict()\n",
        "\n",
        "for user in users:\n",
        "\n",
        "    # If we already have the user, just add 1 to their rating count\n",
        "    if user in ratings_count:\n",
        "        ratings_count[user] += 1\n",
        "\n",
        "    # Otherwise, set their rating count to 1\n",
        "    else:\n",
        "        ratings_count[user] = 1"
      ]
    },
    {
      "cell_type": "code",
      "execution_count": 7,
      "metadata": {
        "id": "19XB60dq2EQR"
      },
      "outputs": [],
      "source": [
        "# We want our users to have at least 50 ratings to be considered\n",
        "RATINGS_CUTOFF = 50\n",
        "\n",
        "remove_users = []\n",
        "\n",
        "for user, num_ratings in ratings_count.items():\n",
        "    if num_ratings < RATINGS_CUTOFF:\n",
        "        remove_users.append(user)\n",
        "\n",
        "df = df.loc[ ~ df.userId.isin(remove_users)]"
      ]
    },
    {
      "cell_type": "code",
      "execution_count": 8,
      "metadata": {
        "id": "33UzK1D82EQS"
      },
      "outputs": [],
      "source": [
        "# Get the column containing the products\n",
        "prods = df.productId\n",
        "\n",
        "# Create a dictionary from products to their number of ratings\n",
        "ratings_count = dict()\n",
        "\n",
        "for prod in prods:\n",
        "\n",
        "    # If we already have the product, just add 1 to its rating count\n",
        "    if prod in ratings_count:\n",
        "        ratings_count[prod] += 1\n",
        "\n",
        "    # Otherwise, set their rating count to 1\n",
        "    else:\n",
        "        ratings_count[prod] = 1"
      ]
    },
    {
      "cell_type": "code",
      "execution_count": 9,
      "metadata": {
        "id": "u6YE-lUp2EQT"
      },
      "outputs": [],
      "source": [
        "# We want our item to have at least 5 ratings to be considered\n",
        "RATINGS_CUTOFF = 5\n",
        "\n",
        "remove_users = []\n",
        "\n",
        "for user, num_ratings in ratings_count.items():\n",
        "    if num_ratings < RATINGS_CUTOFF:\n",
        "        remove_users.append(user)\n",
        "\n",
        "df_final = df.loc[~ df.productId.isin(remove_users)]"
      ]
    },
    {
      "cell_type": "code",
      "execution_count": 10,
      "metadata": {
        "colab": {
          "base_uri": "https://localhost:8080/",
          "height": 206
        },
        "id": "aL1JZ00o5JtQ",
        "outputId": "3df62fa7-0d07-4219-ddf3-bd008835dc5c"
      },
      "outputs": [
        {
          "output_type": "execute_result",
          "data": {
            "text/plain": [
              "              userId   productId  rating   timestamp\n",
              "1309  A3LDPF5FMB782Z  1400501466     5.0  1336003200\n",
              "1321  A1A5KUIIIHFF4U  1400501466     1.0  1332547200\n",
              "1334  A2XIOXRRYX0KZY  1400501466     3.0  1371686400\n",
              "1450   AW3LX47IHPFRL  1400501466     5.0  1339804800\n",
              "1455  A1E3OB6QMBKRYZ  1400501466     1.0  1350086400"
            ],
            "text/html": [
              "\n",
              "  <div id=\"df-3166c39d-1c41-4313-bfab-c6279ddcad51\" class=\"colab-df-container\">\n",
              "    <div>\n",
              "<style scoped>\n",
              "    .dataframe tbody tr th:only-of-type {\n",
              "        vertical-align: middle;\n",
              "    }\n",
              "\n",
              "    .dataframe tbody tr th {\n",
              "        vertical-align: top;\n",
              "    }\n",
              "\n",
              "    .dataframe thead th {\n",
              "        text-align: right;\n",
              "    }\n",
              "</style>\n",
              "<table border=\"1\" class=\"dataframe\">\n",
              "  <thead>\n",
              "    <tr style=\"text-align: right;\">\n",
              "      <th></th>\n",
              "      <th>userId</th>\n",
              "      <th>productId</th>\n",
              "      <th>rating</th>\n",
              "      <th>timestamp</th>\n",
              "    </tr>\n",
              "  </thead>\n",
              "  <tbody>\n",
              "    <tr>\n",
              "      <th>1309</th>\n",
              "      <td>A3LDPF5FMB782Z</td>\n",
              "      <td>1400501466</td>\n",
              "      <td>5.0</td>\n",
              "      <td>1336003200</td>\n",
              "    </tr>\n",
              "    <tr>\n",
              "      <th>1321</th>\n",
              "      <td>A1A5KUIIIHFF4U</td>\n",
              "      <td>1400501466</td>\n",
              "      <td>1.0</td>\n",
              "      <td>1332547200</td>\n",
              "    </tr>\n",
              "    <tr>\n",
              "      <th>1334</th>\n",
              "      <td>A2XIOXRRYX0KZY</td>\n",
              "      <td>1400501466</td>\n",
              "      <td>3.0</td>\n",
              "      <td>1371686400</td>\n",
              "    </tr>\n",
              "    <tr>\n",
              "      <th>1450</th>\n",
              "      <td>AW3LX47IHPFRL</td>\n",
              "      <td>1400501466</td>\n",
              "      <td>5.0</td>\n",
              "      <td>1339804800</td>\n",
              "    </tr>\n",
              "    <tr>\n",
              "      <th>1455</th>\n",
              "      <td>A1E3OB6QMBKRYZ</td>\n",
              "      <td>1400501466</td>\n",
              "      <td>1.0</td>\n",
              "      <td>1350086400</td>\n",
              "    </tr>\n",
              "  </tbody>\n",
              "</table>\n",
              "</div>\n",
              "    <div class=\"colab-df-buttons\">\n",
              "\n",
              "  <div class=\"colab-df-container\">\n",
              "    <button class=\"colab-df-convert\" onclick=\"convertToInteractive('df-3166c39d-1c41-4313-bfab-c6279ddcad51')\"\n",
              "            title=\"Convert this dataframe to an interactive table.\"\n",
              "            style=\"display:none;\">\n",
              "\n",
              "  <svg xmlns=\"http://www.w3.org/2000/svg\" height=\"24px\" viewBox=\"0 -960 960 960\">\n",
              "    <path d=\"M120-120v-720h720v720H120Zm60-500h600v-160H180v160Zm220 220h160v-160H400v160Zm0 220h160v-160H400v160ZM180-400h160v-160H180v160Zm440 0h160v-160H620v160ZM180-180h160v-160H180v160Zm440 0h160v-160H620v160Z\"/>\n",
              "  </svg>\n",
              "    </button>\n",
              "\n",
              "  <style>\n",
              "    .colab-df-container {\n",
              "      display:flex;\n",
              "      gap: 12px;\n",
              "    }\n",
              "\n",
              "    .colab-df-convert {\n",
              "      background-color: #E8F0FE;\n",
              "      border: none;\n",
              "      border-radius: 50%;\n",
              "      cursor: pointer;\n",
              "      display: none;\n",
              "      fill: #1967D2;\n",
              "      height: 32px;\n",
              "      padding: 0 0 0 0;\n",
              "      width: 32px;\n",
              "    }\n",
              "\n",
              "    .colab-df-convert:hover {\n",
              "      background-color: #E2EBFA;\n",
              "      box-shadow: 0px 1px 2px rgba(60, 64, 67, 0.3), 0px 1px 3px 1px rgba(60, 64, 67, 0.15);\n",
              "      fill: #174EA6;\n",
              "    }\n",
              "\n",
              "    .colab-df-buttons div {\n",
              "      margin-bottom: 4px;\n",
              "    }\n",
              "\n",
              "    [theme=dark] .colab-df-convert {\n",
              "      background-color: #3B4455;\n",
              "      fill: #D2E3FC;\n",
              "    }\n",
              "\n",
              "    [theme=dark] .colab-df-convert:hover {\n",
              "      background-color: #434B5C;\n",
              "      box-shadow: 0px 1px 3px 1px rgba(0, 0, 0, 0.15);\n",
              "      filter: drop-shadow(0px 1px 2px rgba(0, 0, 0, 0.3));\n",
              "      fill: #FFFFFF;\n",
              "    }\n",
              "  </style>\n",
              "\n",
              "    <script>\n",
              "      const buttonEl =\n",
              "        document.querySelector('#df-3166c39d-1c41-4313-bfab-c6279ddcad51 button.colab-df-convert');\n",
              "      buttonEl.style.display =\n",
              "        google.colab.kernel.accessAllowed ? 'block' : 'none';\n",
              "\n",
              "      async function convertToInteractive(key) {\n",
              "        const element = document.querySelector('#df-3166c39d-1c41-4313-bfab-c6279ddcad51');\n",
              "        const dataTable =\n",
              "          await google.colab.kernel.invokeFunction('convertToInteractive',\n",
              "                                                    [key], {});\n",
              "        if (!dataTable) return;\n",
              "\n",
              "        const docLinkHtml = 'Like what you see? Visit the ' +\n",
              "          '<a target=\"_blank\" href=https://colab.research.google.com/notebooks/data_table.ipynb>data table notebook</a>'\n",
              "          + ' to learn more about interactive tables.';\n",
              "        element.innerHTML = '';\n",
              "        dataTable['output_type'] = 'display_data';\n",
              "        await google.colab.output.renderOutput(dataTable, element);\n",
              "        const docLink = document.createElement('div');\n",
              "        docLink.innerHTML = docLinkHtml;\n",
              "        element.appendChild(docLink);\n",
              "      }\n",
              "    </script>\n",
              "  </div>\n",
              "\n",
              "\n",
              "<div id=\"df-92fe9e31-29fb-40f2-9c30-d9b192dec73b\">\n",
              "  <button class=\"colab-df-quickchart\" onclick=\"quickchart('df-92fe9e31-29fb-40f2-9c30-d9b192dec73b')\"\n",
              "            title=\"Suggest charts\"\n",
              "            style=\"display:none;\">\n",
              "\n",
              "<svg xmlns=\"http://www.w3.org/2000/svg\" height=\"24px\"viewBox=\"0 0 24 24\"\n",
              "     width=\"24px\">\n",
              "    <g>\n",
              "        <path d=\"M19 3H5c-1.1 0-2 .9-2 2v14c0 1.1.9 2 2 2h14c1.1 0 2-.9 2-2V5c0-1.1-.9-2-2-2zM9 17H7v-7h2v7zm4 0h-2V7h2v10zm4 0h-2v-4h2v4z\"/>\n",
              "    </g>\n",
              "</svg>\n",
              "  </button>\n",
              "\n",
              "<style>\n",
              "  .colab-df-quickchart {\n",
              "      --bg-color: #E8F0FE;\n",
              "      --fill-color: #1967D2;\n",
              "      --hover-bg-color: #E2EBFA;\n",
              "      --hover-fill-color: #174EA6;\n",
              "      --disabled-fill-color: #AAA;\n",
              "      --disabled-bg-color: #DDD;\n",
              "  }\n",
              "\n",
              "  [theme=dark] .colab-df-quickchart {\n",
              "      --bg-color: #3B4455;\n",
              "      --fill-color: #D2E3FC;\n",
              "      --hover-bg-color: #434B5C;\n",
              "      --hover-fill-color: #FFFFFF;\n",
              "      --disabled-bg-color: #3B4455;\n",
              "      --disabled-fill-color: #666;\n",
              "  }\n",
              "\n",
              "  .colab-df-quickchart {\n",
              "    background-color: var(--bg-color);\n",
              "    border: none;\n",
              "    border-radius: 50%;\n",
              "    cursor: pointer;\n",
              "    display: none;\n",
              "    fill: var(--fill-color);\n",
              "    height: 32px;\n",
              "    padding: 0;\n",
              "    width: 32px;\n",
              "  }\n",
              "\n",
              "  .colab-df-quickchart:hover {\n",
              "    background-color: var(--hover-bg-color);\n",
              "    box-shadow: 0 1px 2px rgba(60, 64, 67, 0.3), 0 1px 3px 1px rgba(60, 64, 67, 0.15);\n",
              "    fill: var(--button-hover-fill-color);\n",
              "  }\n",
              "\n",
              "  .colab-df-quickchart-complete:disabled,\n",
              "  .colab-df-quickchart-complete:disabled:hover {\n",
              "    background-color: var(--disabled-bg-color);\n",
              "    fill: var(--disabled-fill-color);\n",
              "    box-shadow: none;\n",
              "  }\n",
              "\n",
              "  .colab-df-spinner {\n",
              "    border: 2px solid var(--fill-color);\n",
              "    border-color: transparent;\n",
              "    border-bottom-color: var(--fill-color);\n",
              "    animation:\n",
              "      spin 1s steps(1) infinite;\n",
              "  }\n",
              "\n",
              "  @keyframes spin {\n",
              "    0% {\n",
              "      border-color: transparent;\n",
              "      border-bottom-color: var(--fill-color);\n",
              "      border-left-color: var(--fill-color);\n",
              "    }\n",
              "    20% {\n",
              "      border-color: transparent;\n",
              "      border-left-color: var(--fill-color);\n",
              "      border-top-color: var(--fill-color);\n",
              "    }\n",
              "    30% {\n",
              "      border-color: transparent;\n",
              "      border-left-color: var(--fill-color);\n",
              "      border-top-color: var(--fill-color);\n",
              "      border-right-color: var(--fill-color);\n",
              "    }\n",
              "    40% {\n",
              "      border-color: transparent;\n",
              "      border-right-color: var(--fill-color);\n",
              "      border-top-color: var(--fill-color);\n",
              "    }\n",
              "    60% {\n",
              "      border-color: transparent;\n",
              "      border-right-color: var(--fill-color);\n",
              "    }\n",
              "    80% {\n",
              "      border-color: transparent;\n",
              "      border-right-color: var(--fill-color);\n",
              "      border-bottom-color: var(--fill-color);\n",
              "    }\n",
              "    90% {\n",
              "      border-color: transparent;\n",
              "      border-bottom-color: var(--fill-color);\n",
              "    }\n",
              "  }\n",
              "</style>\n",
              "\n",
              "  <script>\n",
              "    async function quickchart(key) {\n",
              "      const quickchartButtonEl =\n",
              "        document.querySelector('#' + key + ' button');\n",
              "      quickchartButtonEl.disabled = true;  // To prevent multiple clicks.\n",
              "      quickchartButtonEl.classList.add('colab-df-spinner');\n",
              "      try {\n",
              "        const charts = await google.colab.kernel.invokeFunction(\n",
              "            'suggestCharts', [key], {});\n",
              "      } catch (error) {\n",
              "        console.error('Error during call to suggestCharts:', error);\n",
              "      }\n",
              "      quickchartButtonEl.classList.remove('colab-df-spinner');\n",
              "      quickchartButtonEl.classList.add('colab-df-quickchart-complete');\n",
              "    }\n",
              "    (() => {\n",
              "      let quickchartButtonEl =\n",
              "        document.querySelector('#df-92fe9e31-29fb-40f2-9c30-d9b192dec73b button');\n",
              "      quickchartButtonEl.style.display =\n",
              "        google.colab.kernel.accessAllowed ? 'block' : 'none';\n",
              "    })();\n",
              "  </script>\n",
              "</div>\n",
              "\n",
              "    </div>\n",
              "  </div>\n"
            ],
            "application/vnd.google.colaboratory.intrinsic+json": {
              "type": "dataframe",
              "variable_name": "df_final",
              "summary": "{\n  \"name\": \"df_final\",\n  \"rows\": 65290,\n  \"fields\": [\n    {\n      \"column\": \"userId\",\n      \"properties\": {\n        \"dtype\": \"category\",\n        \"num_unique_values\": 1540,\n        \"samples\": [\n          \"A1VJ0V58N0698J\",\n          \"A14X244VGHWPSX\",\n          \"A14JBDSWKPKTZA\"\n        ],\n        \"semantic_type\": \"\",\n        \"description\": \"\"\n      }\n    },\n    {\n      \"column\": \"productId\",\n      \"properties\": {\n        \"dtype\": \"category\",\n        \"num_unique_values\": 5689,\n        \"samples\": [\n          \"B005EOWBHC\",\n          \"B00BB72WX4\",\n          \"B00B9AB26G\"\n        ],\n        \"semantic_type\": \"\",\n        \"description\": \"\"\n      }\n    },\n    {\n      \"column\": \"rating\",\n      \"properties\": {\n        \"dtype\": \"number\",\n        \"std\": 0.9889148020336815,\n        \"min\": 1.0,\n        \"max\": 5.0,\n        \"num_unique_values\": 5,\n        \"samples\": [\n          1.0,\n          2.0,\n          3.0\n        ],\n        \"semantic_type\": \"\",\n        \"description\": \"\"\n      }\n    },\n    {\n      \"column\": \"timestamp\",\n      \"properties\": {\n        \"dtype\": \"number\",\n        \"std\": 60276150,\n        \"min\": 956620800,\n        \"max\": 1406073600,\n        \"num_unique_values\": 3400,\n        \"samples\": [\n          1135296000,\n          1313712000,\n          1098144000\n        ],\n        \"semantic_type\": \"\",\n        \"description\": \"\"\n      }\n    }\n  ]\n}"
            }
          },
          "metadata": {},
          "execution_count": 10
        }
      ],
      "source": [
        "# Print a few rows of the imported dataset\n",
        "df_final.head()"
      ]
    },
    {
      "cell_type": "markdown",
      "metadata": {
        "id": "GuPoy_XfxhXZ"
      },
      "source": [
        "## **Exploratory Data Analysis**"
      ]
    },
    {
      "cell_type": "markdown",
      "metadata": {
        "id": "s0d0bWeG-sVB"
      },
      "source": [
        "### **Shape of the data**"
      ]
    },
    {
      "cell_type": "markdown",
      "metadata": {
        "id": "qyBVTRDTyek0"
      },
      "source": [
        "### **Check the number of rows and columns and provide observations.**"
      ]
    },
    {
      "cell_type": "code",
      "execution_count": 11,
      "metadata": {
        "colab": {
          "base_uri": "https://localhost:8080/"
        },
        "id": "fJ4eQKaY5JtQ",
        "outputId": "f06c40ba-ff08-4316-8801-5b7f6df4a742"
      },
      "outputs": [
        {
          "output_type": "execute_result",
          "data": {
            "text/plain": [
              "(125871, 4)"
            ]
          },
          "metadata": {},
          "execution_count": 11
        }
      ],
      "source": [
        "# Check the number of rows and columns and provide observations\n",
        "df.shape"
      ]
    },
    {
      "cell_type": "markdown",
      "metadata": {
        "id": "Slp-fgWQ-sVD"
      },
      "source": [
        "\n",
        "**Write your observations here:______**\n",
        "\n",
        "It has 125871 rows and 4 columns"
      ]
    },
    {
      "cell_type": "markdown",
      "metadata": {
        "id": "lAMWm0nC-sVF"
      },
      "source": [
        "### **Data types**"
      ]
    },
    {
      "cell_type": "code",
      "execution_count": 12,
      "metadata": {
        "colab": {
          "base_uri": "https://localhost:8080/"
        },
        "id": "SVrgMkye5JtQ",
        "outputId": "2440926b-2ab2-4661-ffe9-2724cca0c81d"
      },
      "outputs": [
        {
          "output_type": "stream",
          "name": "stdout",
          "text": [
            "<class 'pandas.core.frame.DataFrame'>\n",
            "Index: 125871 entries, 93 to 7824443\n",
            "Data columns (total 4 columns):\n",
            " #   Column     Non-Null Count   Dtype  \n",
            "---  ------     --------------   -----  \n",
            " 0   userId     125871 non-null  object \n",
            " 1   productId  125871 non-null  object \n",
            " 2   rating     125871 non-null  float64\n",
            " 3   timestamp  125871 non-null  int64  \n",
            "dtypes: float64(1), int64(1), object(2)\n",
            "memory usage: 4.8+ MB\n"
          ]
        }
      ],
      "source": [
        "# Check Data types and provide observations\n",
        "df.info()"
      ]
    },
    {
      "cell_type": "markdown",
      "metadata": {
        "id": "z4fOE02D-sVF"
      },
      "source": [
        "**Write your observations here:______**\n",
        "The userId, productId are of object datatype while rating is in float datatype and timestamp is in integer datatype\n",
        "\n"
      ]
    },
    {
      "cell_type": "markdown",
      "metadata": {
        "id": "lTMpOROT-sVG"
      },
      "source": [
        "### **Checking for missing values**\n",
        "\n",
        "*   List item\n",
        "*   List item\n",
        "\n"
      ]
    },
    {
      "cell_type": "code",
      "execution_count": 13,
      "metadata": {
        "colab": {
          "base_uri": "https://localhost:8080/",
          "height": 423
        },
        "id": "vt-VEjMA5JtQ",
        "outputId": "7974c2b0-f3fb-4916-d020-9ca51de7ade2"
      },
      "outputs": [
        {
          "output_type": "execute_result",
          "data": {
            "text/plain": [
              "         userId  productId  rating  timestamp\n",
              "93        False      False   False      False\n",
              "117       False      False   False      False\n",
              "176       False      False   False      False\n",
              "177       False      False   False      False\n",
              "491       False      False   False      False\n",
              "...         ...        ...     ...        ...\n",
              "7824425   False      False   False      False\n",
              "7824426   False      False   False      False\n",
              "7824435   False      False   False      False\n",
              "7824437   False      False   False      False\n",
              "7824443   False      False   False      False\n",
              "\n",
              "[125871 rows x 4 columns]"
            ],
            "text/html": [
              "\n",
              "  <div id=\"df-db0c7467-49ee-4221-a4f4-9dcfc6a31357\" class=\"colab-df-container\">\n",
              "    <div>\n",
              "<style scoped>\n",
              "    .dataframe tbody tr th:only-of-type {\n",
              "        vertical-align: middle;\n",
              "    }\n",
              "\n",
              "    .dataframe tbody tr th {\n",
              "        vertical-align: top;\n",
              "    }\n",
              "\n",
              "    .dataframe thead th {\n",
              "        text-align: right;\n",
              "    }\n",
              "</style>\n",
              "<table border=\"1\" class=\"dataframe\">\n",
              "  <thead>\n",
              "    <tr style=\"text-align: right;\">\n",
              "      <th></th>\n",
              "      <th>userId</th>\n",
              "      <th>productId</th>\n",
              "      <th>rating</th>\n",
              "      <th>timestamp</th>\n",
              "    </tr>\n",
              "  </thead>\n",
              "  <tbody>\n",
              "    <tr>\n",
              "      <th>93</th>\n",
              "      <td>False</td>\n",
              "      <td>False</td>\n",
              "      <td>False</td>\n",
              "      <td>False</td>\n",
              "    </tr>\n",
              "    <tr>\n",
              "      <th>117</th>\n",
              "      <td>False</td>\n",
              "      <td>False</td>\n",
              "      <td>False</td>\n",
              "      <td>False</td>\n",
              "    </tr>\n",
              "    <tr>\n",
              "      <th>176</th>\n",
              "      <td>False</td>\n",
              "      <td>False</td>\n",
              "      <td>False</td>\n",
              "      <td>False</td>\n",
              "    </tr>\n",
              "    <tr>\n",
              "      <th>177</th>\n",
              "      <td>False</td>\n",
              "      <td>False</td>\n",
              "      <td>False</td>\n",
              "      <td>False</td>\n",
              "    </tr>\n",
              "    <tr>\n",
              "      <th>491</th>\n",
              "      <td>False</td>\n",
              "      <td>False</td>\n",
              "      <td>False</td>\n",
              "      <td>False</td>\n",
              "    </tr>\n",
              "    <tr>\n",
              "      <th>...</th>\n",
              "      <td>...</td>\n",
              "      <td>...</td>\n",
              "      <td>...</td>\n",
              "      <td>...</td>\n",
              "    </tr>\n",
              "    <tr>\n",
              "      <th>7824425</th>\n",
              "      <td>False</td>\n",
              "      <td>False</td>\n",
              "      <td>False</td>\n",
              "      <td>False</td>\n",
              "    </tr>\n",
              "    <tr>\n",
              "      <th>7824426</th>\n",
              "      <td>False</td>\n",
              "      <td>False</td>\n",
              "      <td>False</td>\n",
              "      <td>False</td>\n",
              "    </tr>\n",
              "    <tr>\n",
              "      <th>7824435</th>\n",
              "      <td>False</td>\n",
              "      <td>False</td>\n",
              "      <td>False</td>\n",
              "      <td>False</td>\n",
              "    </tr>\n",
              "    <tr>\n",
              "      <th>7824437</th>\n",
              "      <td>False</td>\n",
              "      <td>False</td>\n",
              "      <td>False</td>\n",
              "      <td>False</td>\n",
              "    </tr>\n",
              "    <tr>\n",
              "      <th>7824443</th>\n",
              "      <td>False</td>\n",
              "      <td>False</td>\n",
              "      <td>False</td>\n",
              "      <td>False</td>\n",
              "    </tr>\n",
              "  </tbody>\n",
              "</table>\n",
              "<p>125871 rows × 4 columns</p>\n",
              "</div>\n",
              "    <div class=\"colab-df-buttons\">\n",
              "\n",
              "  <div class=\"colab-df-container\">\n",
              "    <button class=\"colab-df-convert\" onclick=\"convertToInteractive('df-db0c7467-49ee-4221-a4f4-9dcfc6a31357')\"\n",
              "            title=\"Convert this dataframe to an interactive table.\"\n",
              "            style=\"display:none;\">\n",
              "\n",
              "  <svg xmlns=\"http://www.w3.org/2000/svg\" height=\"24px\" viewBox=\"0 -960 960 960\">\n",
              "    <path d=\"M120-120v-720h720v720H120Zm60-500h600v-160H180v160Zm220 220h160v-160H400v160Zm0 220h160v-160H400v160ZM180-400h160v-160H180v160Zm440 0h160v-160H620v160ZM180-180h160v-160H180v160Zm440 0h160v-160H620v160Z\"/>\n",
              "  </svg>\n",
              "    </button>\n",
              "\n",
              "  <style>\n",
              "    .colab-df-container {\n",
              "      display:flex;\n",
              "      gap: 12px;\n",
              "    }\n",
              "\n",
              "    .colab-df-convert {\n",
              "      background-color: #E8F0FE;\n",
              "      border: none;\n",
              "      border-radius: 50%;\n",
              "      cursor: pointer;\n",
              "      display: none;\n",
              "      fill: #1967D2;\n",
              "      height: 32px;\n",
              "      padding: 0 0 0 0;\n",
              "      width: 32px;\n",
              "    }\n",
              "\n",
              "    .colab-df-convert:hover {\n",
              "      background-color: #E2EBFA;\n",
              "      box-shadow: 0px 1px 2px rgba(60, 64, 67, 0.3), 0px 1px 3px 1px rgba(60, 64, 67, 0.15);\n",
              "      fill: #174EA6;\n",
              "    }\n",
              "\n",
              "    .colab-df-buttons div {\n",
              "      margin-bottom: 4px;\n",
              "    }\n",
              "\n",
              "    [theme=dark] .colab-df-convert {\n",
              "      background-color: #3B4455;\n",
              "      fill: #D2E3FC;\n",
              "    }\n",
              "\n",
              "    [theme=dark] .colab-df-convert:hover {\n",
              "      background-color: #434B5C;\n",
              "      box-shadow: 0px 1px 3px 1px rgba(0, 0, 0, 0.15);\n",
              "      filter: drop-shadow(0px 1px 2px rgba(0, 0, 0, 0.3));\n",
              "      fill: #FFFFFF;\n",
              "    }\n",
              "  </style>\n",
              "\n",
              "    <script>\n",
              "      const buttonEl =\n",
              "        document.querySelector('#df-db0c7467-49ee-4221-a4f4-9dcfc6a31357 button.colab-df-convert');\n",
              "      buttonEl.style.display =\n",
              "        google.colab.kernel.accessAllowed ? 'block' : 'none';\n",
              "\n",
              "      async function convertToInteractive(key) {\n",
              "        const element = document.querySelector('#df-db0c7467-49ee-4221-a4f4-9dcfc6a31357');\n",
              "        const dataTable =\n",
              "          await google.colab.kernel.invokeFunction('convertToInteractive',\n",
              "                                                    [key], {});\n",
              "        if (!dataTable) return;\n",
              "\n",
              "        const docLinkHtml = 'Like what you see? Visit the ' +\n",
              "          '<a target=\"_blank\" href=https://colab.research.google.com/notebooks/data_table.ipynb>data table notebook</a>'\n",
              "          + ' to learn more about interactive tables.';\n",
              "        element.innerHTML = '';\n",
              "        dataTable['output_type'] = 'display_data';\n",
              "        await google.colab.output.renderOutput(dataTable, element);\n",
              "        const docLink = document.createElement('div');\n",
              "        docLink.innerHTML = docLinkHtml;\n",
              "        element.appendChild(docLink);\n",
              "      }\n",
              "    </script>\n",
              "  </div>\n",
              "\n",
              "\n",
              "<div id=\"df-159227dd-57a8-479e-9a5f-5f112d22f788\">\n",
              "  <button class=\"colab-df-quickchart\" onclick=\"quickchart('df-159227dd-57a8-479e-9a5f-5f112d22f788')\"\n",
              "            title=\"Suggest charts\"\n",
              "            style=\"display:none;\">\n",
              "\n",
              "<svg xmlns=\"http://www.w3.org/2000/svg\" height=\"24px\"viewBox=\"0 0 24 24\"\n",
              "     width=\"24px\">\n",
              "    <g>\n",
              "        <path d=\"M19 3H5c-1.1 0-2 .9-2 2v14c0 1.1.9 2 2 2h14c1.1 0 2-.9 2-2V5c0-1.1-.9-2-2-2zM9 17H7v-7h2v7zm4 0h-2V7h2v10zm4 0h-2v-4h2v4z\"/>\n",
              "    </g>\n",
              "</svg>\n",
              "  </button>\n",
              "\n",
              "<style>\n",
              "  .colab-df-quickchart {\n",
              "      --bg-color: #E8F0FE;\n",
              "      --fill-color: #1967D2;\n",
              "      --hover-bg-color: #E2EBFA;\n",
              "      --hover-fill-color: #174EA6;\n",
              "      --disabled-fill-color: #AAA;\n",
              "      --disabled-bg-color: #DDD;\n",
              "  }\n",
              "\n",
              "  [theme=dark] .colab-df-quickchart {\n",
              "      --bg-color: #3B4455;\n",
              "      --fill-color: #D2E3FC;\n",
              "      --hover-bg-color: #434B5C;\n",
              "      --hover-fill-color: #FFFFFF;\n",
              "      --disabled-bg-color: #3B4455;\n",
              "      --disabled-fill-color: #666;\n",
              "  }\n",
              "\n",
              "  .colab-df-quickchart {\n",
              "    background-color: var(--bg-color);\n",
              "    border: none;\n",
              "    border-radius: 50%;\n",
              "    cursor: pointer;\n",
              "    display: none;\n",
              "    fill: var(--fill-color);\n",
              "    height: 32px;\n",
              "    padding: 0;\n",
              "    width: 32px;\n",
              "  }\n",
              "\n",
              "  .colab-df-quickchart:hover {\n",
              "    background-color: var(--hover-bg-color);\n",
              "    box-shadow: 0 1px 2px rgba(60, 64, 67, 0.3), 0 1px 3px 1px rgba(60, 64, 67, 0.15);\n",
              "    fill: var(--button-hover-fill-color);\n",
              "  }\n",
              "\n",
              "  .colab-df-quickchart-complete:disabled,\n",
              "  .colab-df-quickchart-complete:disabled:hover {\n",
              "    background-color: var(--disabled-bg-color);\n",
              "    fill: var(--disabled-fill-color);\n",
              "    box-shadow: none;\n",
              "  }\n",
              "\n",
              "  .colab-df-spinner {\n",
              "    border: 2px solid var(--fill-color);\n",
              "    border-color: transparent;\n",
              "    border-bottom-color: var(--fill-color);\n",
              "    animation:\n",
              "      spin 1s steps(1) infinite;\n",
              "  }\n",
              "\n",
              "  @keyframes spin {\n",
              "    0% {\n",
              "      border-color: transparent;\n",
              "      border-bottom-color: var(--fill-color);\n",
              "      border-left-color: var(--fill-color);\n",
              "    }\n",
              "    20% {\n",
              "      border-color: transparent;\n",
              "      border-left-color: var(--fill-color);\n",
              "      border-top-color: var(--fill-color);\n",
              "    }\n",
              "    30% {\n",
              "      border-color: transparent;\n",
              "      border-left-color: var(--fill-color);\n",
              "      border-top-color: var(--fill-color);\n",
              "      border-right-color: var(--fill-color);\n",
              "    }\n",
              "    40% {\n",
              "      border-color: transparent;\n",
              "      border-right-color: var(--fill-color);\n",
              "      border-top-color: var(--fill-color);\n",
              "    }\n",
              "    60% {\n",
              "      border-color: transparent;\n",
              "      border-right-color: var(--fill-color);\n",
              "    }\n",
              "    80% {\n",
              "      border-color: transparent;\n",
              "      border-right-color: var(--fill-color);\n",
              "      border-bottom-color: var(--fill-color);\n",
              "    }\n",
              "    90% {\n",
              "      border-color: transparent;\n",
              "      border-bottom-color: var(--fill-color);\n",
              "    }\n",
              "  }\n",
              "</style>\n",
              "\n",
              "  <script>\n",
              "    async function quickchart(key) {\n",
              "      const quickchartButtonEl =\n",
              "        document.querySelector('#' + key + ' button');\n",
              "      quickchartButtonEl.disabled = true;  // To prevent multiple clicks.\n",
              "      quickchartButtonEl.classList.add('colab-df-spinner');\n",
              "      try {\n",
              "        const charts = await google.colab.kernel.invokeFunction(\n",
              "            'suggestCharts', [key], {});\n",
              "      } catch (error) {\n",
              "        console.error('Error during call to suggestCharts:', error);\n",
              "      }\n",
              "      quickchartButtonEl.classList.remove('colab-df-spinner');\n",
              "      quickchartButtonEl.classList.add('colab-df-quickchart-complete');\n",
              "    }\n",
              "    (() => {\n",
              "      let quickchartButtonEl =\n",
              "        document.querySelector('#df-159227dd-57a8-479e-9a5f-5f112d22f788 button');\n",
              "      quickchartButtonEl.style.display =\n",
              "        google.colab.kernel.accessAllowed ? 'block' : 'none';\n",
              "    })();\n",
              "  </script>\n",
              "</div>\n",
              "\n",
              "    </div>\n",
              "  </div>\n"
            ],
            "application/vnd.google.colaboratory.intrinsic+json": {
              "type": "dataframe"
            }
          },
          "metadata": {},
          "execution_count": 13
        }
      ],
      "source": [
        "# Check for missing values present and provide observations\n",
        "df.isnull()\n"
      ]
    },
    {
      "cell_type": "markdown",
      "metadata": {
        "id": "qMWuBNhI5JtR"
      },
      "source": [
        "**Write your observations here:______**\n",
        "\n",
        "If there is any null value in the dataframe it is returned as true while others are returned as false\n",
        "\n"
      ]
    },
    {
      "cell_type": "markdown",
      "metadata": {
        "id": "wETrCg48-sVG"
      },
      "source": [
        "### **Summary Statistics**"
      ]
    },
    {
      "cell_type": "code",
      "execution_count": 14,
      "metadata": {
        "colab": {
          "base_uri": "https://localhost:8080/",
          "height": 300
        },
        "id": "tYm30MXR5JtR",
        "outputId": "ba7803d9-ff10-46a6-8e05-a4791bb6e883"
      },
      "outputs": [
        {
          "output_type": "execute_result",
          "data": {
            "text/plain": [
              "              rating     timestamp\n",
              "count  125871.000000  1.258710e+05\n",
              "mean        4.261339  1.321979e+09\n",
              "std         1.062144  7.583599e+07\n",
              "min         1.000000  9.396000e+08\n",
              "25%         4.000000  1.286928e+09\n",
              "50%         5.000000  1.346717e+09\n",
              "75%         5.000000  1.377130e+09\n",
              "max         5.000000  1.406074e+09"
            ],
            "text/html": [
              "\n",
              "  <div id=\"df-6fa7d5d5-3285-4c9d-8c2f-b1e893a3aa9c\" class=\"colab-df-container\">\n",
              "    <div>\n",
              "<style scoped>\n",
              "    .dataframe tbody tr th:only-of-type {\n",
              "        vertical-align: middle;\n",
              "    }\n",
              "\n",
              "    .dataframe tbody tr th {\n",
              "        vertical-align: top;\n",
              "    }\n",
              "\n",
              "    .dataframe thead th {\n",
              "        text-align: right;\n",
              "    }\n",
              "</style>\n",
              "<table border=\"1\" class=\"dataframe\">\n",
              "  <thead>\n",
              "    <tr style=\"text-align: right;\">\n",
              "      <th></th>\n",
              "      <th>rating</th>\n",
              "      <th>timestamp</th>\n",
              "    </tr>\n",
              "  </thead>\n",
              "  <tbody>\n",
              "    <tr>\n",
              "      <th>count</th>\n",
              "      <td>125871.000000</td>\n",
              "      <td>1.258710e+05</td>\n",
              "    </tr>\n",
              "    <tr>\n",
              "      <th>mean</th>\n",
              "      <td>4.261339</td>\n",
              "      <td>1.321979e+09</td>\n",
              "    </tr>\n",
              "    <tr>\n",
              "      <th>std</th>\n",
              "      <td>1.062144</td>\n",
              "      <td>7.583599e+07</td>\n",
              "    </tr>\n",
              "    <tr>\n",
              "      <th>min</th>\n",
              "      <td>1.000000</td>\n",
              "      <td>9.396000e+08</td>\n",
              "    </tr>\n",
              "    <tr>\n",
              "      <th>25%</th>\n",
              "      <td>4.000000</td>\n",
              "      <td>1.286928e+09</td>\n",
              "    </tr>\n",
              "    <tr>\n",
              "      <th>50%</th>\n",
              "      <td>5.000000</td>\n",
              "      <td>1.346717e+09</td>\n",
              "    </tr>\n",
              "    <tr>\n",
              "      <th>75%</th>\n",
              "      <td>5.000000</td>\n",
              "      <td>1.377130e+09</td>\n",
              "    </tr>\n",
              "    <tr>\n",
              "      <th>max</th>\n",
              "      <td>5.000000</td>\n",
              "      <td>1.406074e+09</td>\n",
              "    </tr>\n",
              "  </tbody>\n",
              "</table>\n",
              "</div>\n",
              "    <div class=\"colab-df-buttons\">\n",
              "\n",
              "  <div class=\"colab-df-container\">\n",
              "    <button class=\"colab-df-convert\" onclick=\"convertToInteractive('df-6fa7d5d5-3285-4c9d-8c2f-b1e893a3aa9c')\"\n",
              "            title=\"Convert this dataframe to an interactive table.\"\n",
              "            style=\"display:none;\">\n",
              "\n",
              "  <svg xmlns=\"http://www.w3.org/2000/svg\" height=\"24px\" viewBox=\"0 -960 960 960\">\n",
              "    <path d=\"M120-120v-720h720v720H120Zm60-500h600v-160H180v160Zm220 220h160v-160H400v160Zm0 220h160v-160H400v160ZM180-400h160v-160H180v160Zm440 0h160v-160H620v160ZM180-180h160v-160H180v160Zm440 0h160v-160H620v160Z\"/>\n",
              "  </svg>\n",
              "    </button>\n",
              "\n",
              "  <style>\n",
              "    .colab-df-container {\n",
              "      display:flex;\n",
              "      gap: 12px;\n",
              "    }\n",
              "\n",
              "    .colab-df-convert {\n",
              "      background-color: #E8F0FE;\n",
              "      border: none;\n",
              "      border-radius: 50%;\n",
              "      cursor: pointer;\n",
              "      display: none;\n",
              "      fill: #1967D2;\n",
              "      height: 32px;\n",
              "      padding: 0 0 0 0;\n",
              "      width: 32px;\n",
              "    }\n",
              "\n",
              "    .colab-df-convert:hover {\n",
              "      background-color: #E2EBFA;\n",
              "      box-shadow: 0px 1px 2px rgba(60, 64, 67, 0.3), 0px 1px 3px 1px rgba(60, 64, 67, 0.15);\n",
              "      fill: #174EA6;\n",
              "    }\n",
              "\n",
              "    .colab-df-buttons div {\n",
              "      margin-bottom: 4px;\n",
              "    }\n",
              "\n",
              "    [theme=dark] .colab-df-convert {\n",
              "      background-color: #3B4455;\n",
              "      fill: #D2E3FC;\n",
              "    }\n",
              "\n",
              "    [theme=dark] .colab-df-convert:hover {\n",
              "      background-color: #434B5C;\n",
              "      box-shadow: 0px 1px 3px 1px rgba(0, 0, 0, 0.15);\n",
              "      filter: drop-shadow(0px 1px 2px rgba(0, 0, 0, 0.3));\n",
              "      fill: #FFFFFF;\n",
              "    }\n",
              "  </style>\n",
              "\n",
              "    <script>\n",
              "      const buttonEl =\n",
              "        document.querySelector('#df-6fa7d5d5-3285-4c9d-8c2f-b1e893a3aa9c button.colab-df-convert');\n",
              "      buttonEl.style.display =\n",
              "        google.colab.kernel.accessAllowed ? 'block' : 'none';\n",
              "\n",
              "      async function convertToInteractive(key) {\n",
              "        const element = document.querySelector('#df-6fa7d5d5-3285-4c9d-8c2f-b1e893a3aa9c');\n",
              "        const dataTable =\n",
              "          await google.colab.kernel.invokeFunction('convertToInteractive',\n",
              "                                                    [key], {});\n",
              "        if (!dataTable) return;\n",
              "\n",
              "        const docLinkHtml = 'Like what you see? Visit the ' +\n",
              "          '<a target=\"_blank\" href=https://colab.research.google.com/notebooks/data_table.ipynb>data table notebook</a>'\n",
              "          + ' to learn more about interactive tables.';\n",
              "        element.innerHTML = '';\n",
              "        dataTable['output_type'] = 'display_data';\n",
              "        await google.colab.output.renderOutput(dataTable, element);\n",
              "        const docLink = document.createElement('div');\n",
              "        docLink.innerHTML = docLinkHtml;\n",
              "        element.appendChild(docLink);\n",
              "      }\n",
              "    </script>\n",
              "  </div>\n",
              "\n",
              "\n",
              "<div id=\"df-6af2e3e6-59ed-4135-85b2-d152776cae8b\">\n",
              "  <button class=\"colab-df-quickchart\" onclick=\"quickchart('df-6af2e3e6-59ed-4135-85b2-d152776cae8b')\"\n",
              "            title=\"Suggest charts\"\n",
              "            style=\"display:none;\">\n",
              "\n",
              "<svg xmlns=\"http://www.w3.org/2000/svg\" height=\"24px\"viewBox=\"0 0 24 24\"\n",
              "     width=\"24px\">\n",
              "    <g>\n",
              "        <path d=\"M19 3H5c-1.1 0-2 .9-2 2v14c0 1.1.9 2 2 2h14c1.1 0 2-.9 2-2V5c0-1.1-.9-2-2-2zM9 17H7v-7h2v7zm4 0h-2V7h2v10zm4 0h-2v-4h2v4z\"/>\n",
              "    </g>\n",
              "</svg>\n",
              "  </button>\n",
              "\n",
              "<style>\n",
              "  .colab-df-quickchart {\n",
              "      --bg-color: #E8F0FE;\n",
              "      --fill-color: #1967D2;\n",
              "      --hover-bg-color: #E2EBFA;\n",
              "      --hover-fill-color: #174EA6;\n",
              "      --disabled-fill-color: #AAA;\n",
              "      --disabled-bg-color: #DDD;\n",
              "  }\n",
              "\n",
              "  [theme=dark] .colab-df-quickchart {\n",
              "      --bg-color: #3B4455;\n",
              "      --fill-color: #D2E3FC;\n",
              "      --hover-bg-color: #434B5C;\n",
              "      --hover-fill-color: #FFFFFF;\n",
              "      --disabled-bg-color: #3B4455;\n",
              "      --disabled-fill-color: #666;\n",
              "  }\n",
              "\n",
              "  .colab-df-quickchart {\n",
              "    background-color: var(--bg-color);\n",
              "    border: none;\n",
              "    border-radius: 50%;\n",
              "    cursor: pointer;\n",
              "    display: none;\n",
              "    fill: var(--fill-color);\n",
              "    height: 32px;\n",
              "    padding: 0;\n",
              "    width: 32px;\n",
              "  }\n",
              "\n",
              "  .colab-df-quickchart:hover {\n",
              "    background-color: var(--hover-bg-color);\n",
              "    box-shadow: 0 1px 2px rgba(60, 64, 67, 0.3), 0 1px 3px 1px rgba(60, 64, 67, 0.15);\n",
              "    fill: var(--button-hover-fill-color);\n",
              "  }\n",
              "\n",
              "  .colab-df-quickchart-complete:disabled,\n",
              "  .colab-df-quickchart-complete:disabled:hover {\n",
              "    background-color: var(--disabled-bg-color);\n",
              "    fill: var(--disabled-fill-color);\n",
              "    box-shadow: none;\n",
              "  }\n",
              "\n",
              "  .colab-df-spinner {\n",
              "    border: 2px solid var(--fill-color);\n",
              "    border-color: transparent;\n",
              "    border-bottom-color: var(--fill-color);\n",
              "    animation:\n",
              "      spin 1s steps(1) infinite;\n",
              "  }\n",
              "\n",
              "  @keyframes spin {\n",
              "    0% {\n",
              "      border-color: transparent;\n",
              "      border-bottom-color: var(--fill-color);\n",
              "      border-left-color: var(--fill-color);\n",
              "    }\n",
              "    20% {\n",
              "      border-color: transparent;\n",
              "      border-left-color: var(--fill-color);\n",
              "      border-top-color: var(--fill-color);\n",
              "    }\n",
              "    30% {\n",
              "      border-color: transparent;\n",
              "      border-left-color: var(--fill-color);\n",
              "      border-top-color: var(--fill-color);\n",
              "      border-right-color: var(--fill-color);\n",
              "    }\n",
              "    40% {\n",
              "      border-color: transparent;\n",
              "      border-right-color: var(--fill-color);\n",
              "      border-top-color: var(--fill-color);\n",
              "    }\n",
              "    60% {\n",
              "      border-color: transparent;\n",
              "      border-right-color: var(--fill-color);\n",
              "    }\n",
              "    80% {\n",
              "      border-color: transparent;\n",
              "      border-right-color: var(--fill-color);\n",
              "      border-bottom-color: var(--fill-color);\n",
              "    }\n",
              "    90% {\n",
              "      border-color: transparent;\n",
              "      border-bottom-color: var(--fill-color);\n",
              "    }\n",
              "  }\n",
              "</style>\n",
              "\n",
              "  <script>\n",
              "    async function quickchart(key) {\n",
              "      const quickchartButtonEl =\n",
              "        document.querySelector('#' + key + ' button');\n",
              "      quickchartButtonEl.disabled = true;  // To prevent multiple clicks.\n",
              "      quickchartButtonEl.classList.add('colab-df-spinner');\n",
              "      try {\n",
              "        const charts = await google.colab.kernel.invokeFunction(\n",
              "            'suggestCharts', [key], {});\n",
              "      } catch (error) {\n",
              "        console.error('Error during call to suggestCharts:', error);\n",
              "      }\n",
              "      quickchartButtonEl.classList.remove('colab-df-spinner');\n",
              "      quickchartButtonEl.classList.add('colab-df-quickchart-complete');\n",
              "    }\n",
              "    (() => {\n",
              "      let quickchartButtonEl =\n",
              "        document.querySelector('#df-6af2e3e6-59ed-4135-85b2-d152776cae8b button');\n",
              "      quickchartButtonEl.style.display =\n",
              "        google.colab.kernel.accessAllowed ? 'block' : 'none';\n",
              "    })();\n",
              "  </script>\n",
              "</div>\n",
              "\n",
              "    </div>\n",
              "  </div>\n"
            ],
            "application/vnd.google.colaboratory.intrinsic+json": {
              "type": "dataframe",
              "summary": "{\n  \"name\": \"df\",\n  \"rows\": 8,\n  \"fields\": [\n    {\n      \"column\": \"rating\",\n      \"properties\": {\n        \"dtype\": \"number\",\n        \"std\": 44500.839829903445,\n        \"min\": 1.0,\n        \"max\": 125871.0,\n        \"num_unique_values\": 6,\n        \"samples\": [\n          125871.0,\n          4.26133898991825,\n          5.0\n        ],\n        \"semantic_type\": \"\",\n        \"description\": \"\"\n      }\n    },\n    {\n      \"column\": \"timestamp\",\n      \"properties\": {\n        \"dtype\": \"number\",\n        \"std\": 593207764.6273066,\n        \"min\": 125871.0,\n        \"max\": 1406073600.0,\n        \"num_unique_values\": 8,\n        \"samples\": [\n          1321979017.4512,\n          1346716800.0,\n          125871.0\n        ],\n        \"semantic_type\": \"\",\n        \"description\": \"\"\n      }\n    }\n  ]\n}"
            }
          },
          "metadata": {},
          "execution_count": 14
        }
      ],
      "source": [
        "# Summary statistics of 'rating' variable and provide observations\n",
        "df.describe()\n"
      ]
    },
    {
      "cell_type": "markdown",
      "metadata": {
        "id": "ywyFrZIf5JtR"
      },
      "source": [
        "### **Checking the rating distribution**"
      ]
    },
    {
      "cell_type": "markdown",
      "metadata": {
        "id": "VqW50EIJxhXc"
      },
      "source": [
        "**Write your observations here:______**\n",
        "\n",
        "For the numerical columns rating and timestamp the mean is 4.2 and 1.32 respectively\n",
        "while min and max vales are 1 and 5 for rating while for timestaml it is 9.39x10^8 and 1.40x10^9"
      ]
    },
    {
      "cell_type": "code",
      "execution_count": 15,
      "metadata": {
        "colab": {
          "base_uri": "https://localhost:8080/",
          "height": 472
        },
        "id": "QbqhbEVe-sVH",
        "outputId": "b80dce98-1ab6-42f4-e358-84d12c4f5e54"
      },
      "outputs": [
        {
          "output_type": "display_data",
          "data": {
            "text/plain": [
              "<Figure size 640x480 with 1 Axes>"
            ],
            "image/png": "[encoded data removed]"
          },
          "metadata": {}
        }
      ],
      "source": [
        "# Create the bar plot and provide observations\n",
        "sns.countplot(data=df, x='rating')\n",
        "plt.title('Rating Distribution')\n",
        "plt.xlabel('Rating')\n",
        "plt.ylabel('Count')\n",
        "plt.show()"
      ]
    },
    {
      "cell_type": "markdown",
      "metadata": {
        "id": "t0jONrQv-sVH"
      },
      "source": [
        "**Write your observations here:________**\n",
        "\n",
        "For about 70000 counts if users they have rated 5\n",
        "\n"
      ]
    },
    {
      "cell_type": "markdown",
      "metadata": {
        "id": "HefpLdLJxhXd"
      },
      "source": [
        "### **Checking the number of unique users and items in the dataset**"
      ]
    },
    {
      "cell_type": "code",
      "execution_count": 16,
      "metadata": {
        "colab": {
          "base_uri": "https://localhost:8080/"
        },
        "id": "NbSom7195JtR",
        "outputId": "a5a0b9a8-e2b8-4bce-bab2-4df8090d0a19"
      },
      "outputs": [
        {
          "output_type": "execute_result",
          "data": {
            "text/plain": [
              "1540"
            ]
          },
          "metadata": {},
          "execution_count": 16
        }
      ],
      "source": [
        "# Number of total rows in the data and number of unique user id and product id in the data\n",
        "df['userId'].nunique()"
      ]
    },
    {
      "cell_type": "markdown",
      "metadata": {
        "id": "Qwgz6CUt-sVI"
      },
      "source": [
        "**Write your observations here:_______**\n",
        "\n",
        "There are about 1540 unique values in the frame"
      ]
    },
    {
      "cell_type": "markdown",
      "metadata": {
        "id": "RfDnhSS4-sVI"
      },
      "source": [
        "### **Users with the most number of ratings**"
      ]
    },
    {
      "cell_type": "code",
      "execution_count": 17,
      "metadata": {
        "colab": {
          "base_uri": "https://localhost:8080/",
          "height": 429
        },
        "id": "n7MX452q5JtR",
        "outputId": "c1460547-462f-4058-b212-46832cc9fb73"
      },
      "outputs": [
        {
          "output_type": "execute_result",
          "data": {
            "text/plain": [
              "userId\n",
              "A5JLAU2ARJ0BO     520\n",
              "ADLVFFE4VBT8      501\n",
              "A3OXHLG6DIBRW8    498\n",
              "A6FIAB28IS79      431\n",
              "A680RUE1FDO8B     406\n",
              "A1ODOGXEYECQQ8    380\n",
              "A36K2N527TXXJN    314\n",
              "A2AY4YUOX2N1BQ    311\n",
              "AWPODHOB4GFWL     308\n",
              "ARBKYIVNYWK3C     296\n",
              "dtype: int64"
            ],
            "text/html": [
              "<div>\n",
              "<style scoped>\n",
              "    .dataframe tbody tr th:only-of-type {\n",
              "        vertical-align: middle;\n",
              "    }\n",
              "\n",
              "    .dataframe tbody tr th {\n",
              "        vertical-align: top;\n",
              "    }\n",
              "\n",
              "    .dataframe thead th {\n",
              "        text-align: right;\n",
              "    }\n",
              "</style>\n",
              "<table border=\"1\" class=\"dataframe\">\n",
              "  <thead>\n",
              "    <tr style=\"text-align: right;\">\n",
              "      <th></th>\n",
              "      <th>0</th>\n",
              "    </tr>\n",
              "    <tr>\n",
              "      <th>userId</th>\n",
              "      <th></th>\n",
              "    </tr>\n",
              "  </thead>\n",
              "  <tbody>\n",
              "    <tr>\n",
              "      <th>A5JLAU2ARJ0BO</th>\n",
              "      <td>520</td>\n",
              "    </tr>\n",
              "    <tr>\n",
              "      <th>ADLVFFE4VBT8</th>\n",
              "      <td>501</td>\n",
              "    </tr>\n",
              "    <tr>\n",
              "      <th>A3OXHLG6DIBRW8</th>\n",
              "      <td>498</td>\n",
              "    </tr>\n",
              "    <tr>\n",
              "      <th>A6FIAB28IS79</th>\n",
              "      <td>431</td>\n",
              "    </tr>\n",
              "    <tr>\n",
              "      <th>A680RUE1FDO8B</th>\n",
              "      <td>406</td>\n",
              "    </tr>\n",
              "    <tr>\n",
              "      <th>A1ODOGXEYECQQ8</th>\n",
              "      <td>380</td>\n",
              "    </tr>\n",
              "    <tr>\n",
              "      <th>A36K2N527TXXJN</th>\n",
              "      <td>314</td>\n",
              "    </tr>\n",
              "    <tr>\n",
              "      <th>A2AY4YUOX2N1BQ</th>\n",
              "      <td>311</td>\n",
              "    </tr>\n",
              "    <tr>\n",
              "      <th>AWPODHOB4GFWL</th>\n",
              "      <td>308</td>\n",
              "    </tr>\n",
              "    <tr>\n",
              "      <th>ARBKYIVNYWK3C</th>\n",
              "      <td>296</td>\n",
              "    </tr>\n",
              "  </tbody>\n",
              "</table>\n",
              "</div><br><label><b>dtype:</b> int64</label>"
            ]
          },
          "metadata": {},
          "execution_count": 17
        }
      ],
      "source": [
        "# Top 10 users based on the number of ratings\n",
        "top_users = df.groupby('userId').size().sort_values(ascending=False).head(10)\n",
        "top_users"
      ]
    },
    {
      "cell_type": "markdown",
      "metadata": {
        "id": "1X2w_jt9-sVI"
      },
      "source": [
        "**Write your observations here:_______**\n",
        "\n",
        "A5JLAU2ARJ0BO has the most number of rating 520 followed by ADLVFFE4VBT8\t aving 501 ratings\n",
        "\n",
        "\n",
        "\n"
      ]
    },
    {
      "cell_type": "markdown",
      "metadata": {
        "id": "EnYTx-Ol-sVg"
      },
      "source": [
        "**Now that we have explored and prepared the data, let's build the first recommendation system.**"
      ]
    },
    {
      "cell_type": "markdown",
      "metadata": {
        "id": "6xYGrGVy5JtS"
      },
      "source": [
        "## **Model 1: Rank Based Recommendation System**"
      ]
    },
    {
      "cell_type": "code",
      "execution_count": 18,
      "metadata": {
        "colab": {
          "base_uri": "https://localhost:8080/",
          "height": 423
        },
        "id": "yxZTj1UPxhXh",
        "outputId": "77f6a8e8-1480-4c0b-eb32-d5c3289a8bd2",
        "scrolled": true
      },
      "outputs": [
        {
          "output_type": "execute_result",
          "data": {
            "text/plain": [
              "                 userId   productId  rating   timestamp\n",
              "93       A3BY5KCNQZXV5U  0594451647     5.0  1390176000\n",
              "117       AT09WGFUM934H  0594481813     3.0  1377907200\n",
              "176      A32HSNCNPRUMTR  0970407998     1.0  1319673600\n",
              "177      A17HMM1M7T9PJ1  0970407998     4.0  1281744000\n",
              "491      A3CLWR1UUZT6TG  0972683275     5.0  1373587200\n",
              "...                 ...         ...     ...         ...\n",
              "7824425   A1E1LEVQ9VQNK  B00LGQ6HL8     5.0  1405641600\n",
              "7824426  A2NYK9KWFMJV4Y  B00LGQ6HL8     5.0  1405209600\n",
              "7824435  A3AYSYSLHU26U9  B00LI4ZZO8     4.0  1405296000\n",
              "7824437  A2NYK9KWFMJV4Y  B00LI4ZZO8     5.0  1405209600\n",
              "7824443  A2BYV7S1QP2YIG  B00LKG1MC8     5.0  1404950400\n",
              "\n",
              "[125871 rows x 4 columns]"
            ],
            "text/html": [
              "\n",
              "  <div id=\"df-d7f3d10c-be08-4b6a-b3cf-dc7757c8b4af\" class=\"colab-df-container\">\n",
              "    <div>\n",
              "<style scoped>\n",
              "    .dataframe tbody tr th:only-of-type {\n",
              "        vertical-align: middle;\n",
              "    }\n",
              "\n",
              "    .dataframe tbody tr th {\n",
              "        vertical-align: top;\n",
              "    }\n",
              "\n",
              "    .dataframe thead th {\n",
              "        text-align: right;\n",
              "    }\n",
              "</style>\n",
              "<table border=\"1\" class=\"dataframe\">\n",
              "  <thead>\n",
              "    <tr style=\"text-align: right;\">\n",
              "      <th></th>\n",
              "      <th>userId</th>\n",
              "      <th>productId</th>\n",
              "      <th>rating</th>\n",
              "      <th>timestamp</th>\n",
              "    </tr>\n",
              "  </thead>\n",
              "  <tbody>\n",
              "    <tr>\n",
              "      <th>93</th>\n",
              "      <td>A3BY5KCNQZXV5U</td>\n",
              "      <td>0594451647</td>\n",
              "      <td>5.0</td>\n",
              "      <td>1390176000</td>\n",
              "    </tr>\n",
              "    <tr>\n",
              "      <th>117</th>\n",
              "      <td>AT09WGFUM934H</td>\n",
              "      <td>0594481813</td>\n",
              "      <td>3.0</td>\n",
              "      <td>1377907200</td>\n",
              "    </tr>\n",
              "    <tr>\n",
              "      <th>176</th>\n",
              "      <td>A32HSNCNPRUMTR</td>\n",
              "      <td>0970407998</td>\n",
              "      <td>1.0</td>\n",
              "      <td>1319673600</td>\n",
              "    </tr>\n",
              "    <tr>\n",
              "      <th>177</th>\n",
              "      <td>A17HMM1M7T9PJ1</td>\n",
              "      <td>0970407998</td>\n",
              "      <td>4.0</td>\n",
              "      <td>1281744000</td>\n",
              "    </tr>\n",
              "    <tr>\n",
              "      <th>491</th>\n",
              "      <td>A3CLWR1UUZT6TG</td>\n",
              "      <td>0972683275</td>\n",
              "      <td>5.0</td>\n",
              "      <td>1373587200</td>\n",
              "    </tr>\n",
              "    <tr>\n",
              "      <th>...</th>\n",
              "      <td>...</td>\n",
              "      <td>...</td>\n",
              "      <td>...</td>\n",
              "      <td>...</td>\n",
              "    </tr>\n",
              "    <tr>\n",
              "      <th>7824425</th>\n",
              "      <td>A1E1LEVQ9VQNK</td>\n",
              "      <td>B00LGQ6HL8</td>\n",
              "      <td>5.0</td>\n",
              "      <td>1405641600</td>\n",
              "    </tr>\n",
              "    <tr>\n",
              "      <th>7824426</th>\n",
              "      <td>A2NYK9KWFMJV4Y</td>\n",
              "      <td>B00LGQ6HL8</td>\n",
              "      <td>5.0</td>\n",
              "      <td>1405209600</td>\n",
              "    </tr>\n",
              "    <tr>\n",
              "      <th>7824435</th>\n",
              "      <td>A3AYSYSLHU26U9</td>\n",
              "      <td>B00LI4ZZO8</td>\n",
              "      <td>4.0</td>\n",
              "      <td>1405296000</td>\n",
              "    </tr>\n",
              "    <tr>\n",
              "      <th>7824437</th>\n",
              "      <td>A2NYK9KWFMJV4Y</td>\n",
              "      <td>B00LI4ZZO8</td>\n",
              "      <td>5.0</td>\n",
              "      <td>1405209600</td>\n",
              "    </tr>\n",
              "    <tr>\n",
              "      <th>7824443</th>\n",
              "      <td>A2BYV7S1QP2YIG</td>\n",
              "      <td>B00LKG1MC8</td>\n",
              "      <td>5.0</td>\n",
              "      <td>1404950400</td>\n",
              "    </tr>\n",
              "  </tbody>\n",
              "</table>\n",
              "<p>125871 rows × 4 columns</p>\n",
              "</div>\n",
              "    <div class=\"colab-df-buttons\">\n",
              "\n",
              "  <div class=\"colab-df-container\">\n",
              "    <button class=\"colab-df-convert\" onclick=\"convertToInteractive('df-d7f3d10c-be08-4b6a-b3cf-dc7757c8b4af')\"\n",
              "            title=\"Convert this dataframe to an interactive table.\"\n",
              "            style=\"display:none;\">\n",
              "\n",
              "  <svg xmlns=\"http://www.w3.org/2000/svg\" height=\"24px\" viewBox=\"0 -960 960 960\">\n",
              "    <path d=\"M120-120v-720h720v720H120Zm60-500h600v-160H180v160Zm220 220h160v-160H400v160Zm0 220h160v-160H400v160ZM180-400h160v-160H180v160Zm440 0h160v-160H620v160ZM180-180h160v-160H180v160Zm440 0h160v-160H620v160Z\"/>\n",
              "  </svg>\n",
              "    </button>\n",
              "\n",
              "  <style>\n",
              "    .colab-df-container {\n",
              "      display:flex;\n",
              "      gap: 12px;\n",
              "    }\n",
              "\n",
              "    .colab-df-convert {\n",
              "      background-color: #E8F0FE;\n",
              "      border: none;\n",
              "      border-radius: 50%;\n",
              "      cursor: pointer;\n",
              "      display: none;\n",
              "      fill: #1967D2;\n",
              "      height: 32px;\n",
              "      padding: 0 0 0 0;\n",
              "      width: 32px;\n",
              "    }\n",
              "\n",
              "    .colab-df-convert:hover {\n",
              "      background-color: #E2EBFA;\n",
              "      box-shadow: 0px 1px 2px rgba(60, 64, 67, 0.3), 0px 1px 3px 1px rgba(60, 64, 67, 0.15);\n",
              "      fill: #174EA6;\n",
              "    }\n",
              "\n",
              "    .colab-df-buttons div {\n",
              "      margin-bottom: 4px;\n",
              "    }\n",
              "\n",
              "    [theme=dark] .colab-df-convert {\n",
              "      background-color: #3B4455;\n",
              "      fill: #D2E3FC;\n",
              "    }\n",
              "\n",
              "    [theme=dark] .colab-df-convert:hover {\n",
              "      background-color: #434B5C;\n",
              "      box-shadow: 0px 1px 3px 1px rgba(0, 0, 0, 0.15);\n",
              "      filter: drop-shadow(0px 1px 2px rgba(0, 0, 0, 0.3));\n",
              "      fill: #FFFFFF;\n",
              "    }\n",
              "  </style>\n",
              "\n",
              "    <script>\n",
              "      const buttonEl =\n",
              "        document.querySelector('#df-d7f3d10c-be08-4b6a-b3cf-dc7757c8b4af button.colab-df-convert');\n",
              "      buttonEl.style.display =\n",
              "        google.colab.kernel.accessAllowed ? 'block' : 'none';\n",
              "\n",
              "      async function convertToInteractive(key) {\n",
              "        const element = document.querySelector('#df-d7f3d10c-be08-4b6a-b3cf-dc7757c8b4af');\n",
              "        const dataTable =\n",
              "          await google.colab.kernel.invokeFunction('convertToInteractive',\n",
              "                                                    [key], {});\n",
              "        if (!dataTable) return;\n",
              "\n",
              "        const docLinkHtml = 'Like what you see? Visit the ' +\n",
              "          '<a target=\"_blank\" href=https://colab.research.google.com/notebooks/data_table.ipynb>data table notebook</a>'\n",
              "          + ' to learn more about interactive tables.';\n",
              "        element.innerHTML = '';\n",
              "        dataTable['output_type'] = 'display_data';\n",
              "        await google.colab.output.renderOutput(dataTable, element);\n",
              "        const docLink = document.createElement('div');\n",
              "        docLink.innerHTML = docLinkHtml;\n",
              "        element.appendChild(docLink);\n",
              "      }\n",
              "    </script>\n",
              "  </div>\n",
              "\n",
              "\n",
              "<div id=\"df-8769763a-6e70-4cfc-b8c7-84faed962543\">\n",
              "  <button class=\"colab-df-quickchart\" onclick=\"quickchart('df-8769763a-6e70-4cfc-b8c7-84faed962543')\"\n",
              "            title=\"Suggest charts\"\n",
              "            style=\"display:none;\">\n",
              "\n",
              "<svg xmlns=\"http://www.w3.org/2000/svg\" height=\"24px\"viewBox=\"0 0 24 24\"\n",
              "     width=\"24px\">\n",
              "    <g>\n",
              "        <path d=\"M19 3H5c-1.1 0-2 .9-2 2v14c0 1.1.9 2 2 2h14c1.1 0 2-.9 2-2V5c0-1.1-.9-2-2-2zM9 17H7v-7h2v7zm4 0h-2V7h2v10zm4 0h-2v-4h2v4z\"/>\n",
              "    </g>\n",
              "</svg>\n",
              "  </button>\n",
              "\n",
              "<style>\n",
              "  .colab-df-quickchart {\n",
              "      --bg-color: #E8F0FE;\n",
              "      --fill-color: #1967D2;\n",
              "      --hover-bg-color: #E2EBFA;\n",
              "      --hover-fill-color: #174EA6;\n",
              "      --disabled-fill-color: #AAA;\n",
              "      --disabled-bg-color: #DDD;\n",
              "  }\n",
              "\n",
              "  [theme=dark] .colab-df-quickchart {\n",
              "      --bg-color: #3B4455;\n",
              "      --fill-color: #D2E3FC;\n",
              "      --hover-bg-color: #434B5C;\n",
              "      --hover-fill-color: #FFFFFF;\n",
              "      --disabled-bg-color: #3B4455;\n",
              "      --disabled-fill-color: #666;\n",
              "  }\n",
              "\n",
              "  .colab-df-quickchart {\n",
              "    background-color: var(--bg-color);\n",
              "    border: none;\n",
              "    border-radius: 50%;\n",
              "    cursor: pointer;\n",
              "    display: none;\n",
              "    fill: var(--fill-color);\n",
              "    height: 32px;\n",
              "    padding: 0;\n",
              "    width: 32px;\n",
              "  }\n",
              "\n",
              "  .colab-df-quickchart:hover {\n",
              "    background-color: var(--hover-bg-color);\n",
              "    box-shadow: 0 1px 2px rgba(60, 64, 67, 0.3), 0 1px 3px 1px rgba(60, 64, 67, 0.15);\n",
              "    fill: var(--button-hover-fill-color);\n",
              "  }\n",
              "\n",
              "  .colab-df-quickchart-complete:disabled,\n",
              "  .colab-df-quickchart-complete:disabled:hover {\n",
              "    background-color: var(--disabled-bg-color);\n",
              "    fill: var(--disabled-fill-color);\n",
              "    box-shadow: none;\n",
              "  }\n",
              "\n",
              "  .colab-df-spinner {\n",
              "    border: 2px solid var(--fill-color);\n",
              "    border-color: transparent;\n",
              "    border-bottom-color: var(--fill-color);\n",
              "    animation:\n",
              "      spin 1s steps(1) infinite;\n",
              "  }\n",
              "\n",
              "  @keyframes spin {\n",
              "    0% {\n",
              "      border-color: transparent;\n",
              "      border-bottom-color: var(--fill-color);\n",
              "      border-left-color: var(--fill-color);\n",
              "    }\n",
              "    20% {\n",
              "      border-color: transparent;\n",
              "      border-left-color: var(--fill-color);\n",
              "      border-top-color: var(--fill-color);\n",
              "    }\n",
              "    30% {\n",
              "      border-color: transparent;\n",
              "      border-left-color: var(--fill-color);\n",
              "      border-top-color: var(--fill-color);\n",
              "      border-right-color: var(--fill-color);\n",
              "    }\n",
              "    40% {\n",
              "      border-color: transparent;\n",
              "      border-right-color: var(--fill-color);\n",
              "      border-top-color: var(--fill-color);\n",
              "    }\n",
              "    60% {\n",
              "      border-color: transparent;\n",
              "      border-right-color: var(--fill-color);\n",
              "    }\n",
              "    80% {\n",
              "      border-color: transparent;\n",
              "      border-right-color: var(--fill-color);\n",
              "      border-bottom-color: var(--fill-color);\n",
              "    }\n",
              "    90% {\n",
              "      border-color: transparent;\n",
              "      border-bottom-color: var(--fill-color);\n",
              "    }\n",
              "  }\n",
              "</style>\n",
              "\n",
              "  <script>\n",
              "    async function quickchart(key) {\n",
              "      const quickchartButtonEl =\n",
              "        document.querySelector('#' + key + ' button');\n",
              "      quickchartButtonEl.disabled = true;  // To prevent multiple clicks.\n",
              "      quickchartButtonEl.classList.add('colab-df-spinner');\n",
              "      try {\n",
              "        const charts = await google.colab.kernel.invokeFunction(\n",
              "            'suggestCharts', [key], {});\n",
              "      } catch (error) {\n",
              "        console.error('Error during call to suggestCharts:', error);\n",
              "      }\n",
              "      quickchartButtonEl.classList.remove('colab-df-spinner');\n",
              "      quickchartButtonEl.classList.add('colab-df-quickchart-complete');\n",
              "    }\n",
              "    (() => {\n",
              "      let quickchartButtonEl =\n",
              "        document.querySelector('#df-8769763a-6e70-4cfc-b8c7-84faed962543 button');\n",
              "      quickchartButtonEl.style.display =\n",
              "        google.colab.kernel.accessAllowed ? 'block' : 'none';\n",
              "    })();\n",
              "  </script>\n",
              "</div>\n",
              "\n",
              "  <div id=\"id_ecb242aa-5ff7-4c8f-b86b-ffa380585a85\">\n",
              "    <style>\n",
              "      .colab-df-generate {\n",
              "        background-color: #E8F0FE;\n",
              "        border: none;\n",
              "        border-radius: 50%;\n",
              "        cursor: pointer;\n",
              "        display: none;\n",
              "        fill: #1967D2;\n",
              "        height: 32px;\n",
              "        padding: 0 0 0 0;\n",
              "        width: 32px;\n",
              "      }\n",
              "\n",
              "      .colab-df-generate:hover {\n",
              "        background-color: #E2EBFA;\n",
              "        box-shadow: 0px 1px 2px rgba(60, 64, 67, 0.3), 0px 1px 3px 1px rgba(60, 64, 67, 0.15);\n",
              "        fill: #174EA6;\n",
              "      }\n",
              "\n",
              "      [theme=dark] .colab-df-generate {\n",
              "        background-color: #3B4455;\n",
              "        fill: #D2E3FC;\n",
              "      }\n",
              "\n",
              "      [theme=dark] .colab-df-generate:hover {\n",
              "        background-color: #434B5C;\n",
              "        box-shadow: 0px 1px 3px 1px rgba(0, 0, 0, 0.15);\n",
              "        filter: drop-shadow(0px 1px 2px rgba(0, 0, 0, 0.3));\n",
              "        fill: #FFFFFF;\n",
              "      }\n",
              "    </style>\n",
              "    <button class=\"colab-df-generate\" onclick=\"generateWithVariable('df')\"\n",
              "            title=\"Generate code using this dataframe.\"\n",
              "            style=\"display:none;\">\n",
              "\n",
              "  <svg xmlns=\"http://www.w3.org/2000/svg\" height=\"24px\"viewBox=\"0 0 24 24\"\n",
              "       width=\"24px\">\n",
              "    <path d=\"M7,19H8.4L18.45,9,17,7.55,7,17.6ZM5,21V16.75L18.45,3.32a2,2,0,0,1,2.83,0l1.4,1.43a1.91,1.91,0,0,1,.58,1.4,1.91,1.91,0,0,1-.58,1.4L9.25,21ZM18.45,9,17,7.55Zm-12,3A5.31,5.31,0,0,0,4.9,8.1,5.31,5.31,0,0,0,1,6.5,5.31,5.31,0,0,0,4.9,4.9,5.31,5.31,0,0,0,6.5,1,5.31,5.31,0,0,0,8.1,4.9,5.31,5.31,0,0,0,12,6.5,5.46,5.46,0,0,0,6.5,12Z\"/>\n",
              "  </svg>\n",
              "    </button>\n",
              "    <script>\n",
              "      (() => {\n",
              "      const buttonEl =\n",
              "        document.querySelector('#id_ecb242aa-5ff7-4c8f-b86b-ffa380585a85 button.colab-df-generate');\n",
              "      buttonEl.style.display =\n",
              "        google.colab.kernel.accessAllowed ? 'block' : 'none';\n",
              "\n",
              "      buttonEl.onclick = () => {\n",
              "        google.colab.notebook.generateWithVariable('df');\n",
              "      }\n",
              "      })();\n",
              "    </script>\n",
              "  </div>\n",
              "\n",
              "    </div>\n",
              "  </div>\n"
            ],
            "application/vnd.google.colaboratory.intrinsic+json": {
              "type": "dataframe",
              "variable_name": "df"
            }
          },
          "metadata": {},
          "execution_count": 18
        }
      ],
      "source": [
        "# Calculate the average rating for each product\n",
        "average_rating = df.groupby('productId')['rating'].mean()\n",
        "df\n"
      ]
    },
    {
      "cell_type": "code",
      "execution_count": 19,
      "metadata": {
        "colab": {
          "base_uri": "https://localhost:8080/",
          "height": 423
        },
        "id": "EfL0KbulRiZD",
        "outputId": "0673e6fa-3347-403f-ee08-bc0abe407ba5"
      },
      "outputs": [
        {
          "output_type": "execute_result",
          "data": {
            "text/plain": [
              "                 userId   productId  rating   timestamp\n",
              "93       A3BY5KCNQZXV5U  0594451647     5.0  1390176000\n",
              "117       AT09WGFUM934H  0594481813     3.0  1377907200\n",
              "176      A32HSNCNPRUMTR  0970407998     1.0  1319673600\n",
              "177      A17HMM1M7T9PJ1  0970407998     4.0  1281744000\n",
              "491      A3CLWR1UUZT6TG  0972683275     5.0  1373587200\n",
              "...                 ...         ...     ...         ...\n",
              "7824425   A1E1LEVQ9VQNK  B00LGQ6HL8     5.0  1405641600\n",
              "7824426  A2NYK9KWFMJV4Y  B00LGQ6HL8     5.0  1405209600\n",
              "7824435  A3AYSYSLHU26U9  B00LI4ZZO8     4.0  1405296000\n",
              "7824437  A2NYK9KWFMJV4Y  B00LI4ZZO8     5.0  1405209600\n",
              "7824443  A2BYV7S1QP2YIG  B00LKG1MC8     5.0  1404950400\n",
              "\n",
              "[125871 rows x 4 columns]"
            ],
            "text/html": [
              "\n",
              "  <div id=\"df-69386827-54fc-43dd-8d13-11de8ad76ed3\" class=\"colab-df-container\">\n",
              "    <div>\n",
              "<style scoped>\n",
              "    .dataframe tbody tr th:only-of-type {\n",
              "        vertical-align: middle;\n",
              "    }\n",
              "\n",
              "    .dataframe tbody tr th {\n",
              "        vertical-align: top;\n",
              "    }\n",
              "\n",
              "    .dataframe thead th {\n",
              "        text-align: right;\n",
              "    }\n",
              "</style>\n",
              "<table border=\"1\" class=\"dataframe\">\n",
              "  <thead>\n",
              "    <tr style=\"text-align: right;\">\n",
              "      <th></th>\n",
              "      <th>userId</th>\n",
              "      <th>productId</th>\n",
              "      <th>rating</th>\n",
              "      <th>timestamp</th>\n",
              "    </tr>\n",
              "  </thead>\n",
              "  <tbody>\n",
              "    <tr>\n",
              "      <th>93</th>\n",
              "      <td>A3BY5KCNQZXV5U</td>\n",
              "      <td>0594451647</td>\n",
              "      <td>5.0</td>\n",
              "      <td>1390176000</td>\n",
              "    </tr>\n",
              "    <tr>\n",
              "      <th>117</th>\n",
              "      <td>AT09WGFUM934H</td>\n",
              "      <td>0594481813</td>\n",
              "      <td>3.0</td>\n",
              "      <td>1377907200</td>\n",
              "    </tr>\n",
              "    <tr>\n",
              "      <th>176</th>\n",
              "      <td>A32HSNCNPRUMTR</td>\n",
              "      <td>0970407998</td>\n",
              "      <td>1.0</td>\n",
              "      <td>1319673600</td>\n",
              "    </tr>\n",
              "    <tr>\n",
              "      <th>177</th>\n",
              "      <td>A17HMM1M7T9PJ1</td>\n",
              "      <td>0970407998</td>\n",
              "      <td>4.0</td>\n",
              "      <td>1281744000</td>\n",
              "    </tr>\n",
              "    <tr>\n",
              "      <th>491</th>\n",
              "      <td>A3CLWR1UUZT6TG</td>\n",
              "      <td>0972683275</td>\n",
              "      <td>5.0</td>\n",
              "      <td>1373587200</td>\n",
              "    </tr>\n",
              "    <tr>\n",
              "      <th>...</th>\n",
              "      <td>...</td>\n",
              "      <td>...</td>\n",
              "      <td>...</td>\n",
              "      <td>...</td>\n",
              "    </tr>\n",
              "    <tr>\n",
              "      <th>7824425</th>\n",
              "      <td>A1E1LEVQ9VQNK</td>\n",
              "      <td>B00LGQ6HL8</td>\n",
              "      <td>5.0</td>\n",
              "      <td>1405641600</td>\n",
              "    </tr>\n",
              "    <tr>\n",
              "      <th>7824426</th>\n",
              "      <td>A2NYK9KWFMJV4Y</td>\n",
              "      <td>B00LGQ6HL8</td>\n",
              "      <td>5.0</td>\n",
              "      <td>1405209600</td>\n",
              "    </tr>\n",
              "    <tr>\n",
              "      <th>7824435</th>\n",
              "      <td>A3AYSYSLHU26U9</td>\n",
              "      <td>B00LI4ZZO8</td>\n",
              "      <td>4.0</td>\n",
              "      <td>1405296000</td>\n",
              "    </tr>\n",
              "    <tr>\n",
              "      <th>7824437</th>\n",
              "      <td>A2NYK9KWFMJV4Y</td>\n",
              "      <td>B00LI4ZZO8</td>\n",
              "      <td>5.0</td>\n",
              "      <td>1405209600</td>\n",
              "    </tr>\n",
              "    <tr>\n",
              "      <th>7824443</th>\n",
              "      <td>A2BYV7S1QP2YIG</td>\n",
              "      <td>B00LKG1MC8</td>\n",
              "      <td>5.0</td>\n",
              "      <td>1404950400</td>\n",
              "    </tr>\n",
              "  </tbody>\n",
              "</table>\n",
              "<p>125871 rows × 4 columns</p>\n",
              "</div>\n",
              "    <div class=\"colab-df-buttons\">\n",
              "\n",
              "  <div class=\"colab-df-container\">\n",
              "    <button class=\"colab-df-convert\" onclick=\"convertToInteractive('df-69386827-54fc-43dd-8d13-11de8ad76ed3')\"\n",
              "            title=\"Convert this dataframe to an interactive table.\"\n",
              "            style=\"display:none;\">\n",
              "\n",
              "  <svg xmlns=\"http://www.w3.org/2000/svg\" height=\"24px\" viewBox=\"0 -960 960 960\">\n",
              "    <path d=\"M120-120v-720h720v720H120Zm60-500h600v-160H180v160Zm220 220h160v-160H400v160Zm0 220h160v-160H400v160ZM180-400h160v-160H180v160Zm440 0h160v-160H620v160ZM180-180h160v-160H180v160Zm440 0h160v-160H620v160Z\"/>\n",
              "  </svg>\n",
              "    </button>\n",
              "\n",
              "  <style>\n",
              "    .colab-df-container {\n",
              "      display:flex;\n",
              "      gap: 12px;\n",
              "    }\n",
              "\n",
              "    .colab-df-convert {\n",
              "      background-color: #E8F0FE;\n",
              "      border: none;\n",
              "      border-radius: 50%;\n",
              "      cursor: pointer;\n",
              "      display: none;\n",
              "      fill: #1967D2;\n",
              "      height: 32px;\n",
              "      padding: 0 0 0 0;\n",
              "      width: 32px;\n",
              "    }\n",
              "\n",
              "    .colab-df-convert:hover {\n",
              "      background-color: #E2EBFA;\n",
              "      box-shadow: 0px 1px 2px rgba(60, 64, 67, 0.3), 0px 1px 3px 1px rgba(60, 64, 67, 0.15);\n",
              "      fill: #174EA6;\n",
              "    }\n",
              "\n",
              "    .colab-df-buttons div {\n",
              "      margin-bottom: 4px;\n",
              "    }\n",
              "\n",
              "    [theme=dark] .colab-df-convert {\n",
              "      background-color: #3B4455;\n",
              "      fill: #D2E3FC;\n",
              "    }\n",
              "\n",
              "    [theme=dark] .colab-df-convert:hover {\n",
              "      background-color: #434B5C;\n",
              "      box-shadow: 0px 1px 3px 1px rgba(0, 0, 0, 0.15);\n",
              "      filter: drop-shadow(0px 1px 2px rgba(0, 0, 0, 0.3));\n",
              "      fill: #FFFFFF;\n",
              "    }\n",
              "  </style>\n",
              "\n",
              "    <script>\n",
              "      const buttonEl =\n",
              "        document.querySelector('#df-69386827-54fc-43dd-8d13-11de8ad76ed3 button.colab-df-convert');\n",
              "      buttonEl.style.display =\n",
              "        google.colab.kernel.accessAllowed ? 'block' : 'none';\n",
              "\n",
              "      async function convertToInteractive(key) {\n",
              "        const element = document.querySelector('#df-69386827-54fc-43dd-8d13-11de8ad76ed3');\n",
              "        const dataTable =\n",
              "          await google.colab.kernel.invokeFunction('convertToInteractive',\n",
              "                                                    [key], {});\n",
              "        if (!dataTable) return;\n",
              "\n",
              "        const docLinkHtml = 'Like what you see? Visit the ' +\n",
              "          '<a target=\"_blank\" href=https://colab.research.google.com/notebooks/data_table.ipynb>data table notebook</a>'\n",
              "          + ' to learn more about interactive tables.';\n",
              "        element.innerHTML = '';\n",
              "        dataTable['output_type'] = 'display_data';\n",
              "        await google.colab.output.renderOutput(dataTable, element);\n",
              "        const docLink = document.createElement('div');\n",
              "        docLink.innerHTML = docLinkHtml;\n",
              "        element.appendChild(docLink);\n",
              "      }\n",
              "    </script>\n",
              "  </div>\n",
              "\n",
              "\n",
              "<div id=\"df-11252043-0393-4cf3-aba3-72a76bd3974c\">\n",
              "  <button class=\"colab-df-quickchart\" onclick=\"quickchart('df-11252043-0393-4cf3-aba3-72a76bd3974c')\"\n",
              "            title=\"Suggest charts\"\n",
              "            style=\"display:none;\">\n",
              "\n",
              "<svg xmlns=\"http://www.w3.org/2000/svg\" height=\"24px\"viewBox=\"0 0 24 24\"\n",
              "     width=\"24px\">\n",
              "    <g>\n",
              "        <path d=\"M19 3H5c-1.1 0-2 .9-2 2v14c0 1.1.9 2 2 2h14c1.1 0 2-.9 2-2V5c0-1.1-.9-2-2-2zM9 17H7v-7h2v7zm4 0h-2V7h2v10zm4 0h-2v-4h2v4z\"/>\n",
              "    </g>\n",
              "</svg>\n",
              "  </button>\n",
              "\n",
              "<style>\n",
              "  .colab-df-quickchart {\n",
              "      --bg-color: #E8F0FE;\n",
              "      --fill-color: #1967D2;\n",
              "      --hover-bg-color: #E2EBFA;\n",
              "      --hover-fill-color: #174EA6;\n",
              "      --disabled-fill-color: #AAA;\n",
              "      --disabled-bg-color: #DDD;\n",
              "  }\n",
              "\n",
              "  [theme=dark] .colab-df-quickchart {\n",
              "      --bg-color: #3B4455;\n",
              "      --fill-color: #D2E3FC;\n",
              "      --hover-bg-color: #434B5C;\n",
              "      --hover-fill-color: #FFFFFF;\n",
              "      --disabled-bg-color: #3B4455;\n",
              "      --disabled-fill-color: #666;\n",
              "  }\n",
              "\n",
              "  .colab-df-quickchart {\n",
              "    background-color: var(--bg-color);\n",
              "    border: none;\n",
              "    border-radius: 50%;\n",
              "    cursor: pointer;\n",
              "    display: none;\n",
              "    fill: var(--fill-color);\n",
              "    height: 32px;\n",
              "    padding: 0;\n",
              "    width: 32px;\n",
              "  }\n",
              "\n",
              "  .colab-df-quickchart:hover {\n",
              "    background-color: var(--hover-bg-color);\n",
              "    box-shadow: 0 1px 2px rgba(60, 64, 67, 0.3), 0 1px 3px 1px rgba(60, 64, 67, 0.15);\n",
              "    fill: var(--button-hover-fill-color);\n",
              "  }\n",
              "\n",
              "  .colab-df-quickchart-complete:disabled,\n",
              "  .colab-df-quickchart-complete:disabled:hover {\n",
              "    background-color: var(--disabled-bg-color);\n",
              "    fill: var(--disabled-fill-color);\n",
              "    box-shadow: none;\n",
              "  }\n",
              "\n",
              "  .colab-df-spinner {\n",
              "    border: 2px solid var(--fill-color);\n",
              "    border-color: transparent;\n",
              "    border-bottom-color: var(--fill-color);\n",
              "    animation:\n",
              "      spin 1s steps(1) infinite;\n",
              "  }\n",
              "\n",
              "  @keyframes spin {\n",
              "    0% {\n",
              "      border-color: transparent;\n",
              "      border-bottom-color: var(--fill-color);\n",
              "      border-left-color: var(--fill-color);\n",
              "    }\n",
              "    20% {\n",
              "      border-color: transparent;\n",
              "      border-left-color: var(--fill-color);\n",
              "      border-top-color: var(--fill-color);\n",
              "    }\n",
              "    30% {\n",
              "      border-color: transparent;\n",
              "      border-left-color: var(--fill-color);\n",
              "      border-top-color: var(--fill-color);\n",
              "      border-right-color: var(--fill-color);\n",
              "    }\n",
              "    40% {\n",
              "      border-color: transparent;\n",
              "      border-right-color: var(--fill-color);\n",
              "      border-top-color: var(--fill-color);\n",
              "    }\n",
              "    60% {\n",
              "      border-color: transparent;\n",
              "      border-right-color: var(--fill-color);\n",
              "    }\n",
              "    80% {\n",
              "      border-color: transparent;\n",
              "      border-right-color: var(--fill-color);\n",
              "      border-bottom-color: var(--fill-color);\n",
              "    }\n",
              "    90% {\n",
              "      border-color: transparent;\n",
              "      border-bottom-color: var(--fill-color);\n",
              "    }\n",
              "  }\n",
              "</style>\n",
              "\n",
              "  <script>\n",
              "    async function quickchart(key) {\n",
              "      const quickchartButtonEl =\n",
              "        document.querySelector('#' + key + ' button');\n",
              "      quickchartButtonEl.disabled = true;  // To prevent multiple clicks.\n",
              "      quickchartButtonEl.classList.add('colab-df-spinner');\n",
              "      try {\n",
              "        const charts = await google.colab.kernel.invokeFunction(\n",
              "            'suggestCharts', [key], {});\n",
              "      } catch (error) {\n",
              "        console.error('Error during call to suggestCharts:', error);\n",
              "      }\n",
              "      quickchartButtonEl.classList.remove('colab-df-spinner');\n",
              "      quickchartButtonEl.classList.add('colab-df-quickchart-complete');\n",
              "    }\n",
              "    (() => {\n",
              "      let quickchartButtonEl =\n",
              "        document.querySelector('#df-11252043-0393-4cf3-aba3-72a76bd3974c button');\n",
              "      quickchartButtonEl.style.display =\n",
              "        google.colab.kernel.accessAllowed ? 'block' : 'none';\n",
              "    })();\n",
              "  </script>\n",
              "</div>\n",
              "\n",
              "  <div id=\"id_d4ef2506-7619-4183-b35f-897a6576868b\">\n",
              "    <style>\n",
              "      .colab-df-generate {\n",
              "        background-color: #E8F0FE;\n",
              "        border: none;\n",
              "        border-radius: 50%;\n",
              "        cursor: pointer;\n",
              "        display: none;\n",
              "        fill: #1967D2;\n",
              "        height: 32px;\n",
              "        padding: 0 0 0 0;\n",
              "        width: 32px;\n",
              "      }\n",
              "\n",
              "      .colab-df-generate:hover {\n",
              "        background-color: #E2EBFA;\n",
              "        box-shadow: 0px 1px 2px rgba(60, 64, 67, 0.3), 0px 1px 3px 1px rgba(60, 64, 67, 0.15);\n",
              "        fill: #174EA6;\n",
              "      }\n",
              "\n",
              "      [theme=dark] .colab-df-generate {\n",
              "        background-color: #3B4455;\n",
              "        fill: #D2E3FC;\n",
              "      }\n",
              "\n",
              "      [theme=dark] .colab-df-generate:hover {\n",
              "        background-color: #434B5C;\n",
              "        box-shadow: 0px 1px 3px 1px rgba(0, 0, 0, 0.15);\n",
              "        filter: drop-shadow(0px 1px 2px rgba(0, 0, 0, 0.3));\n",
              "        fill: #FFFFFF;\n",
              "      }\n",
              "    </style>\n",
              "    <button class=\"colab-df-generate\" onclick=\"generateWithVariable('df')\"\n",
              "            title=\"Generate code using this dataframe.\"\n",
              "            style=\"display:none;\">\n",
              "\n",
              "  <svg xmlns=\"http://www.w3.org/2000/svg\" height=\"24px\"viewBox=\"0 0 24 24\"\n",
              "       width=\"24px\">\n",
              "    <path d=\"M7,19H8.4L18.45,9,17,7.55,7,17.6ZM5,21V16.75L18.45,3.32a2,2,0,0,1,2.83,0l1.4,1.43a1.91,1.91,0,0,1,.58,1.4,1.91,1.91,0,0,1-.58,1.4L9.25,21ZM18.45,9,17,7.55Zm-12,3A5.31,5.31,0,0,0,4.9,8.1,5.31,5.31,0,0,0,1,6.5,5.31,5.31,0,0,0,4.9,4.9,5.31,5.31,0,0,0,6.5,1,5.31,5.31,0,0,0,8.1,4.9,5.31,5.31,0,0,0,12,6.5,5.46,5.46,0,0,0,6.5,12Z\"/>\n",
              "  </svg>\n",
              "    </button>\n",
              "    <script>\n",
              "      (() => {\n",
              "      const buttonEl =\n",
              "        document.querySelector('#id_d4ef2506-7619-4183-b35f-897a6576868b button.colab-df-generate');\n",
              "      buttonEl.style.display =\n",
              "        google.colab.kernel.accessAllowed ? 'block' : 'none';\n",
              "\n",
              "      buttonEl.onclick = () => {\n",
              "        google.colab.notebook.generateWithVariable('df');\n",
              "      }\n",
              "      })();\n",
              "    </script>\n",
              "  </div>\n",
              "\n",
              "    </div>\n",
              "  </div>\n"
            ],
            "application/vnd.google.colaboratory.intrinsic+json": {
              "type": "dataframe",
              "variable_name": "df"
            }
          },
          "metadata": {},
          "execution_count": 19
        }
      ],
      "source": [
        "\n",
        "# Calculate the count of ratings for each product\n",
        "rating_count = df.groupby('productId')['rating'].count()\n",
        "df\n"
      ]
    },
    {
      "cell_type": "code",
      "execution_count": 20,
      "metadata": {
        "colab": {
          "base_uri": "https://localhost:8080/"
        },
        "id": "Jzn0YTAvRkwj",
        "outputId": "28bf6f7d-4647-492d-99c4-9e7c2902f3b2"
      },
      "outputs": [
        {
          "output_type": "stream",
          "name": "stdout",
          "text": [
            "            average_rating  rating_count\n",
            "productId                               \n",
            "0594451647             5.0             1\n",
            "B003RRY9RS             5.0             1\n",
            "B003RR95Q8             5.0             1\n",
            "B003RIPMZU             5.0             1\n",
            "B003RFRNYQ             5.0             2\n"
          ]
        }
      ],
      "source": [
        "# Create a dataframe with calculated average and count of ratings\n",
        "final_rating = pd.DataFrame({'average_rating': average_rating, 'rating_count': rating_count})\n",
        "df\n",
        "# Sort the dataframe by average of ratings in the descending order\n",
        "final_rating_sorted = final_rating.sort_values(by='average_rating', ascending=False)\n",
        "\n",
        "# See the first five records of the \"final_rating\" dataset\n",
        "print(final_rating_sorted.head())"
      ]
    },
    {
      "cell_type": "code",
      "execution_count": 21,
      "metadata": {
        "id": "zKU__5s1xhXi"
      },
      "outputs": [],
      "source": [
        "# Defining a function to get the top n products based on the highest average rating and minimum interactions\n",
        "def top_n_products(df, final_rating, n, min_interactions=100):\n",
        "  # Calculate rating count and merge it with the original dataframe\n",
        "  rating_count = df.groupby('productId')['rating'].count().reset_index(name='rating_count')\n",
        "  average_rating = df.groupby('productId')['rating'].mean().reset_index(name='average_rating')\n",
        "  df_with_counts = df.merge(rating_count, on='productId', how='left')\n",
        "  df_with_counts = df_with_counts.merge(average_rating, on='productId', how='left') # Merge average rating into df_with_counts\n",
        "\n",
        "  recommendations = df_with_counts[df_with_counts['rating_count'] > min_interactions]\n",
        "  recommendations = recommendations.sort_values(by='average_rating', ascending=False)\n",
        "  return recommendations.index[:n]\n"
      ]
    },
    {
      "cell_type": "markdown",
      "metadata": {
        "id": "F8l6373PxhXi"
      },
      "source": [
        "### **Recommending top 5 products with 50 minimum interactions based on popularity**"
      ]
    },
    {
      "cell_type": "code",
      "execution_count": 22,
      "metadata": {
        "colab": {
          "base_uri": "https://localhost:8080/"
        },
        "id": "dBxdLiM_xhXi",
        "outputId": "e0c8991c-413f-4c29-fdee-f22ac4fe1940"
      },
      "outputs": [
        {
          "output_type": "stream",
          "name": "stdout",
          "text": [
            "Product ID: 41161\n",
            "Product ID: 41190\n",
            "Product ID: 41197\n",
            "Product ID: 41196\n",
            "Product ID: 41195\n"
          ]
        }
      ],
      "source": [
        "res = top_n_products(df, final_rating, 5, 50) # Pass df to the function\n",
        "# Name of the books\n",
        "listofproducts = []\n",
        "for i in res:\n",
        "    # No need to filter and use unique() now\n",
        "    listofproducts.append(i)\n",
        "for product_id in listofproducts:\n",
        "      # Extract product name\n",
        "    print(f\"Product ID: {product_id}\")\n"
      ]
    },
    {
      "cell_type": "markdown",
      "metadata": {
        "id": "l9_xW_UMxhXj"
      },
      "source": [
        "### **Recommending top 5 products with 100 minimum interactions based on popularity**"
      ]
    },
    {
      "cell_type": "code",
      "execution_count": 23,
      "metadata": {
        "colab": {
          "base_uri": "https://localhost:8080/"
        },
        "id": "dZgGZCUoxhXj",
        "outputId": "a440014f-d386-47bb-d133-0d77b22d917e"
      },
      "outputs": [
        {
          "output_type": "stream",
          "name": "stdout",
          "text": [
            "Product ID: 57313\n",
            "Product ID: 57323\n",
            "Product ID: 57196\n",
            "Product ID: 57315\n",
            "Product ID: 57316\n"
          ]
        }
      ],
      "source": [
        "res = top_n_products(df, final_rating, 5, 100) # Pass df to the function\n",
        "# Name of the books\n",
        "listofproducts = []\n",
        "for i in res:\n",
        "    # No need to filter and use unique() now\n",
        "    listofproducts.append(i)\n",
        "for product_id in listofproducts:\n",
        "      # Extract product name\n",
        "    print(f\"Product ID: {product_id}\")\n"
      ]
    },
    {
      "cell_type": "markdown",
      "metadata": {
        "id": "BL-m68a15JtT",
        "outputId": "69132b0f-8d3f-4798-f6a0-249e17a3c822"
      },
      "source": [
        "We have recommended the **top 5** products by using the popularity recommendation system. Now, let's build a recommendation system using **collaborative filtering.**"
      ]
    },
    {
      "cell_type": "markdown",
      "metadata": {
        "id": "sJI5kiiGvOOK"
      },
      "source": [
        "## **Model 2: Collaborative Filtering Recommendation System**"
      ]
    },
    {
      "cell_type": "markdown",
      "metadata": {
        "id": "skzc0N1_nVNB"
      },
      "source": [
        "### **Building a baseline user-user similarity based recommendation system**"
      ]
    },
    {
      "cell_type": "markdown",
      "metadata": {
        "id": "d4Uo_MYMnVNB"
      },
      "source": [
        "- Below, we are building **similarity-based recommendation systems** using `cosine` similarity and using **KNN to find similar users** which are the nearest neighbor to the given user.  \n",
        "- We will be using a new library, called `surprise`, to build the remaining models. Let's first import the necessary classes and functions from this library."
      ]
    },
    {
      "cell_type": "code",
      "execution_count": 24,
      "metadata": {
        "id": "UJ1wEylUpexj"
      },
      "outputs": [],
      "source": [
        "# To compute the accuracy of models\n",
        "from surprise import accuracy\n",
        "\n",
        "# Class is used to parse a file containing ratings, data should be in structure - user ; item ; rating\n",
        "from surprise.reader import Reader\n",
        "\n",
        "# Class for loading datasets\n",
        "from surprise.dataset import Dataset\n",
        "\n",
        "# For tuning model hyperparameters\n",
        "from surprise.model_selection import GridSearchCV\n",
        "from surprise import SVD,Dataset\n",
        "from surprise.model_selection import train_test_split\n",
        "\n",
        "# For splitting the rating data in train and test datasets\n",
        "from surprise.model_selection import train_test_split\n",
        "\n",
        "# For implementing similarity-based recommendation system\n",
        "from surprise.prediction_algorithms.knns import KNNBasic\n",
        "\n",
        "# For implementing matrix factorization based recommendation system\n",
        "from surprise.prediction_algorithms.matrix_factorization import SVD\n",
        "\n",
        "# for implementing K-Fold cross-validation\n",
        "from surprise.model_selection import KFold\n",
        "\n",
        "# For implementing clustering-based recommendation system\n",
        "from surprise import CoClustering"
      ]
    },
    {
      "cell_type": "markdown",
      "metadata": {
        "id": "54MqVAtDTsnl"
      },
      "source": [
        "**Before building the recommendation systems, let's  go over some basic terminologies we are going to use:**"
      ]
    },
    {
      "cell_type": "markdown",
      "metadata": {
        "id": "Qsxb3xhnTsnl"
      },
      "source": [
        "**Relevant item:** An item (product in this case) that is actually **rated higher than the threshold rating** is relevant, if the **actual rating is below the threshold then it is a non-relevant item**.  \n",
        "\n",
        "**Recommended item:** An item that's **predicted rating is higher than the threshold is a recommended item**, if the **predicted rating is below the threshold then that product will not be recommended to the user**.  \n"
      ]
    },
    {
      "cell_type": "markdown",
      "metadata": {
        "id": "moyLUHCuTsnl"
      },
      "source": [
        "**False Negative (FN):** It is the **frequency of relevant items that are not recommended to the user**. If the relevant items are not recommended to the user, then the user might not buy the product/item. This would result in the **loss of opportunity for the service provider**, which they would like to minimize.\n",
        "\n",
        "**False Positive (FP):** It is the **frequency of recommended items that are actually not relevant**. In this case, the recommendation system is not doing a good job of finding and recommending the relevant items to the user. This would result in **loss of resources for the service provider**, which they would also like to minimize."
      ]
    },
    {
      "cell_type": "markdown",
      "metadata": {
        "id": "Yuvc2VaZTsnl"
      },
      "source": [
        "**Recall:** It is the **fraction of actually relevant items that are recommended to the user**, i.e., if out of 10 relevant products, 6 are recommended to the user then recall is 0.60. Higher the value of recall better is the model. It is one of the metrics to do the performance assessment of classification models.\n",
        "\n",
        "**Precision:** It is the **fraction of recommended items that are relevant actually**, i.e., if out of 10 recommended items, 6 are found relevant by the user then precision is 0.60. The higher the value of precision better is the model. It is one of the metrics to do the performance assessment of classification models."
      ]
    },
    {
      "cell_type": "markdown",
      "metadata": {
        "id": "8NLc36Y8Tsnm"
      },
      "source": [
        "**While making a recommendation system, it becomes customary to look at the performance of the model. In terms of how many recommendations are relevant and vice-versa, below are some most used performance metrics used in the assessment of recommendation systems.**"
      ]
    },
    {
      "cell_type": "markdown",
      "metadata": {
        "id": "cqF8fRBqTsnm"
      },
      "source": [
        "### **Precision@k, Recall@ k, and F1-score@k**"
      ]
    },
    {
      "cell_type": "markdown",
      "metadata": {
        "id": "imMJNF0HTsnm"
      },
      "source": [
        "**Precision@k** - It is the **fraction of recommended items that are relevant in `top k` predictions**. The value of k is the number of recommendations to be provided to the user. One can choose a variable number of recommendations to be given to a unique user.  \n",
        "\n",
        "\n",
        "**Recall@k** - It is the **fraction of relevant items that are recommended to the user in `top k` predictions**.\n",
        "\n",
        "**F1-score@k** - It is the **harmonic mean of Precision@k and Recall@k**. When **precision@k and recall@k both seem to be important** then it is useful to use this metric because it is representative of both of them."
      ]
    },
    {
      "cell_type": "markdown",
      "metadata": {
        "id": "jBW4BUhWTsnm"
      },
      "source": [
        "### **Some useful functions**"
      ]
    },
    {
      "cell_type": "markdown",
      "metadata": {
        "id": "QOBHKh0eTsnm"
      },
      "source": [
        "- Below function takes the **recommendation model** as input and gives the **precision@k, recall@k, and F1-score@k** for that model.  \n",
        "- To compute **precision and recall**, **top k** predictions are taken under consideration for each user.\n",
        "- We will use the precision and recall to compute the F1-score."
      ]
    },
    {
      "cell_type": "code",
      "execution_count": 25,
      "metadata": {
        "id": "Rxn-GahOTsnm"
      },
      "outputs": [],
      "source": [
        "def precision_recall_at_k(model, k = 10, threshold = 3.5):\n",
        "    \"\"\"Return precision and recall at k metrics for each user\"\"\"\n",
        "\n",
        "    # First map the predictions to each user\n",
        "    user_est_true = defaultdict(list)\n",
        "\n",
        "    # Making predictions on the test data\n",
        "    predictions = model.test(testset)\n",
        "\n",
        "    for uid, _, true_r, est, _ in predictions:\n",
        "        user_est_true[uid].append((est, true_r))\n",
        "\n",
        "    precisions = dict()\n",
        "    recalls = dict()\n",
        "    for uid, user_ratings in user_est_true.items():\n",
        "\n",
        "        # Sort user ratings by estimated value\n",
        "        user_ratings.sort(key = lambda x: x[0], reverse = True)\n",
        "\n",
        "        # Number of relevant items\n",
        "        n_rel = sum((true_r >= threshold) for (_, true_r) in user_ratings)\n",
        "\n",
        "        # Number of recommended items in top k\n",
        "        n_rec_k = sum((est >= threshold) for (est, _) in user_ratings[:k])\n",
        "\n",
        "        # Number of relevant and recommended items in top k\n",
        "        n_rel_and_rec_k = sum(((true_r >= threshold) and (est >= threshold))\n",
        "                              for (est, true_r) in user_ratings[:k])\n",
        "\n",
        "        # Precision@K: Proportion of recommended items that are relevant\n",
        "        # When n_rec_k is 0, Precision is undefined. Therefore, we are setting Precision to 0 when n_rec_k is 0\n",
        "\n",
        "        precisions[uid] = n_rel_and_rec_k / n_rec_k if n_rec_k != 0 else 0\n",
        "\n",
        "        # Recall@K: Proportion of relevant items that are recommended\n",
        "        # When n_rel is 0, Recall is undefined. Therefore, we are setting Recall to 0 when n_rel is 0\n",
        "\n",
        "        recalls[uid] = n_rel_and_rec_k / n_rel if n_rel != 0 else 0\n",
        "\n",
        "    # Mean of all the predicted precisions are calculated.\n",
        "    precision = round((sum(prec for prec in precisions.values()) / len(precisions)), 3)\n",
        "\n",
        "    # Mean of all the predicted recalls are calculated.\n",
        "    recall = round((sum(rec for rec in recalls.values()) / len(recalls)), 3)\n",
        "\n",
        "    accuracy.rmse(predictions)\n",
        "\n",
        "    print('Precision: ', precision) # Command to print the overall precision\n",
        "\n",
        "    print('Recall: ', recall) # Command to print the overall recall\n",
        "\n",
        "    print('F_1 score: ', round((2*precision*recall)/(precision+recall), 3)) # Formula to compute the F-1 score"
      ]
    },
    {
      "cell_type": "markdown",
      "metadata": {
        "id": "_ZmsamDVyek-"
      },
      "source": [
        "**Hints:**\n",
        "\n",
        "- To compute **precision and recall**, a **threshold of 3.5 and k value of 10 can be considered for the recommended and relevant ratings**.\n",
        "- Think about the performance metric to choose."
      ]
    },
    {
      "cell_type": "markdown",
      "metadata": {
        "id": "8hxjJMTwnVNB"
      },
      "source": [
        "Below we are loading the **`rating` dataset**, which is a **pandas DataFrame**, into a **different format called `surprise.dataset.DatasetAutoFolds`**, which is required by this library. To do this, we will be **using the classes `Reader` and `Dataset`.**"
      ]
    },
    {
      "cell_type": "code",
      "execution_count": 26,
      "metadata": {
        "id": "rGfYDiOCpe4X"
      },
      "outputs": [],
      "source": [
        "# Instantiating Reader scale with expected rating scale\n",
        "reader = Reader(rating_scale=(1, 5))\n",
        "# Loading the rating dataset\n",
        "\n",
        "# Splitting the data into train and test datasets\n",
        "data = Dataset.load_from_df(df_final[['userId', 'productId', 'rating']], reader) # Use the correct column names: userId and productId\n",
        "trainset, testset = train_test_split(data, test_size=0.2)\n"
      ]
    },
    {
      "cell_type": "code",
      "execution_count": 27,
      "metadata": {
        "colab": {
          "base_uri": "https://localhost:8080/",
          "height": 206
        },
        "id": "0g2HKXo24cMz",
        "outputId": "ad22215e-5225-492d-92b2-7b829503ff86"
      },
      "outputs": [
        {
          "output_type": "execute_result",
          "data": {
            "text/plain": [
              "             userId   productId  rating   timestamp\n",
              "93   A3BY5KCNQZXV5U  0594451647     5.0  1390176000\n",
              "117   AT09WGFUM934H  0594481813     3.0  1377907200\n",
              "176  A32HSNCNPRUMTR  0970407998     1.0  1319673600\n",
              "177  A17HMM1M7T9PJ1  0970407998     4.0  1281744000\n",
              "491  A3CLWR1UUZT6TG  0972683275     5.0  1373587200"
            ],
            "text/html": [
              "\n",
              "  <div id=\"df-063d9794-107c-4e2e-b816-93a11598ac2a\" class=\"colab-df-container\">\n",
              "    <div>\n",
              "<style scoped>\n",
              "    .dataframe tbody tr th:only-of-type {\n",
              "        vertical-align: middle;\n",
              "    }\n",
              "\n",
              "    .dataframe tbody tr th {\n",
              "        vertical-align: top;\n",
              "    }\n",
              "\n",
              "    .dataframe thead th {\n",
              "        text-align: right;\n",
              "    }\n",
              "</style>\n",
              "<table border=\"1\" class=\"dataframe\">\n",
              "  <thead>\n",
              "    <tr style=\"text-align: right;\">\n",
              "      <th></th>\n",
              "      <th>userId</th>\n",
              "      <th>productId</th>\n",
              "      <th>rating</th>\n",
              "      <th>timestamp</th>\n",
              "    </tr>\n",
              "  </thead>\n",
              "  <tbody>\n",
              "    <tr>\n",
              "      <th>93</th>\n",
              "      <td>A3BY5KCNQZXV5U</td>\n",
              "      <td>0594451647</td>\n",
              "      <td>5.0</td>\n",
              "      <td>1390176000</td>\n",
              "    </tr>\n",
              "    <tr>\n",
              "      <th>117</th>\n",
              "      <td>AT09WGFUM934H</td>\n",
              "      <td>0594481813</td>\n",
              "      <td>3.0</td>\n",
              "      <td>1377907200</td>\n",
              "    </tr>\n",
              "    <tr>\n",
              "      <th>176</th>\n",
              "      <td>A32HSNCNPRUMTR</td>\n",
              "      <td>0970407998</td>\n",
              "      <td>1.0</td>\n",
              "      <td>1319673600</td>\n",
              "    </tr>\n",
              "    <tr>\n",
              "      <th>177</th>\n",
              "      <td>A17HMM1M7T9PJ1</td>\n",
              "      <td>0970407998</td>\n",
              "      <td>4.0</td>\n",
              "      <td>1281744000</td>\n",
              "    </tr>\n",
              "    <tr>\n",
              "      <th>491</th>\n",
              "      <td>A3CLWR1UUZT6TG</td>\n",
              "      <td>0972683275</td>\n",
              "      <td>5.0</td>\n",
              "      <td>1373587200</td>\n",
              "    </tr>\n",
              "  </tbody>\n",
              "</table>\n",
              "</div>\n",
              "    <div class=\"colab-df-buttons\">\n",
              "\n",
              "  <div class=\"colab-df-container\">\n",
              "    <button class=\"colab-df-convert\" onclick=\"convertToInteractive('df-063d9794-107c-4e2e-b816-93a11598ac2a')\"\n",
              "            title=\"Convert this dataframe to an interactive table.\"\n",
              "            style=\"display:none;\">\n",
              "\n",
              "  <svg xmlns=\"http://www.w3.org/2000/svg\" height=\"24px\" viewBox=\"0 -960 960 960\">\n",
              "    <path d=\"M120-120v-720h720v720H120Zm60-500h600v-160H180v160Zm220 220h160v-160H400v160Zm0 220h160v-160H400v160ZM180-400h160v-160H180v160Zm440 0h160v-160H620v160ZM180-180h160v-160H180v160Zm440 0h160v-160H620v160Z\"/>\n",
              "  </svg>\n",
              "    </button>\n",
              "\n",
              "  <style>\n",
              "    .colab-df-container {\n",
              "      display:flex;\n",
              "      gap: 12px;\n",
              "    }\n",
              "\n",
              "    .colab-df-convert {\n",
              "      background-color: #E8F0FE;\n",
              "      border: none;\n",
              "      border-radius: 50%;\n",
              "      cursor: pointer;\n",
              "      display: none;\n",
              "      fill: #1967D2;\n",
              "      height: 32px;\n",
              "      padding: 0 0 0 0;\n",
              "      width: 32px;\n",
              "    }\n",
              "\n",
              "    .colab-df-convert:hover {\n",
              "      background-color: #E2EBFA;\n",
              "      box-shadow: 0px 1px 2px rgba(60, 64, 67, 0.3), 0px 1px 3px 1px rgba(60, 64, 67, 0.15);\n",
              "      fill: #174EA6;\n",
              "    }\n",
              "\n",
              "    .colab-df-buttons div {\n",
              "      margin-bottom: 4px;\n",
              "    }\n",
              "\n",
              "    [theme=dark] .colab-df-convert {\n",
              "      background-color: #3B4455;\n",
              "      fill: #D2E3FC;\n",
              "    }\n",
              "\n",
              "    [theme=dark] .colab-df-convert:hover {\n",
              "      background-color: #434B5C;\n",
              "      box-shadow: 0px 1px 3px 1px rgba(0, 0, 0, 0.15);\n",
              "      filter: drop-shadow(0px 1px 2px rgba(0, 0, 0, 0.3));\n",
              "      fill: #FFFFFF;\n",
              "    }\n",
              "  </style>\n",
              "\n",
              "    <script>\n",
              "      const buttonEl =\n",
              "        document.querySelector('#df-063d9794-107c-4e2e-b816-93a11598ac2a button.colab-df-convert');\n",
              "      buttonEl.style.display =\n",
              "        google.colab.kernel.accessAllowed ? 'block' : 'none';\n",
              "\n",
              "      async function convertToInteractive(key) {\n",
              "        const element = document.querySelector('#df-063d9794-107c-4e2e-b816-93a11598ac2a');\n",
              "        const dataTable =\n",
              "          await google.colab.kernel.invokeFunction('convertToInteractive',\n",
              "                                                    [key], {});\n",
              "        if (!dataTable) return;\n",
              "\n",
              "        const docLinkHtml = 'Like what you see? Visit the ' +\n",
              "          '<a target=\"_blank\" href=https://colab.research.google.com/notebooks/data_table.ipynb>data table notebook</a>'\n",
              "          + ' to learn more about interactive tables.';\n",
              "        element.innerHTML = '';\n",
              "        dataTable['output_type'] = 'display_data';\n",
              "        await google.colab.output.renderOutput(dataTable, element);\n",
              "        const docLink = document.createElement('div');\n",
              "        docLink.innerHTML = docLinkHtml;\n",
              "        element.appendChild(docLink);\n",
              "      }\n",
              "    </script>\n",
              "  </div>\n",
              "\n",
              "\n",
              "<div id=\"df-244cb2e9-9ae3-4fc4-9afc-4db6df750000\">\n",
              "  <button class=\"colab-df-quickchart\" onclick=\"quickchart('df-244cb2e9-9ae3-4fc4-9afc-4db6df750000')\"\n",
              "            title=\"Suggest charts\"\n",
              "            style=\"display:none;\">\n",
              "\n",
              "<svg xmlns=\"http://www.w3.org/2000/svg\" height=\"24px\"viewBox=\"0 0 24 24\"\n",
              "     width=\"24px\">\n",
              "    <g>\n",
              "        <path d=\"M19 3H5c-1.1 0-2 .9-2 2v14c0 1.1.9 2 2 2h14c1.1 0 2-.9 2-2V5c0-1.1-.9-2-2-2zM9 17H7v-7h2v7zm4 0h-2V7h2v10zm4 0h-2v-4h2v4z\"/>\n",
              "    </g>\n",
              "</svg>\n",
              "  </button>\n",
              "\n",
              "<style>\n",
              "  .colab-df-quickchart {\n",
              "      --bg-color: #E8F0FE;\n",
              "      --fill-color: #1967D2;\n",
              "      --hover-bg-color: #E2EBFA;\n",
              "      --hover-fill-color: #174EA6;\n",
              "      --disabled-fill-color: #AAA;\n",
              "      --disabled-bg-color: #DDD;\n",
              "  }\n",
              "\n",
              "  [theme=dark] .colab-df-quickchart {\n",
              "      --bg-color: #3B4455;\n",
              "      --fill-color: #D2E3FC;\n",
              "      --hover-bg-color: #434B5C;\n",
              "      --hover-fill-color: #FFFFFF;\n",
              "      --disabled-bg-color: #3B4455;\n",
              "      --disabled-fill-color: #666;\n",
              "  }\n",
              "\n",
              "  .colab-df-quickchart {\n",
              "    background-color: var(--bg-color);\n",
              "    border: none;\n",
              "    border-radius: 50%;\n",
              "    cursor: pointer;\n",
              "    display: none;\n",
              "    fill: var(--fill-color);\n",
              "    height: 32px;\n",
              "    padding: 0;\n",
              "    width: 32px;\n",
              "  }\n",
              "\n",
              "  .colab-df-quickchart:hover {\n",
              "    background-color: var(--hover-bg-color);\n",
              "    box-shadow: 0 1px 2px rgba(60, 64, 67, 0.3), 0 1px 3px 1px rgba(60, 64, 67, 0.15);\n",
              "    fill: var(--button-hover-fill-color);\n",
              "  }\n",
              "\n",
              "  .colab-df-quickchart-complete:disabled,\n",
              "  .colab-df-quickchart-complete:disabled:hover {\n",
              "    background-color: var(--disabled-bg-color);\n",
              "    fill: var(--disabled-fill-color);\n",
              "    box-shadow: none;\n",
              "  }\n",
              "\n",
              "  .colab-df-spinner {\n",
              "    border: 2px solid var(--fill-color);\n",
              "    border-color: transparent;\n",
              "    border-bottom-color: var(--fill-color);\n",
              "    animation:\n",
              "      spin 1s steps(1) infinite;\n",
              "  }\n",
              "\n",
              "  @keyframes spin {\n",
              "    0% {\n",
              "      border-color: transparent;\n",
              "      border-bottom-color: var(--fill-color);\n",
              "      border-left-color: var(--fill-color);\n",
              "    }\n",
              "    20% {\n",
              "      border-color: transparent;\n",
              "      border-left-color: var(--fill-color);\n",
              "      border-top-color: var(--fill-color);\n",
              "    }\n",
              "    30% {\n",
              "      border-color: transparent;\n",
              "      border-left-color: var(--fill-color);\n",
              "      border-top-color: var(--fill-color);\n",
              "      border-right-color: var(--fill-color);\n",
              "    }\n",
              "    40% {\n",
              "      border-color: transparent;\n",
              "      border-right-color: var(--fill-color);\n",
              "      border-top-color: var(--fill-color);\n",
              "    }\n",
              "    60% {\n",
              "      border-color: transparent;\n",
              "      border-right-color: var(--fill-color);\n",
              "    }\n",
              "    80% {\n",
              "      border-color: transparent;\n",
              "      border-right-color: var(--fill-color);\n",
              "      border-bottom-color: var(--fill-color);\n",
              "    }\n",
              "    90% {\n",
              "      border-color: transparent;\n",
              "      border-bottom-color: var(--fill-color);\n",
              "    }\n",
              "  }\n",
              "</style>\n",
              "\n",
              "  <script>\n",
              "    async function quickchart(key) {\n",
              "      const quickchartButtonEl =\n",
              "        document.querySelector('#' + key + ' button');\n",
              "      quickchartButtonEl.disabled = true;  // To prevent multiple clicks.\n",
              "      quickchartButtonEl.classList.add('colab-df-spinner');\n",
              "      try {\n",
              "        const charts = await google.colab.kernel.invokeFunction(\n",
              "            'suggestCharts', [key], {});\n",
              "      } catch (error) {\n",
              "        console.error('Error during call to suggestCharts:', error);\n",
              "      }\n",
              "      quickchartButtonEl.classList.remove('colab-df-spinner');\n",
              "      quickchartButtonEl.classList.add('colab-df-quickchart-complete');\n",
              "    }\n",
              "    (() => {\n",
              "      let quickchartButtonEl =\n",
              "        document.querySelector('#df-244cb2e9-9ae3-4fc4-9afc-4db6df750000 button');\n",
              "      quickchartButtonEl.style.display =\n",
              "        google.colab.kernel.accessAllowed ? 'block' : 'none';\n",
              "    })();\n",
              "  </script>\n",
              "</div>\n",
              "\n",
              "    </div>\n",
              "  </div>\n"
            ],
            "application/vnd.google.colaboratory.intrinsic+json": {
              "type": "dataframe",
              "variable_name": "df"
            }
          },
          "metadata": {},
          "execution_count": 27
        }
      ],
      "source": [
        "df.head()"
      ]
    },
    {
      "cell_type": "markdown",
      "metadata": {
        "id": "DmHTEt7TnVNC"
      },
      "source": [
        "Now, we are **ready to build the first baseline similarity-based recommendation system** using the cosine similarity."
      ]
    },
    {
      "cell_type": "markdown",
      "metadata": {
        "id": "SVDfVHB4tQfU"
      },
      "source": [
        "### **Building the user-user Similarity-based Recommendation System**"
      ]
    },
    {
      "cell_type": "code",
      "execution_count": 28,
      "metadata": {
        "colab": {
          "base_uri": "https://localhost:8080/"
        },
        "id": "vO3FL7iape8A",
        "outputId": "2ad5e80c-d387-4c23-b3aa-d21a9e31b964",
        "scrolled": false
      },
      "outputs": [
        {
          "output_type": "stream",
          "name": "stdout",
          "text": [
            "RMSE: 1.0101\n",
            "Precision:  0.859\n",
            "Recall:  0.859\n",
            "F_1 score:  0.859\n"
          ]
        }
      ],
      "source": [
        "# Import the necessary class from the surprise library\n",
        "from surprise import KNNBasic\n",
        "\n",
        "# Declaring the similarity options\n",
        "sim_options = {\n",
        "    'name': 'cosine',  # Similarity measure: cosine similarity\n",
        "    'user_based': True  # User-based collaborative filtering\n",
        "}\n",
        "\n",
        "# Initialize the KNNBasic model using sim_options declared, Verbose = False, and setting random_state = 1\n",
        "knn_model = KNNBasic(sim_options=sim_options, verbose=False)\n",
        "\n",
        "# Fit the model on the training data\n",
        "knn_model.fit(trainset)\n",
        "# Let us compute precision@k, recall@k, and f_1 score using the precision_recall_at_k function defined above\n",
        "precision_recall_at_k(knn_model)\n",
        "\n"
      ]
    },
    {
      "cell_type": "markdown",
      "metadata": {
        "id": "nEuJK_A9Tsnn"
      },
      "source": [
        "**Write your observations here:__________**"
      ]
    },
    {
      "cell_type": "markdown",
      "metadata": {
        "id": "reFD0-nsnVNC"
      },
      "source": [
        "Let's now **predict rating for a user with `userId=A3LDPF5FMB782Z` and `productId=1400501466`** as shown below. Here the user has already interacted or watched the product with productId '1400501466' and given a rating of 5."
      ]
    },
    {
      "cell_type": "code",
      "execution_count": 29,
      "metadata": {
        "colab": {
          "base_uri": "https://localhost:8080/"
        },
        "id": "Sxd23bZ9pe_x",
        "outputId": "28af09d7-b8b8-47a8-c65e-f5619e2af8f2"
      },
      "outputs": [
        {
          "output_type": "stream",
          "name": "stdout",
          "text": [
            "user: A3LDPF5FMB782Z item: 1400501466 r_ui = 5.00   est = 4.29   {'was_impossible': True, 'reason': 'User and/or item is unknown.'}\n"
          ]
        },
        {
          "output_type": "execute_result",
          "data": {
            "text/plain": [
              "Prediction(uid='A3LDPF5FMB782Z', iid=1400501466, r_ui=5, est=4.291219941798132, details={'was_impossible': True, 'reason': 'User and/or item is unknown.'})"
            ]
          },
          "metadata": {},
          "execution_count": 29
        }
      ],
      "source": [
        "# Predicting rating for a sample user with an interacted product\n",
        "knn_model.predict('A3LDPF5FMB782Z', 1400501466, r_ui=5, verbose=True)"
      ]
    },
    {
      "cell_type": "markdown",
      "metadata": {
        "id": "ENJcqG_wemRH"
      },
      "source": [
        "**Write your observations here:__________**\n",
        "\n",
        "there is no difference in the prediction of the baseline model and the tuned model for this particular user-item pair. Both models predicted the rating as 4.46, which is very close to the actual rating of 5.\n",
        "\n"
      ]
    },
    {
      "cell_type": "markdown",
      "metadata": {
        "id": "cj6ecbglTsno"
      },
      "source": [
        "Below is the **list of users who have not seen the product with product id \"1400501466\"**."
      ]
    },
    {
      "cell_type": "code",
      "execution_count": 30,
      "metadata": {
        "colab": {
          "base_uri": "https://localhost:8080/"
        },
        "id": "xCRBMD-RTsno",
        "outputId": "b6b72be1-07d1-40ff-ff22-52cc526cac44"
      },
      "outputs": [
        {
          "output_type": "execute_result",
          "data": {
            "text/plain": [
              "array(['A3BY5KCNQZXV5U', 'AT09WGFUM934H', 'A32HSNCNPRUMTR', ...,\n",
              "       'AT53ZTTO707MB', 'A1X3ESYZ79H59E', 'A328S9RN3U5M68'], dtype=object)"
            ]
          },
          "metadata": {},
          "execution_count": 30
        }
      ],
      "source": [
        "# Find unique user_id where prod_id is not equal to \"1400501466\"\n",
        "filtered_users = df[df['productId'] != \"1400501466\"]['userId'].unique()\n",
        "filtered_users"
      ]
    },
    {
      "cell_type": "markdown",
      "metadata": {
        "id": "KT42ecaSTsno"
      },
      "source": [
        "* It can be observed from the above list that **user \"A34BZM6S9L7QI4\" has not seen the product with productId \"1400501466\"** as this userId is a part of the above list."
      ]
    },
    {
      "cell_type": "markdown",
      "metadata": {
        "id": "EXSgq8OEnVNE"
      },
      "source": [
        "**Below we are predicting rating for `userId=A34BZM6S9L7QI4` and `prod_id=1400501466`.**"
      ]
    },
    {
      "cell_type": "code",
      "execution_count": 31,
      "metadata": {
        "colab": {
          "base_uri": "https://localhost:8080/"
        },
        "id": "PbFcBj1PpfEV",
        "outputId": "aaf947e4-ebfe-4f19-fe48-c8773bc39ece"
      },
      "outputs": [
        {
          "output_type": "stream",
          "name": "stdout",
          "text": [
            "user: A34BZM6S9L7QI4 item: 1400501466 r_ui = None   est = 4.29   {'was_impossible': True, 'reason': 'User and/or item is unknown.'}\n"
          ]
        }
      ],
      "source": [
        "# Predicting rating for a sample user with a non interacted product\n",
        "prediction = knn_model.predict('A34BZM6S9L7QI4', 1400501466, verbose=True)"
      ]
    },
    {
      "cell_type": "markdown",
      "metadata": {
        "id": "02rwld8yemRI"
      },
      "source": [
        "**Write your observations here:__________**\n",
        "\n",
        "The predicted rating for the user A34BZM6S9L7QI4 is 4.29\n",
        "\n"
      ]
    },
    {
      "cell_type": "markdown",
      "metadata": {
        "id": "ejjof6csnVNF"
      },
      "source": [
        "### **Improving similarity-based recommendation system by tuning its hyperparameters**"
      ]
    },
    {
      "cell_type": "markdown",
      "metadata": {
        "id": "p2j4VvfQnVNF"
      },
      "source": [
        "Below, we will be tuning hyperparameters for the `KNNBasic` algorithm. Let's try to understand some of the hyperparameters of the KNNBasic algorithm:\n",
        "\n",
        "- **k** (int) – The (max) number of neighbors to take into account for aggregation. Default is 40.\n",
        "- **min_k** (int) – The minimum number of neighbors to take into account for aggregation. If there are not enough neighbors, the prediction is set to the global mean of all ratings. Default is 1.\n",
        "- **sim_options** (dict) – A dictionary of options for the similarity measure. And there are four similarity measures available in surprise -\n",
        "    - cosine\n",
        "    - msd (default)\n",
        "    - Pearson\n",
        "    - Pearson baseline"
      ]
    },
    {
      "cell_type": "code",
      "execution_count": 32,
      "metadata": {
        "colab": {
          "base_uri": "https://localhost:8080/"
        },
        "id": "9LmPbSUSTsnp",
        "outputId": "376dceac-ac22-4a49-bf54-f7777e58fb59"
      },
      "outputs": [
        {
          "output_type": "stream",
          "name": "stdout",
          "text": [
            "0.9718548544503283\n",
            "{'k': 45, 'min_k': 6, 'sim_options': {'name': 'cosine', 'user_based': True}}\n"
          ]
        }
      ],
      "source": [
        "# Setting up parameter grid to tune the hyperparameters\n",
        "param_grid = {'k': [22, 35, 45], 'min_k': [3, 6, 9],\n",
        "              'sim_options': {'name': ['msd', 'cosine'],\n",
        "                              'user_based': [True]}\n",
        "              }\n",
        "\n",
        "# Performing 3-fold cross validation to tune the hyperparameters\n",
        "gs = GridSearchCV(KNNBasic, param_grid, measures=['rmse', 'mae'], cv=3, n_jobs=-1)\n",
        "\n",
        "# Fitting the data\n",
        "gs.fit(data)\n",
        "\n",
        "# Best RMSE score\n",
        "print(gs.best_score['rmse'])\n",
        "\n",
        "# Combination of parameters that gave the best RMSE score\n",
        "print(gs.best_params['rmse'])"
      ]
    },
    {
      "cell_type": "markdown",
      "metadata": {
        "id": "L2fHNvu7nVNF"
      },
      "source": [
        "Once the grid search is **complete**, we can get the **optimal values for each of those hyperparameters**."
      ]
    },
    {
      "cell_type": "markdown",
      "metadata": {
        "id": "NHWgxu_YnVNG"
      },
      "source": [
        "Now, let's build the **final model by using tuned values of the hyperparameters**, which we received by using **grid search cross-validation**."
      ]
    },
    {
      "cell_type": "code",
      "execution_count": 33,
      "metadata": {
        "colab": {
          "base_uri": "https://localhost:8080/"
        },
        "id": "PujRJA8X_JEJ",
        "outputId": "99853ff1-caf0-4822-9836-2f2a0e7574e2"
      },
      "outputs": [
        {
          "output_type": "stream",
          "name": "stdout",
          "text": [
            "RMSE: 0.9531\n",
            "Precision:  0.848\n",
            "Recall:  0.894\n",
            "F_1 score:  0.87\n"
          ]
        }
      ],
      "source": [
        "# Using the optimal similarity measure for user-user based collaborative filtering\n",
        "sim_options = {'name': 'msd',\n",
        "               'user_based': True}\n",
        "\n",
        "# Creating an instance of KNNBasic with optimal hyperparameter values\n",
        "similarity_algo_optimized = KNNBasic(sim_options=sim_options, k=20, min_k=6, verbose=False)\n",
        "\n",
        "# Training the algorithm on the train set\n",
        "similarity_algo_optimized.fit(trainset)\n",
        "\n",
        "# Let us compute precision@k and recall@k with k=10.\n",
        "precision_recall_at_k(similarity_algo_optimized)"
      ]
    },
    {
      "cell_type": "markdown",
      "metadata": {
        "id": "yHsWvFjKTsnp"
      },
      "source": [
        "**Write your observations here:__________**\n",
        "\n",
        "After tuning hyperparameters, RMSE for the test set has reduced from 1.01 to 0.9531.\n",
        "We can observe that after tuning the hyperparameters, the tuned model's F-1 score increased from 0.85 to 0.0.87 in comparison to the baseline model. As a result, we can say that the model's performance has improved after hyperparameter tuning."
      ]
    },
    {
      "cell_type": "markdown",
      "metadata": {
        "id": "YhcAXK0CnVNG"
      },
      "source": [
        "### **Steps:**\n",
        "- **Predict rating for the user with `userId=\"A3LDPF5FMB782Z\"`, and `prod_id= \"1400501466\"` using the optimized model**\n",
        "- **Predict rating for `userId=\"A34BZM6S9L7QI4\"` who has not interacted with `prod_id =\"1400501466\"`, by using the optimized model**\n",
        "- **Compare the output with the output from the baseline model**"
      ]
    },
    {
      "cell_type": "code",
      "execution_count": 34,
      "metadata": {
        "colab": {
          "base_uri": "https://localhost:8080/"
        },
        "id": "FgV63lHiq1TV",
        "outputId": "f216a461-3c6a-4d4c-b521-fb7d79864720"
      },
      "outputs": [
        {
          "output_type": "stream",
          "name": "stdout",
          "text": [
            "user: A3LDPF5FMB782Z item: 1400501466 r_ui = 5.00   est = 4.29   {'was_impossible': True, 'reason': 'User and/or item is unknown.'}\n"
          ]
        },
        {
          "output_type": "execute_result",
          "data": {
            "text/plain": [
              "Prediction(uid='A3LDPF5FMB782Z', iid=1400501466, r_ui=5, est=4.291219941798132, details={'was_impossible': True, 'reason': 'User and/or item is unknown.'})"
            ]
          },
          "metadata": {},
          "execution_count": 34
        }
      ],
      "source": [
        "# Use sim_user_user_optimized model to recommend for userId \"A3LDPF5FMB782Z\" and productId 1400501466\n",
        "similarity_algo_optimized.predict('A3LDPF5FMB782Z', 1400501466, r_ui=5, verbose=True)"
      ]
    },
    {
      "cell_type": "code",
      "execution_count": 35,
      "metadata": {
        "colab": {
          "base_uri": "https://localhost:8080/"
        },
        "id": "HXO2Ztjhq1bN",
        "outputId": "3852bd70-1360-4168-8ed7-633e79b93f1e"
      },
      "outputs": [
        {
          "output_type": "stream",
          "name": "stdout",
          "text": [
            "user: A34BZM6S9L7QI4 item: 1400501466 r_ui = 5.00   est = 4.29   {'was_impossible': True, 'reason': 'User and/or item is unknown.'}\n"
          ]
        },
        {
          "output_type": "execute_result",
          "data": {
            "text/plain": [
              "Prediction(uid='A34BZM6S9L7QI4', iid=1400501466, r_ui=5, est=4.291219941798132, details={'was_impossible': True, 'reason': 'User and/or item is unknown.'})"
            ]
          },
          "metadata": {},
          "execution_count": 35
        }
      ],
      "source": [
        "# Use sim_user_user_optimized model to recommend for userId \"A34BZM6S9L7QI4\" and productId \"1400501466\"\n",
        "similarity_algo_optimized.predict('A34BZM6S9L7QI4', 1400501466, r_ui=5, verbose=True)"
      ]
    },
    {
      "cell_type": "markdown",
      "metadata": {
        "id": "s5i-OPprNF2e"
      },
      "source": [
        "**Write your observations here:**____________\n",
        "\n",
        "for  useridA3LDPF5FMB782Z and useridA34BZM6S9L7QI4 there is no much difference in rating prediction its only from 4.46 to 4.56\n",
        "\n",
        "\n"
      ]
    },
    {
      "cell_type": "markdown",
      "metadata": {
        "id": "op_zwO_FnVNH"
      },
      "source": [
        "### **Identifying similar users to a given user (nearest neighbors)**"
      ]
    },
    {
      "cell_type": "markdown",
      "metadata": {
        "id": "o2QsfqhanVNH"
      },
      "source": [
        "We can also find out **similar users to a given user** or its **nearest neighbors** based on this KNNBasic algorithm. Below, we are finding the 5 most similar users to the first user in the list with internal id 0, based on the `msd` distance metric."
      ]
    },
    {
      "cell_type": "code",
      "execution_count": 36,
      "metadata": {
        "colab": {
          "base_uri": "https://localhost:8080/"
        },
        "id": "TbFle7cKmBJG",
        "outputId": "50e76bd5-5c24-4d34-de4f-f8f99587c5d2"
      },
      "outputs": [
        {
          "output_type": "execute_result",
          "data": {
            "text/plain": [
              "[2, 11, 13, 17, 19]"
            ]
          },
          "metadata": {},
          "execution_count": 36
        }
      ],
      "source": [
        "# 0 is the inner id of the above user\n",
        "similarity_algo_optimized.get_neighbors(0, k=5)"
      ]
    },
    {
      "cell_type": "markdown",
      "metadata": {
        "id": "Z0NsrX_anVNH"
      },
      "source": [
        "### **Implementing the recommendation algorithm based on optimized KNNBasic model**"
      ]
    },
    {
      "cell_type": "markdown",
      "metadata": {
        "id": "U3ESobDynVNI"
      },
      "source": [
        "Below we will be implementing a function where the input parameters are:\n",
        "\n",
        "- data: A **rating** dataset\n",
        "- user_id: A user id **against which we want the recommendations**\n",
        "- top_n: The **number of products we want to recommend**\n",
        "- algo: the algorithm we want to use **for predicting the ratings**\n",
        "- The output of the function is a **set of top_n items** recommended for the given user_id based on the given algorithm"
      ]
    },
    {
      "cell_type": "code",
      "execution_count": 66,
      "metadata": {
        "id": "vW9V1Tk65HlY"
      },
      "outputs": [],
      "source": [
        "def get_recommendations(data, user_id, top_n, algo):\n",
        "    recommendations = []\n",
        "    user_item_interactions_matrix = data.pivot(index='userId', columns='productId', values='rating')\n",
        "\n",
        "    # Convert index to string type to ensure consistency\n",
        "    user_item_interactions_matrix.index = user_item_interactions_matrix.index.astype(str)\n",
        "    user_id = str(user_id).strip()  # Convert the provided user_id to string and remove any leading/trailing spaces\n",
        "\n",
        "    # Debugging: Print user_id and index to check for issues\n",
        "    print(f\"User ID provided: '{user_id}'\")\n",
        "    print(f\"Available user IDs in the matrix index: {user_item_interactions_matrix.index.tolist()}\")\n",
        "\n",
        "    # Check if the user_id exists in the DataFrame index\n",
        "    if user_id not in user_item_interactions_matrix.index:\n",
        "        print(f\"User ID '{user_id}' not found in the data.\")\n",
        "        return recommendations  # Return an empty list if user not found\n",
        "\n",
        "    # Extracting those product ids which the user_id has not interacted with yet\n",
        "    non_interacted_products = user_item_interactions_matrix.loc[user_id][user_item_interactions_matrix.loc[user_id].isnull()].index.tolist()\n",
        "\n",
        "    # Loop through each product id that the user has not interacted with\n",
        "    for item_id in non_interacted_products:\n",
        "        # Predict the ratings for non-interacted product ids for this user\n",
        "        est = algo.predict(user_id, item_id).est\n",
        "        # Append the predicted ratings\n",
        "        recommendations.append((item_id, est))\n",
        "\n",
        "    # Sort the predicted ratings in descending order\n",
        "    recommendations.sort(key=lambda x: x[1], reverse=True)\n",
        "\n",
        "    return recommendations[:top_n]\n"
      ]
    },
    {
      "cell_type": "markdown",
      "metadata": {
        "id": "Oj_S7kh4nVNI"
      },
      "source": [
        "**Predicting top 5 products for userId = \"A3LDPF5FMB782Z\" with similarity based recommendation system**"
      ]
    },
    {
      "cell_type": "code",
      "execution_count": 67,
      "metadata": {
        "colab": {
          "base_uri": "https://localhost:8080/"
        },
        "id": "U1v1XVQAT4_f",
        "outputId": "6a5635ac-f346-4fbe-d794-cd72e0901482"
      },
      "outputs": [
        {
          "output_type": "stream",
          "name": "stdout",
          "text": [
            "User ID 'A3LDPF5FMB782Z' is found in the DataFrame!\n"
          ]
        }
      ],
      "source": [
        "if 'A3LDPF5FMB782Z' in df['userId'].values:\n",
        "    print(\"User ID 'A3LDPF5FMB782Z' is found in the DataFrame!\")\n",
        "else:\n",
        "  print(\"no\")"
      ]
    },
    {
      "cell_type": "code",
      "execution_count": 68,
      "metadata": {
        "colab": {
          "base_uri": "https://localhost:8080/"
        },
        "id": "qWbR85mI5Hrk",
        "outputId": "a61d2ceb-75f4-470c-fc7b-d5fd12d6ed19"
      },
      "outputs": [
        {
          "output_type": "stream",
          "name": "stdout",
          "text": [
            "User ID provided: 'A3LDPF5FMB782Z'\n",
            "Available user IDs in the matrix index: ['A100UD67AHFODS', 'A100WO06OQR8BQ', 'A105S56ODHGJEK', 'A105TOJ6LTVMBG', 'A10AFVU66A79Y1', 'A10H24TDLK2VDP', 'A10NMELR4KX0J6', 'A10O7THJ2O20AG', 'A10PEXB6XAQ5XF', 'A10X9ME6R66JDX', 'A10Y058K7B96C6', 'A10ZBR6O8S8OCY', 'A10ZFE6YE0UHW8', 'A110PC8C5Y7MQD', 'A110VKXAVLAYKY', 'A111WCUF5KA2I6', 'A1143YEAZYMYHJ', 'A11D1KHM7DVOQK', 'A11ED8O95W2103', 'A11EXFO14WEJM1', 'A11EYMH9UV9XG7', 'A11FX8HL2ANK6T', 'A11I1I9QLMAM1A', 'A11IXJ8M1JO296', 'A11KQADBYE0UZL', 'A11KZ906QD08C5', 'A11LNPG39A2ZV4', 'A11OTLEDSW8ZXD', 'A11P105WVK5240', 'A11R5VW7IM6ISQ', 'A11T807LX2EF00', 'A11ULAZ4B5ZXC8', 'A11YIHB6IW352W', 'A11YOTONCPRQ9S', 'A124WZCUIH2T7W', 'A12ANFNOSMW5VD', 'A12DLJESJKM1OQ', 'A12DQZKRKTNF5E', 'A12EVK82QUTSA6', 'A12LH2100CKQO', 'A12O5SEIF162P8', 'A12R3YGEHW7D8G', 'A132ETQPMHQ585', 'A13BX9O5UDBILC', 'A13EQE9EY2ET93', 'A13QOK3SKIT9QL', 'A13WOT3RSXKRD5', 'A13WREJ05GMRA6', 'A141OPVE376YFI', 'A141R97FHSSUQ0', 'A1435P5AMCPB3X', 'A145B8OHVNNFAJ', 'A145LBW8ZHF0TW', 'A149RNR5RH19YY', 'A14I1F2H7NOYDC', 'A14JBDSWKPKTZA', 'A14MZJTZAQS6CV', 'A14NA0W8ESGDSI', 'A14X244VGHWPSX', 'A14Z6D3IRJ23F7', 'A1522TN5FVJL0Y', 'A15CL28ALB7MTZ', 'A15G70V9OBTOVO', 'A15J71JLC29KPW', 'A15J9K7O10A3M6', 'A15Q2L6DYRTFIU', 'A15QYHQH80W30L', 'A15T9G38F589KM', 'A15TABNGK6L4N3', 'A15U64VGUV6RBF', 'A15XI2BEGGFEOW', 'A16C19G0I2DE8S', 'A16CVJUQOB6GIB', 'A16HXVNPU5TCGE', 'A16J281SJ9QXIQ', 'A16QODENBJVUI1', 'A16RI68PS6T5CA', 'A16RL0RMRF974O', 'A16SRDVPBXN69C', 'A16WP8NTPYB0ZM', 'A178M2AHNWQZB0', 'A17BUUBOU0598B', 'A17HMM1M7T9PJ1', 'A17NVM7IAPF2NS', 'A17O9AHKHK66AI', 'A17RFKCYS69M3Y', 'A17UNMURMLX0ZE', 'A17V9XL4CWTQ6G', 'A17W0GMB0YY83M', 'A17Z0LVY96TO53', 'A185O1MX1RP964', 'A186697K4XKXQL', 'A18A5VSD0IPN14', 'A18EA7MNLXP9H5', 'A18FLOC8YQY0P8', 'A18GJ9MYYO6GCQ', 'A18HE80910BTZI', 'A18L9A64XNGVGU', 'A18NDN2CIG2TKR', 'A18OTCHQ6MXD6X', 'A18S2VGUH9SCV5', 'A18U49406IPPIJ', 'A18YMFFJW974QS', 'A1901NTE8LFJF6', 'A194Y47BF3CUTJ', 'A195EZSQDW3E21', 'A196JN53PG0C7R', 'A197T2N6RU7K56', 'A1987V5OCO6QHS', 'A198CCH4NNLI2E', 'A19EKT8H85AKO5', 'A19FRW264WZTGP', 'A19HKRB4LU5YR', 'A19HT7YC1UW3D6', 'A19N3S7CBSU6O7', 'A19NP8YYADOOSF', 'A19RGDJPNZ7NZ', 'A19RW25Q6206I3', 'A19UTUEBWKIZFT', 'A19W47CXJJP1MI', 'A19X4BF861LQST', 'A19XMHRB3G4DIR', 'A19XPAWSWDRI3B', 'A1A306IAZ3TM1', 'A1A535TCGNMVPI', 'A1A5KUIIIHFF4U', 'A1AH8033GWKBY7', 'A1AKW788238PWQ', 'A1AQ8JT2A3UWMY', 'A1ASWDAEDTTY5I', 'A1ATVMMJZP3Q4X', 'A1AWL9JASMG904', 'A1AZQCVCDBQP6', 'A1B0NL8UWAELI7', 'A1B4MIXYVIKMU2', 'A1B6O7SAIYG2N0', 'A1B8EJQU73YGL9', 'A1BBYSMT9YCODI', 'A1BC62X6HZJGZR', 'A1BJOHHLG0D965', 'A1BT6TL7UCIC5Y', 'A1BVE2ZIBKJ7YI', 'A1BXVZSQOJE6UE', 'A1BZIM4WGZ6DZP', 'A1C47ROOK7BSVL', 'A1C5TCCR2IGKBU', 'A1C5WS021EL3WO', 'A1C82BC5GNABOA', 'A1CM4HI4S5P0WO', 'A1CMD08Z49PGKQ', 'A1CMWB7AWQUQH4', 'A1CN1P7147QDJC', 'A1CPRP3VFJRS1R', 'A1CSRR7FCKBL9M', 'A1CST2WUA32GP0', 'A1CYTBE7LLUQ8F', 'A1D27BCSYV7VWH', 'A1D9V11QUHXENQ', 'A1DB5QPH7WO488', 'A1DO9LRCO23EOM', 'A1DQHS7MOVYYYA', 'A1DSRM2P0WGQNS', 'A1DTCJV6KOMJOA', 'A1E1LEVQ9VQNK', 'A1E3OB6QMBKRYZ', 'A1E55W6ES0FY17', 'A1EH2S92FHWZRP', 'A1EKSETIBS9ETQ', 'A1EOTB1WHLSW6G', 'A1EQ5D5JRSW23K', 'A1EVV74UQYVKRY', 'A1EXGL6L0QQ0M5', 'A1F0KPA232MTYC', 'A1F1A0QQP2XVH5', 'A1F5O1USOUOOXI', 'A1F7YU6O5RU432', 'A1F9Z42CFF9IAY', 'A1FDSZISWIXH1A', 'A1FDV3WPOHREY9', 'A1FF2PLA84KNAE', 'A1FLJCHN5CG5M5', 'A1FMU4CJLIDHR9', 'A1FOSIV4TWZFR7', 'A1FR68QH6Z4YZM', 'A1FXT4VNDA25LY', 'A1G3DKT38DNZJP', 'A1G5MI2KREPEIB', 'A1G650TTTHEAL5', 'A1GBT4UN2RW7XY', 'A1GBU479WXR7UG', 'A1GNYV0RA0EQSS', 'A1GQRGB8FGSLIZ', 'A1GW7V6S6XSXX3', 'A1GWG5CWLKJ7ET', 'A1GYEGLX3P2Y7P', 'A1H0D7635GEEJ1', 'A1H4IVXNXWWBLV', 'A1H55L0BLPCWYF', 'A1H6SBO7R007I8', 'A1H7Y5XKPGT0OS', 'A1H98YV5K5BUX0', 'A1HBEQWSMVQEWJ', 'A1HBI9BBQIG1NH', 'A1HFT68GJ42LTM', 'A1HSM98KUGTHNY', 'A1HYH206E18XVC', 'A1I96OYAUJ3HQE', 'A1IBKN1GXYJ3K4', 'A1IDAKX7OM3QIE', 'A1IG1I6MR3HAWA', 'A1ILWPH1GHUXE2', 'A1ITRGMT80D5TK', 'A1IU4UAV9QIJAI', 'A1IU7S4HCK1XK0', 'A1J5HIF41ENSMZ', 'A1J75JJ0Q2OEJN', 'A1J87SYB3JPQWH', 'A1JBEKU5TYIWE7', 'A1JUBRIZMO0RJV', 'A1JWSDDIH5Z7DV', 'A1JZFGZEZVWQPY', 'A1K4G5YJDJQI6Q', 'A1KD8NJPZ01R37', 'A1KDUQ2HU0WD68', 'A1KI7YHQEOS1RB', 'A1KKE6VX8VPWZK', 'A1KSNK256G46GX', 'A1KWPIORLG2QV', 'A1KXJCXS6HFRQZ', 'A1KY5G5FP31F2F', 'A1L0P1ZP5FD6EC', 'A1L1N3J6XNABO2', 'A1L5TA5UQF7EWE', 'A1L64KDYO5BOJA', 'A1LA4K5JF78BER', 'A1LAGS8H4A2DR7', 'A1LD5SE8IZ1H70', 'A1LHMSY3Q46PJS', 'A1LYMYNURB9EWW', 'A1M7HP5CHDXXOU', 'A1MBXP3NZM2BUO', 'A1MCH5RXDOH87H', 'A1MEISNED4NP7U', 'A1MFAPVBW9BEGD', 'A1MFPAM9TTRTXN', 'A1MFVAHTT2BHM0', 'A1MJMYLRTZ76ZX', 'A1MNN0ZMHYPJDU', 'A1MQQEM7W77L62', 'A1MRPX3RM48T2I', 'A1MRRMHGV3PN5W', 'A1MZL91Z44RN06', 'A1N3EH28S4DI8L', 'A1N5FSCYN4796F', 'A1NAA1R38JSNHV', 'A1NGFGBX2VCQS8', 'A1NJHKPHD4YWZV', 'A1NMM0RDRF6R84', 'A1NNMOD9H36Q8E', 'A1NQFT941TOTT7', 'A1NRMTQ5SZPZA', 'A1NZLRAZJGD99W', 'A1O229NVVDJUX2', 'A1OA2ZW406NQXM', 'A1ODOGXEYECQQ8', 'A1OES7R7FDAT2L', 'A1OGCPMSIVK7G4', 'A1OH33MR6K4G5J', 'A1OMXVXXP07F05', 'A1OO9N1MRNQ7K0', 'A1P0JSFW184ZXJ', 'A1P3DDFL423B3C', 'A1P4XD7IORSEFN', 'A1PAGHECG401K1', 'A1PEXTGNF36I1Q', 'A1PI8VBCXXSGC7', 'A1PL7QILVQV3IF', 'A1PM7HH4F77NEH', 'A1PN2U0AWXGVML', 'A1PPS91NLI7KEH', 'A1PS4OYWUB0VX', 'A1PSVZBM894R5H', 'A1PV5T5S4D5NPI', 'A1PVJICI412IN4', 'A1PVX61PRPVX27', 'A1Q5P5ML3176C0', 'A1QJ10LEINDRWW', 'A1QLQCJVGCQPP0', 'A1QNYLBG73QRNF', 'A1QOIHVQC5XWCJ', 'A1QOK9LU90ACF7', 'A1QQA7Y92L4F9R', 'A1QRST0A3IQIEF', 'A1QVFHPY8418HC', 'A1R19YYR5OR26T', 'A1R377IPZOKLMM', 'A1R3GN9MEJFXM3', 'A1R6RKKE44AYA8', 'A1R76R4E6A8S3B', 'A1RCGK44YXNBBB', 'A1RDHBBZE1NPS3', 'A1REY92IEZJUSX', 'A1RJKTYC03L0JY', 'A1RL1OTV8IJMVD', 'A1ROUMJOGO4QMB', 'A1RPJHUVVSI98A', 'A1RPTVW5VEOSI', 'A1S27P7KJO9I96', 'A1S7BFT0HDF3HA', 'A1SB9BNNGKNX2Z', 'A1SC5OXLQNGPLN', 'A1SDPA1J98UP4L', 'A1SFPA80X7TRBR', 'A1SHHQSPOWR00F', 'A1SX9PHJWTDMF9', 'A1T1YSCDW0PD25', 'A1T7EHCMZ92TKC', 'A1T9MILRRZ00F8', 'A1TDR7Y90SVCHL', 'A1TFDMY4YNTV97', 'A1TQBAHI3M4ZBQ', 'A1TQZUSOU22E9M', 'A1TR1R2QKWRSRA', 'A1TY97ZGQT5FGF', 'A1U11IP6K6NHAK', 'A1U4GOVZWL8ZTL', 'A1U5IJHJK84S54', 'A1U5NWJOYH2QQH', 'A1UCAVBNJUZMPR', 'A1UEL5C1N6E5SE', 'A1UL2JH7XOUGM5', 'A1UMSB7LAW0RIR', 'A1UNJ46NSB352E', 'A1UQBFCERIP7VJ', 'A1UQUDT2Q0YENM', 'A1URXSRV6WDHVY', 'A1USYP4AXF5I1D', 'A1UTM65Y3G9HUL', 'A1V3TRGWOMA8LC', 'A1V4A5U5O3TMMD', 'A1V4VVBQBFXRHC', 'A1V5TRJXTI6F01', 'A1VEELTKS8NLZB', 'A1VFX417XDNWIU', 'A1VGXHHR08G044', 'A1VHCO8RQFIGQJ', 'A1VJ0V58N0698J', 'A1VLE2SH9J8WYS', 'A1VLVWTLV3LVHR', 'A1VOFY3QFT9WCG', 'A1VQBEW0G4IH1J', 'A1VQHH85U7PX0', 'A1VR1HIOVQWN09', 'A1VRANSQ0WF1YS', 'A1VS1LL905P5L5', 'A1VTCSCH8FFC76', 'A1VUN4JU731CBH', 'A1VVRA3P6G1TWH', 'A1VYFEJM12ZP11', 'A1W415JP5WEAJK', 'A1W4F91DH3XPB2', 'A1WF4QNIE2Z3I7', 'A1WG97A0EFHYXN', 'A1WJ3P43SZUNDM', 'A1WUQF5HWBAQJU', 'A1WXG10FJ353K0', 'A1X1CEGHTHMBL1', 'A1X2LENOF84LCQ', 'A1X3DA7C61WZLQ', 'A1X3ESYZ79H59E', 'A1XB7JGJ459ERP', 'A1XE3M22N91451', 'A1XEQGYY1IL8CD', 'A1XK4VP74IB9TQ', 'A1XXMNLOLKNO0I', 'A1Y051MQ2SVPFI', 'A1Y4EWMUTW73GD', 'A1Y85GQ09Y95JL', 'A1YE1IK0JYSIIE', 'A1YEPFLLH42OU1', 'A1YN5I4FINMBTI', 'A1YVO5V1SO18DZ', 'A1Z16630QMH8Q6', 'A1Z3598J0371ND', 'A1Z4GII5CHCDG7', 'A1Z7SC7HH1BJKA', 'A1Z7U9K6X3FEOU', 'A1ZA5SXZS8Z3CK', 'A1ZBEIL78MLR9Z', 'A1ZCSSCAGBCD49', 'A1ZM846Y7AUYD', 'A1ZPUEHF4AES86', 'A1ZPY91VE3IDN1', 'A1ZTR0FR5AW9B4', 'A1ZU55TM45Y2R8', 'A1ZVFCPHCWFV71', 'A1ZXMMQPYC3Z9I', 'A200DY76VXVGP9', 'A200RY2ELZL2Q3', 'A203OCQQ12MAVT', 'A204K1OFE8OB9Y', 'A206CGM6J75UJY', 'A20951I210L0IB', 'A209G57KXCBF4C', 'A20DDH4NT6Q1E8', 'A20DZX38KRBIT8', 'A20G074MWH9U7O', 'A20H1M28WLI9J2', 'A20L63B48RPSOH', 'A20OBCQWBKCGZT', 'A20UU20K7M9ZPF', 'A20VG5W98SX99L', 'A20WUUD9EDWY4N', 'A20ZM879PCQQEZ', 'A212MDP6K4VJS5', 'A213J54E63SYOP', 'A214W7SK2DJQ99', 'A215IN14OKAE2T', 'A215WH6RUDUCMP', 'A21GW4L8FO307V', 'A21I62TCDL4754', 'A21INUA35HX4XQ', 'A21KNRUAA5RK5E', 'A21NS06GDEA3V0', 'A21Q9JVG4SII51', 'A21S26XYPGXJZX', 'A21T0D2F7SKG5S', 'A21VM9WVF8EOSJ', 'A225G2TFM76GYX', 'A226VGZWOEBPGL', 'A2294LS59GC5K7', 'A22CW0ZHY3NJH8', 'A22I55P15NSAOX', 'A22MANL4US4RMY', 'A22NKFOH9RATRC', 'A22R9L5DAVYYWR', 'A22S7D0LP8GRDH', 'A231WM2Z2JL0U3', 'A233TZONT1OGR0', 'A23D13HKTA95WX', 'A23E9QQHJLNGUI', 'A23GFTVIETX7DS', 'A23NSKTMSPPBTR', 'A23ONMGKEWDG4M', 'A23QII83UGZP5U', 'A23R3EOZ837242', 'A23WPWLYT3P1CZ', 'A23ZNGL704AW7O', 'A23ZXHFLC6TBLD', 'A240FRPD4MEXND', 'A247L282PID4PE', 'A24ARANWS5E3T8', 'A24HWYHR28JJ7A', 'A24J2Y1O22JYZX', 'A24P4E3RJ6AX94', 'A24QFMD1RXLJMB', 'A24RCBRDXRXR0Y', 'A2503LT8PZIHAD', 'A250AXLRBVYKB4', 'A253IOATGMT2UP', 'A257X1MQJO82P2', 'A259MPG6SOL02P', 'A25C2M3QF9G7OQ', 'A25FL6VLD7S23S', 'A25HBO5V8S8SEA', 'A25KKXUQQ0OLWB', 'A25QJBK33C4O0R', 'A25RTRAPQAJBDJ', 'A25TNBMJ4ZO7RD', 'A25TQLMIAPI1T6', 'A25UZ7MA72SMKM', 'A25WJCAP606YMP', 'A267FU71Z01CIH', 'A26877IWJGISYM', 'A26BDXG9KVH7SU', 'A26CPEEWB2WKRE', 'A26EQ8U96JA92T', 'A26KXNN6H1IL0I', 'A26LD9FQHTM8ZH', 'A26SO3TOT2TLJE', 'A274MXTX3DYLUV', 'A274X54O9CN2SR', 'A27ADCSD15F3GL', 'A27AF4DLLOBQDQ', 'A27B1U3OWCU14J', 'A27GITTN6AVW5I', 'A27H0T39U3FZB5', 'A27H61OHW44XA7', 'A27M75LRSJ788H', 'A27QXQQOLAMRRR', 'A27T4RQ3XA661C', 'A27TN8D0CZ8LUY', 'A27Y4OEC9MD9PA', 'A28525P0S5ZVJ3', 'A2858RV2VLI14X', 'A28621TSIR5EOG', 'A28BX3MM90A6FI', 'A28CCQNXWV6WA2', 'A28I5UM0FT3I6T', 'A28J3123I1QDKI', 'A28LUOEY0ECT9G', 'A28N2AWOVO2PB', 'A28P7V9KI7MXP', 'A28RSMADFCBJDT', 'A28UMA3GW9L124', 'A28X0LT2100RL1', 'A291XTI6NO7DEG', 'A292TRC6DX2GKK', 'A294BKN913UOGP', 'A296QED1MV1V0J', 'A298GL2D0BHGKZ', 'A29GWIJL72GXXZ', 'A29KJ32G75L7G9', 'A2A4X545ERLS7H', 'A2AC6GQ24S45GA', 'A2AEZQ3DGBBLPR', 'A2AF0NOCM71J0B', 'A2AFTRU43PY9P5', 'A2ALRZ0ENQLYY5', 'A2ARDVMUGDFED6', 'A2AX2UGB167J31', 'A2AY4YUOX2N1BQ', 'A2B7BUH8834Y6M', 'A2BCDZO1XQLDH', 'A2BGZ52M908MJY', 'A2BIJMB2BITQUM', 'A2BLFCOPSMBOZ9', 'A2BMZRO0H7TFCS', 'A2BUQ240COLAOP', 'A2BX8DDQGCCG2J', 'A2BYV7S1QP2YIG', 'A2C8I2RQ0WG940', 'A2CIQEY05SPHTZ', 'A2CL818RN52NWN', 'A2CPP7BZKOF9TP', 'A2CWIYIETNBAK3', 'A2CWUM49ZWMGEY', 'A2D0CO1OA6DSWY', 'A2D1LPEUCTNT8X', 'A2D1ZQEFS1NBH2', 'A2DF62DP20RIXF', 'A2DG63DN704LOI', 'A2DIQTZPF26T1L', 'A2DKQQIZ793AV5', 'A2DS9DLMSU2M2Z', 'A2DXENZNO2JT4F', 'A2E1EFNIZL2FVA', 'A2ED50E3KWKUKW', 'A2EF8N7ZE7ONWX', 'A2EHYCA29NSQLU', 'A2EMUM49CE0JV4', 'A2EN82VBJT44QP', 'A2ER8G4JJJ7XER', 'A2EW01G2LNJN06', 'A2EZTM9WY5B5IL', 'A2F2F7N94SR1KQ', 'A2F2GLVFRNV7JJ', 'A2F4HP0J5VNOYR', 'A2F7CSE6KT7NI4', 'A2F92M62KN324B', 'A2FHTXLKY1XJDB', 'A2FRKEXDXDN1KI', 'A2FSOHSM9X13JT', 'A2FWZ58M6IQMD7', 'A2FXBWR4T4OFQ', 'A2FZQF0MH29VYN', 'A2G563AC1HME2R', 'A2GKMXRLI7KLFP', 'A2GMZZ6TDYOHY7', 'A2GOHNFBHUU3UI', 'A2GYV87WW0DMSN', 'A2H4OMJLE7JFM2', 'A2HBOG4LVIY15L', 'A2HDTOF8222KN3', 'A2HJY7418G1KV1', 'A2HKUM9OEBQKDW', 'A2HMF8ZR67BNZS', 'A2HNH4PKE5DPSI', 'A2HPJKM7L4EOQB', 'A2HRHF83I3NDGT', 'A2HV76MYH7UL3S', 'A2HXE29CU1I24Y', 'A2HXEJXEQQTM1D', 'A2I18AO597DSDI', 'A2I2KPNJDQ9SL0', 'A2I357I10ZY7CI', 'A2I5LVVQ7WXEH6', 'A2I6GN7OHB9JKF', 'A2IFGGXG3YV3Y6', 'A2IFKH3TJ10387', 'A2IIAQ7VVAHXTD', 'A2IMLOJ2Z2QEU2', 'A2IT7S59GSASN7', 'A2IXK5LB4Y0NYV', 'A2J0IBS4PFRO2C', 'A2J3VCGBNDLAKF', 'A2J4XMWKR8PPD0', 'A2J7FHZFKOKGZ6', 'A2J8DE8R94ZB02', 'A2J8T58Z4X15IO', 'A2J96FILPQA01', 'A2JAEZ0FMAMJVW', 'A2JCJJNY43QQIV', 'A2JE071UW97J2A', 'A2JKM8KF3296CW', 'A2JMJVNTBL7K7E', 'A2JOPUWVV0XQJ3', 'A2JP9E1H0SF392', 'A2JRDFIGWTX50J', 'A2JWF9IG8PJAOA', 'A2JXS1JII6SAUD', 'A2K5RRMPICZ606', 'A2K6CDQ9HZ359G', 'A2KHG3JOFXQ4CE', 'A2KIJBT9HRIOM8', 'A2KOV8XWZOZ0FQ', 'A2KYRPDKVBI2R4', 'A2KZOIOFXXMC1H', 'A2L0F2T1DLTNT8', 'A2L36AGL8CKY3D', 'A2L42QEWR77PKZ', 'A2L4W1M5YU5QX3', 'A2L4ZGN7GZJ95T', 'A2L90SGUP36KGA', 'A2L9OPJAAEK08Q', 'A2LB4FLRZG6CUV', 'A2LCE1D0TW2XY0', 'A2LEIANN1UZTHP', 'A2LF07KCXDR70D', 'A2LF16F0KX9L7P', 'A2LFWJ8X817QGX', 'A2LLSFQO8O8XNW', 'A2LTYEYGKBYXRR', 'A2LW5AL0KQ9P1M', 'A2LXX47A0KMJVX', 'A2M14CFAMF8J7I', 'A2M9ME0N2S3R39', 'A2MCRCK1V61FWQ', 'A2ME89MSWVG9NF', 'A2MIP3AQVSF2SS', 'A2MJ8OL2FYN7CW', 'A2MOD50IHEDH3G', 'A2MOJANFPX353G', 'A2MR696ZU17F12', 'A2MSBIA18RXYQC', 'A2N3JSOIQ6ZNFL', 'A2N75ADJSRW0AH', 'A2NB2E5DXE319Z', 'A2NJQF2UI60VGT', 'A2NLI1M5K2MQ5E', 'A2NN1KIYEM2SKS', 'A2NOIWPJDD7WIQ', 'A2NOW4U7W3F7RI', 'A2NP9CGUSFP22E', 'A2NPN06SYI5VL3', 'A2NQMVTQ4PVLL', 'A2NSMJVQY0RV9S', 'A2NSXY5L42ZUGO', 'A2NT3W1F1XYBFZ', 'A2NU9H8H5MJZSL', 'A2NVQZ4Y7Y0J1R', 'A2NX6MFZP8TM6S', 'A2NX6PABLIJLP1', 'A2NXRD80LWHUOP', 'A2NYK9KWFMJV4Y', 'A2NYOY6H42SORF', 'A2O6HZ2B9YSRXR', 'A2OBDNQ5ZYU1L8', 'A2OKRGHIYTBQ6P', 'A2OOLI2WFY4L2', 'A2OOXVZ6B1VZ9A', 'A2OS3TIVAKUAHG', 'A2OT3PDH1AWLTG', 'A2OTQMC69J8MUI', 'A2OWR5G2OAQF7C', 'A2PB325LKXYDOL', 'A2PC9ZZIFV31B1', 'A2PICNZWHEINQC', 'A2PJH18W4XHTZW', 'A2PK64OVZA1U8Z', 'A2PL06HW6KZH2', 'A2PMR2PIGWKCQ9', 'A2POXR5VS3PHKR', 'A2PREU4LOFQRB1', 'A2PSC7LUNIDEAH', 'A2PSD2R9A1CXG7', 'A2PY5ED630H0QJ', 'A2PZXXPGLXXKZU', 'A2Q204DY2L7YRP', 'A2Q2A6JKY95RTP', 'A2Q7OJTVPIO2XH', 'A2QAOP52OEB5EV', 'A2QDOJFFLFGF18', 'A2QI2JHSIQ3SN3', 'A2QI2NTDTMK2FV', 'A2QIC4G483SQQA', 'A2QNS95WGN35G9', 'A2QRXQPHDMFCQV', 'A2R1HUYHXV7H18', 'A2R6RA8FRBS608', 'A2RG1B0K8YBJ4A', 'A2RGA7UGAN3UL7', 'A2RGWCT6K2C3EZ', 'A2RIL2NXHE00AQ', 'A2RIXSMGE9VIBG', 'A2RN2AO4BE6F4K', 'A2ROZACRW31PC2', 'A2RS66Y79Q8X0W', 'A2RTVGR9B1M600', 'A2RU4U1JZ3DMP5', 'A2RW587355CMVA', 'A2RWHTNM5P3I8Y', 'A2S26YGSVXBCFL', 'A2SATO5BNKWY3Y', 'A2SGAJWXG65464', 'A2SH6A32BE6NEV', 'A2SH7OWE8QJYNC', 'A2SKEQT0WTB954', 'A2SL5IW096Z2BL', 'A2SNE4QQGVP13U', 'A2SPV96SGOEO2', 'A2SR7S6ZJJDGNB', 'A2SYAQXJGRY3XE', 'A2SZLNSI5KOQJT', 'A2T24Z5QP2OMXU', 'A2T3S3VTW65VO5', 'A2T689YVOAYGGD', 'A2TA40MV2H4O6F', 'A2THQCHKR89E16', 'A2TKWMX4563NR6', 'A2TMFC9O3ZCNKE', 'A2TN0U8173HM7A', 'A2TRXEZYU9GYY8', 'A2TVH2OBNXYXHV', 'A2TVJ0YDW3QO63', 'A2U3OEIK1CUPIK', 'A2UCDLO7V7DG6', 'A2UEB48LAWFUCW', 'A2UKE7GIVC7XFW', 'A2ULZRSHXS3HL7', 'A2UOHALGF2X77Q', 'A2UQK3DAZ8NO2T', 'A2UTZ4O5E2W4DK', 'A2UWPPU5GZLMQZ', 'A2V0I904FH7ABY', 'A2V1J3JT5OOZFO', 'A2V2URLB31HG59', 'A2V5M5EJPOD2IU', 'A2V7EO331SFUF6', 'A2V9DTXTQ5YIMK', 'A2VAD79S4A06DD', 'A2VALCFTOWFYXZ', 'A2VC48WIMY6L6E', 'A2VCXIAWCPQ13P', 'A2VH0UT5EQFB6P', 'A2VIYTWXANL343', 'A2VJ5ALN1BIV3B', 'A2VODABWSVHV8E', 'A2W0XCWOK3MW6F', 'A2W2ODLRQ2L8LE', 'A2W9GX82SLKROQ', 'A2W9I628I6SE1U', 'A2WA8TDCTGUADI', 'A2WB7LZ595CR50', 'A2WBVO6X3KPMDT', 'A2WC9NFLG57W4H', 'A2WCFDOCS73PNB', 'A2WDCAMKCCP1UR', 'A2WF58BAWLVI95', 'A2WJ5XSE4I9F55', 'A2WLNSZ9U0T1S3', 'A2WPL6Y08K6ZQH', 'A2WW57XX2UVLM6', 'A2WXURU33RBGQS', 'A2WYF4POBUXL2O', 'A2X06FP2PQ6EK0', 'A2X3L31KCXBHCL', 'A2X61KKXXR6WNP', 'A2X695AM08AIN1', 'A2X78O6G89CB30', 'A2X8KN82L07RSK', 'A2XA8CW5DF4MNZ', 'A2XAKGRUHIE2ZA', 'A2XCCN239AR1XK', 'A2XHOLOLKGV1FE', 'A2XIOXRRYX0KZY', 'A2XJMQ2COPGWJH', 'A2XPK6XCL0UH1S', 'A2XQYE6TJYROHQ', 'A2XRIU3SOYZ0ZC', 'A2XRMQA6PJ5ZJ8', 'A2XU6J41ZQOJ2V', 'A2XX2A4OJCDNLZ', 'A2XXBZPQT5EXHV', 'A2Y1WNETD9AYHO', 'A2Y29IRSI08F0I', 'A2Y3WWPUKIJ59I', 'A2Y4H3PXB07WQI', 'A2Y739CRM15WDL', 'A2YEOR4XJ8N3QE', 'A2YEZ8Z3BW2SKG', 'A2YHXGPCTENZY3', 'A2YRX8J4WM5BRX', 'A2YW6XOID7GV6G', 'A2YYHSORXIHZCS', 'A2Z1R98M2XOCEJ', 'A2Z2MUP8JRJXEU', 'A2Z9S2RQD542CP', 'A2ZDY0V4Q1SZD7', 'A2ZFBTGPDP6PH6', 'A2ZFFSJ0VM6KSJ', 'A2ZGDHLJ85T6AD', 'A2ZR3YTMEEIIZ4', 'A2ZRG5NOFZ47RK', 'A2ZRMCRLDSUX6R', 'A2ZWJVKITA32OV', 'A2ZY3S7SD3QO8Z', 'A2ZY49IDE6TY5I', 'A303SNZ4AR7TDQ', 'A3077MQTAKOVFZ', 'A307Y3LMCVEZS1', 'A3094EPI56GKZ6', 'A30ADSBTWCORYC', 'A30C8WHQ2CYFO4', 'A30J7WQV0ZNRXG', 'A30JPZ9TZ7I61U', 'A30KPB2ILF6K6J', 'A30R8VFR16RE32', 'A30UP2KKD5IQEP', 'A30X750M8V1XXW', 'A30XZK10EZN9V4', 'A313H6238N589', 'A314KKDIJWCNMV', 'A316XO4RWX21YN', 'A319Y83RT0MRVR', 'A31BD4RXCON7QO', 'A31HE83MU98GBV', 'A31HOWJKEIY037', 'A31ICLWQ9CSHRS', 'A31N0XY2UTB25C', 'A31RULW0KNYJ5H', 'A31RZMVAFMLB8B', 'A3223W5IROMYTY', 'A32482Z7XIKDQX', 'A324X7RVDAV3FT', 'A3284KYDZ00BZA', 'A328GLDSDNFYII', 'A328S9RN3U5M68', 'A32AFX2PUJ82HG', 'A32AK8FOAZEPE2', 'A32HSNCNPRUMTR', 'A32JCI4AK2JTTG', 'A32LX4XJ2LU740', 'A32NEDX6UVV8DE', 'A32O5FZH994CNY', 'A32O98PFC3OP7K', 'A32QOZWIKQDNZX', 'A32T2H8150OJLU', 'A33152QEGO2MZN', 'A335QXPTV1RIV1', 'A33775AIB1A664', 'A33CNFK776MTWR', 'A33GNK4YENACDJ', 'A33HIV8RXRDM88', 'A33PVCHCQ2BTN0', 'A33SX0AD5PYD9B', 'A33XMCG1UFDSY2', 'A33YZNZIRA3H97', 'A33ZYFE8XMKKR1', 'A341HCMGNZCBIT', 'A34BZM6S9L7QI4', 'A34C9AFFZOI45T', 'A34CKIMZ969UW7', 'A34CSXOGVYF94S', 'A34DQINHT6NYJU', 'A34JKODTSKCGEN', 'A34LQ791ACZ0JC', 'A34UVV757IKPVB', 'A34VRVI4CSI5RQ', 'A353U0L2HAMSHV', 'A356RFKNIG043B', 'A357B3PUHSVQA', 'A359MYLPLEOF7N', 'A35A2RWUMC737N', 'A35C2IVVQR1HTK', 'A35HNL2VEDK9Z1', 'A35HOUWHAYZZN6', 'A35HUT8MQMT21L', 'A35IX2GE0VC0JP', 'A35KBAQ4VBNQ6L', 'A35OIWPVTGW3UC', 'A35Q0RBM3YNQNF', 'A35SNSDRNE9P8Q', 'A35W3JQYP0M655', 'A35X2JJI49OBZP', 'A361M14PU2GUEG', 'A361U4SXK7FCQE', 'A362FM6FYA1SYS', 'A3639Z6O5JBLIZ', 'A365PBEOWM7EI7', 'A368IPE6EW0GZL', 'A36A1ZYZH8568P', 'A36IHC0K68NS2', 'A36K2N527TXXJN', 'A36MP37DITBU6F', 'A370XYLIZCSK1Y', 'A376OJHLE6SU9Q', 'A3775OP5VTX5ON', 'A377LPVLLAI42D', 'A379DLIAF0MFM5', 'A37CEYB95LK6R6', 'A37D1ZP8GBHE38', 'A37IRE9GZ0CZ7I', 'A37PV5GMP2ILJC', 'A386LG0LRWKJZP', 'A3872Y2XH0YDX1', 'A38C12950IM24P', 'A38CHSS1ZAE51B', 'A38KK0SZYEH5UD', 'A38NELQT98S4H8', 'A38NHXL5257E3B', 'A38QEATH3NODFM', 'A38RMU1Y5TDP9', 'A38V76R24EJSHA', 'A38Z6QG6988WS7', 'A39137LW12KK7B', 'A3963R7EPE3A7E', 'A3977M5S0GIG5H', 'A39K52QDP4C3ZS', 'A3A15L96IYUO6V', 'A3A4ZAIBQWKOZS', 'A3AG5QAT8L0I3R', 'A3AGQAXTX6VRJ3', 'A3AVJCB1ZD6ZY5', 'A3AYSYSLHU26U9', 'A3AZI828WJN1CD', 'A3B20R4ZAH0Y2Y', 'A3BACUOZV1M0WM', 'A3BI8BKIHESDNQ', 'A3BKNXX8QFIXIV', 'A3BNMHRW2R35LK', 'A3BVN2QBNPBHCR', 'A3BY5KCNQZXV5U', 'A3CEUT263RNUDO', 'A3CFU12GS5CZCN', 'A3CG93783LP0FO', 'A3CIET1UO3G51E', 'A3CJ7MHAS9IMAM', 'A3CJOB7CHOSZUG', 'A3CKI6VEH0HBMJ', 'A3CLWR1UUZT6TG', 'A3CMO216CWOF5N', 'A3CP3J7OEGQMD5', 'A3CW0ZLUO5X2B1', 'A3D01HLSUFEZQY', 'A3D0UM4ZD2CMAW', 'A3D1TZH619NKHN', 'A3D2VIUT2HWP0Z', 'A3D5B2CBFNJB0K', 'A3D6OI36USYOU1', 'A3D7BGK0P5QY0X', 'A3D822N1K2IAQD', 'A3DGJMO6VPG6FJ', 'A3DL29NLZ7SXXG', 'A3DOPYDOS49I3T', 'A3DQWFWINN3V5A', 'A3DWO5RJDA430F', 'A3E049PVKG7NDK', 'A3E3EQ39FZTZEK', 'A3E68EBGXTWDNP', 'A3E9O1VNJ3U324', 'A3EFSLEMHNPP6A', 'A3EHJ5519LG7TR', 'A3EK2KTYHJCPB9', 'A3EM243NDJ4DF3', 'A3EP26M3QHINXT', 'A3EPJSPH03AS29', 'A3EQQHWJ1EEYEU', 'A3ER6ARJ23CIN8', 'A3EWJX7W1X7E79', 'A3EX8ZFNVDHGPM', 'A3EXWV8FNSSFL6', 'A3EZEP0FX5BC1P', 'A3EZFFPVS34AMO', 'A3F3B1JPACN215', 'A3F3B6HY9RJI04', 'A3F7F7QKQP2FKT', 'A3F7USIDJBR8WU', 'A3F8T3BRXRX5P3', 'A3F9CBHV4OHFBS', 'A3F9CMU8KNAY1M', 'A3FBM0RMCMAABV', 'A3FEGTOLCWXSV4', 'A3FEJ8H2VTN0OJ', 'A3FFZQKCA7UOYY', 'A3FKQQTSMHOCE0', 'A3FOSLM5G1BO63', 'A3FPSY1M6G7XIB', 'A3FS3FJPD3RJTD', 'A3G007LQX6KGOD', 'A3G5MOHY1U635N', 'A3G7BEJJCPD6DS', 'A3GFQHHVMEAIO', 'A3GQY0TFRG0MPZ', 'A3GVXKCTFN3YDN', 'A3GX0FAMEXV6FB', 'A3H4S6YO9VNGDZ', 'A3H6NNGCINPLEC', 'A3HC7NWLKCPX4X', 'A3HCMJOGRRSAF2', 'A3HH340REI4J47', 'A3HPCRD9RX351S', 'A3HQAPXAJV7PRX', 'A3HR0ZZOFKQ97N', 'A3HRDRQ5VAFPQS', 'A3HSDV9Y0TV5Z2', 'A3HXGSMCIOZEW8', 'A3IJ4Z18FTIIP', 'A3IJL9A50KVVZ1', 'A3IK2VCQ007CJ', 'A3IMALU0RM8UT9', 'A3INN916E4VION', 'A3IOQ7NVVLAUEE', 'A3IRA0BHI9NE9U', 'A3IUW081KXD3PE', 'A3IY316DRNF5F2', 'A3J029KBNG5MNP', 'A3J2YU2D9BH2J7', 'A3J3ZHGDUDPCFL', 'A3J6Q0Y0SKY7AR', 'A3J8A5L5AF5TX9', 'A3JAH5WW61N2EK', 'A3JLOIXFM75QNV', 'A3JNBO7H2SPL44', 'A3JU16JTNLVK1J', 'A3JU990UTN5RQP', 'A3JUHP1E3WUHEA', 'A3JV071KO43Q5X', 'A3K91X9X2ARDOK', 'A3KCETSIJNOK56', 'A3KCKECEO3E2AN', 'A3KNGMX2RVQG91', 'A3KTWUXXB8KKC7', 'A3KZ7OH4VRL048', 'A3KZEGBTPH6MMF', 'A3L1VJMHFWONCB', 'A3L6L5O89JTX2T', 'A3L9E0YI7C5G0W', 'A3LDFTSXU3UPBO', 'A3LDLV1GWQJLEQ', 'A3LDPF5FMB782Z', 'A3LGT6UZL99IW1', 'A3LPL35P7FH78Y', 'A3LQUEB84IR3VO', 'A3LSEIG2PIJYBL', 'A3LWC833HQIG7J', 'A3LZA698SQPCXE', 'A3M7BCQKSQAK4L', 'A3M7R4PD0FEPUB', 'A3M82NO6OU1FHS', 'A3MFORLOKIOEQY', 'A3MMR2WDKAK0PA', 'A3MQ15651KGVLJ', 'A3MQAQT8C6D1I7', 'A3MU9G6YWKTGTA', 'A3MUSWDCTZINQZ', 'A3MV1KKHX51FYT', 'A3N0P5AAMP6XD2', 'A3N4I2KRSMACW8', 'A3N4VTNFPMTHEF', 'A3N8O68DOEQ2FE', 'A3NCIN6TNL0MGA', 'A3NEAETOSXDBOM', 'A3NG7X4APIV649', 'A3NGOG8Z78AZSD', 'A3NHUQ33CFH3VM', 'A3NKRH3TJ4DPVI', 'A3NOBH42C7UI5M', 'A3NVZTGPORNPRW', 'A3NXJDNTQK2YJL', 'A3NYBI5VMVEEIK', 'A3O1FVLUD9X1XC', 'A3O4OIBCML0683', 'A3O5ASFUXC32UA', 'A3OA4DV4L81N1D', 'A3OIMUR42XIOFQ', 'A3OXHLG6DIBRW8', 'A3OYO7B6SS7QLH', 'A3OZA8HNJM26DC', 'A3P1508PZ0UADD', 'A3P4T1DKRWTL36', 'A3P69DTOXII004', 'A3PCEB9ND82AGE', 'A3PD8JD9L4WEII', 'A3PDWA32BAMB2Y', 'A3PGVJF37JSHFO', 'A3PJJTAKISAFI9', 'A3PPO2X5PJE1L9', 'A3PU3EDJ2FG1AW', 'A3Q1J68QY1MZQ9', 'A3Q4TYJVAM4IRM', 'A3Q6ZPW60CVF2L', 'A3QAO3QBCQF89T', 'A3QD59N3M7O7KB', 'A3QDMDSANPYGUX', 'A3QDY9I0CNMD2W', 'A3QJU4FEN8PQSZ', 'A3QKIR8J56EUI1', 'A3QMJMTLJC34QC', 'A3QNQQKJTL76H0', 'A3QNX5KWHDV0GD', 'A3QQCEQ33O0GJU', 'A3QQGPI3CTV9SX', 'A3QRR8PSCBI07C', 'A3QRW0UJPKIAX7', 'A3QU3O79AGNWCY', 'A3QUDXLOJTKEP9', 'A3QX0ERX4D03TF', 'A3R19YKNL641X3', 'A3R1GJY2MY8041', 'A3R1WFO4KIUQXZ', 'A3R33KMESG0XGQ', 'A3R4794K2RVU1S', 'A3REK3OFONWB1Q', 'A3RGHO0Q938FRS', 'A3RGJ1FXOB1ZLL', 'A3RMEU4GNP60BM', 'A3RR2P5IS3DGPR', 'A3S0DBBR693O06', 'A3S0EHEIR52HP1', 'A3S3R88HA0HZG3', 'A3S3VSXEFXBMRC', 'A3S5EXYZDEBF3K', 'A3S5WYWYKSAI9C', 'A3SDJ70H00OQCJ', 'A3SL0HA6422W4M', 'A3SMD3T0QTN109', 'A3SOJO7Z7R9WIA', 'A3SP7T2PZ3HSDE', 'A3SQCTNYQFVBWM', 'A3SRDVCD2ATIIS', 'A3SU7JSTPH9CC9', 'A3SVYWA9O1KUQV', 'A3SX5MZTCZRQLF', 'A3T4OHEAHOJ700', 'A3T7V207KRDE2O', 'A3T8WOFS5RD2IR', 'A3TA1UJWRJF9NC', 'A3TAS1AG6FMBQW', 'A3TBMAWIIHKHFN', 'A3TBMGNSEQBWIL', 'A3TCMJ6GKZJFBQ', 'A3TNM3C9ENUCFW', 'A3TP31S61PPE3G', 'A3TPNC3TKGCCEI', 'A3TR3KLL5PXSZ8', 'A3TRY87JJCA5Y8', 'A3U029B8Z5WGI2', 'A3U41ZL33SS92P', 'A3U5HKDHPYBAK3', 'A3U6J0DLLDEWM2', 'A3UKWQS8SRW6IO', 'A3UQSOJW51UU9T', 'A3UR2N0ATGBCU8', 'A3UW0PQLDUACMH', 'A3UW23DBF2KHWC', 'A3UXW18DP4WSD6', 'A3V0YR50F1XSKP', 'A3V15SFD7918WZ', 'A3V2EZ6MA32FF6', 'A3V5F050GVZ56Q', 'A3V6QSTG2T9MIO', 'A3V6Z4RCDGRC44', 'A3V7D0LH8L7BG0', 'A3V8P0O224OBDB', 'A3VBXQKRM7A4JR', 'A3VBZDYGHF4NK8', 'A3VC74TJ06WDDD', 'A3VI2VETB90ZG5', 'A3VL4RXCWNSR3H', 'A3VONQL7YW8UPM', 'A3VTOLNB5N6FVP', 'A3VVMIMMTYQV5F', 'A3VZH0PWLQ9BB1', 'A3W4D8XOGLWUN5', 'A4D5B7Q8A7PA6', 'A4GGT6O0GQNV2', 'A4GHPW9AAH1NY', 'A4H4KYSM2KQ85', 'A4IEUHNRFZO0', 'A4IL0CLL27Q33', 'A4S2WAQVQR6PI', 'A4U27URFECK1U', 'A4UGMKUSX9XHI', 'A4WEZJOIZIV4U', 'A506HOOCVL8GW', 'A51OFQVC6O5YL', 'A54S9CIUV5VNB', 'A54SG05AV6S4H', 'A57Q87B0TC9IJ', 'A5A4374R8I7NB', 'A5CDMTW6JKV5G', 'A5GPH59NDWJRB', 'A5JLAU2ARJ0BO', 'A5KMMY627T3W', 'A5MCDQ60DWUEV', 'A5Q1FK0FWU7DH', 'A5QDZEOIMQ4LW', 'A64LEAZ2QF8L2', 'A680RUE1FDO8B', 'A6FIAB28IS79', 'A6KL17KKN0A5L', 'A6TBR6L2D4XKC', 'A6VPK7X53QNAQ', 'A6VXZ1EEPRTLV', 'A6XDZ1MJ0B1A2', 'A6XLG77BC9R8R', 'A74UT8IQCM0I2', 'A781ITP3HE2N5', 'A7EJERNB7IK3Z', 'A7EU2BWLLCJY2', 'A7FDGFK0KN7QG', 'A7KBAXO177NND', 'A7QMQBGJ2TCQG', 'A7UPJYPAH73NC', 'A7Y6AVS576M03', 'A7Z2J9V37ABCO', 'A84FLVDK2R5JF', 'A87CILADRIZW0', 'A87N6UTYA6NOB', 'A8CKH8XB33XGN', 'A8FKL1DHTHC12', 'A8P6GIIQ6YQV8', 'A8WEXFRWX1ZHH', 'A8X478DM3KAWM', 'A8X8D4BUY5DFU', 'A95PWI4S6WHGL', 'A96JD9312DHWC', 'A9BWUH9XKZ2DQ', 'A9DYWY9VOSP1P', 'A9ELHLPXF7JKD', 'A9J4UURM4OSDW', 'A9LNWA25IM2DX', 'A9Y5O2R4D6EH5', 'AA3FTJYJYX55C', 'AA8RBTN3J2F5H', 'AA91O96C1Z18W', 'AA95DWUI3ODU', 'AAA0TUKS5VBSA', 'AAEVGE52KL0DJ', 'AAK6SOEJY30YG', 'AAQ9NJ480N9W5', 'AAR7CEPXYJA0T', 'AATWFX0ZZSE6C', 'AAW7X3GRD8GY9', 'AAXAKFQEAQPWC', 'AB094YABX21WQ', 'ABAPF3XY1W6JX', 'ABDR6IJ93HFIO', 'ABE5E8B3J7MKY', 'ABH9D1TEOJ56E', 'ABIVKBMSIPEDY', 'ABMF4UC4Z00NT', 'ABMN74TBW5UWE', 'ABMNX856X89CS', 'ABQWMANK4AR63', 'ABSYIF0ONC2AF', 'ABUE0ALHKWKHC', 'ABVYGB2TKBO8F', 'ABXANRX4GPYRZ', 'AC1YLEFC9AN5X', 'AC6Z7DP1Z5GHD', 'AC9QEWWN4W9MC', 'ACH055GTTIGC9', 'ACHTDPEQYSEQL', 'ACJT8MUC0LRF0', 'ACP9S40H3SHY1', 'ACQYIC13JXAOI', 'ACSX5AIZE3MJ9', 'ACY9QYNDFLVBI', 'ACYZXQ2JKPZKT', 'AD0J5KK4WQXNS', 'AD8DLOGHAXL', 'AD9ZL63H0VKCZ', 'ADHA1W879JNT0', 'ADKGE078JK8K7', 'ADKZOXAOV8EXD', 'ADLVFFE4VBT8', 'ADOR3TR7GDF68', 'ADPKRJ2BSFJ0I', 'ADZF3QDGSZE7K', 'AE88D7OM7YU99', 'AEAFHD09X8044', 'AEFTIUQHSVUFX', 'AEIB3UR05OP7A', 'AEJAGHLC675A7', 'AEL6CQNQXONBX', 'AELK0E5DK7LIZ', 'AEN44U6T9R93', 'AENULRBQ2IE5I', 'AETQIN7OH0RL9', 'AEWYUPCNDV7HY', 'AEZJTA4KDIWY8', 'AFFVUZEGP1FDQ', 'AFH97KY1SBP2C', 'AFHYEO3Y1IIDD', 'AFICF7DKHTQ87', 'AFM2J3HJNPIHV', 'AFM7FK7NFEKFZ', 'AFNG8O2DXRCUV', 'AFQBS241UKPAZ', 'AFR9GYKAHM37U', 'AFXTKAO0CB354', 'AG0PM9IAHQ06C', 'AG2YXYIQ8TLTA', 'AG35JCCQWDRCS', 'AG5WSXI52FPKH', 'AG6TX1ZJHLMO7', 'AG7EF0SVBQOUX', 'AG8YP2XTC5X1I', 'AGATRDOFW48DK', 'AGEKVD8JPZQMT', 'AGEWOMQ90BV8R', 'AGFSSC5DBY2HU', 'AGGAQLXPVGM5D', 'AGHZXQL9F94T9', 'AGILRZOT49R0V', 'AGJRUK27RBVYS', 'AGLT3L7ALL4O4', 'AGOH8N902URMW', 'AGR1V15L6FLMA', 'AGVWTYW0ULXHT', 'AGX2K0FMS0IVL', 'AGXMC3ITWZASE', 'AGXV8E7XK9J6H', 'AGYH5U11ZKPFB', 'AH3LF9RAD1O2V', 'AH5BCMZELZSKG', 'AHD3NZHDUZ5I6', 'AHF4I1FSIHABC', 'AHIK7BUXFRMT8', 'AHNHLGKIZ2N3B', 'AHQRU3MRORIWQ', 'AHR86ZEYETLJI', 'AHROSV6WJOEGY', 'AHS6PX6H22WW1', 'AI0BCEWRE04G0', 'AI2AOCTC8BQVZ', 'AI8EMB0HUC6Z5', 'AIBRTGBN07D6A', 'AIFLY2HF8NS8U', 'AIJQU979J6UFY', 'AJCR7L4AXL2OG', 'AJEOFP6ZWY0MK', 'AJL3U764D7NI3', 'AJX9A4Q19UTJU', 'AK3GKIV8DEY8B', 'AK9BXHEXOOM6Z', 'AKBVYIIHWI04B', 'AKCZIJ6ZHE41D', 'AKSFZ4G1AXYFC', 'AKSQNMIKOU01H', 'AKT8TGIT6VVZ5', 'AKX9EQ37PAYMY', 'AL1XV4L25FZ2S', 'AL42PIIG5DXYD', 'AL5CUWBFBMWYQ', 'AL9WKVMRI6GFB', 'ALDAF4VVLFRHP', 'ALHC64J88LVWO', 'ALNE7Q71JFC0F', 'ALQ4USPEQ9L5N', 'ALRCAGJOJ9583', 'ALUNVOQRXOZIA', 'AM0QLU79O05JR', 'AM3XNQU9TZBD8', 'AM8W6Y3HVXLZT', 'AM9APPMIE1BHZ', 'AMFXXAOVV4CPJ', 'AMKNPIDFLRFMP', 'AMO1MLSIJSQOF', 'AMRMK86X3PKXD', 'AMS2CPERWN7JV', 'AMUP8DYE7EAN2', 'AMVXR3NPL0GWX', 'AMWL7XIWIPXEZ', 'AMZCZBK1EF1PV', 'AN0JK8OQLUC55', 'AN2IZT80ZUNJN', 'AN81JUYW2SL24', 'AN9CP6J4JF91X', 'AN9WA4C5E7YY5', 'ANEDXRFDZDL18', 'ANEXFROORI6F6', 'ANFJYYQ0P35CW', 'ANRS196NKFVUU', 'ANSVB7OYSXZSL', 'ANTGGAQYPSWHF', 'ANTN61S4L7WG9', 'ANW6EGY12V5XS', 'ANXEW7IDYDJEH', 'ANYC38I00IRVK', 'AO09RWV40IX78', 'AO2EURP2Y4JZM', 'AO8NH0BV82XIE', 'AOEAD7DPLZE53', 'AOEDWQLH2WKKW', 'AOJA1LC8PN7K1', 'AOMEH9W6LHC4S', 'AONUCJBC85BL', 'AOQLV2LSI9B2W', 'AOTZOHB2LZGYR', 'AOVTLYTHVDNUX', 'AOWF9T81XMX2S', 'AP2NZAALUQKF5', 'AP53MVRC8ZEW2', 'APBB297H3ZA5E', 'APBDZ88BBTN4F', 'APG2BHOAXPNEQ', 'APGQTZZ4ZFPHO', 'APMYPD97EHUUZ', 'APOGXH3A74CM3', 'APQQK1V695AUE', 'AQ2FC1DLKVD8H', 'AQ3IN3MRXQ5KH', 'AQ55H30MZSV0Q', 'AQB4DH57MSZSC', 'AQCJWSMSURQI2', 'AQIJ3ZEEVCIKU', 'AQM0K7MBBT4AY', 'AQNSQW4495SG0', 'AQR4HPVSOPS08', 'AQSV34W54L0VO', 'AR18DH5SL9F73', 'AR1T36GLLAFFX', 'AR3EVUQF0AC7R', 'AR6APXLK7TJU2', 'AR74YY08IP2WE', 'AR8LWDT6TUKNZ', 'ARBKYIVNYWK3C', 'ARC5ASW9CUAGP', 'ARIDN94LOCQFD', 'AROQO2VDODT7', 'ARTA78TP6H73D', 'ARW8VGT10JG60', 'ARX0KOX5Q01BJ', 'ARX7Z3NI6O0F7', 'ARXU3FESTWMJJ', 'AS269J1OGZT1V', 'AS2II0671KT2C', 'AS7J4952JB5XR', 'AS8C336DDLSO4', 'ASCBJEPXTOU0V', 'ASF3J4UYV34KA', 'ASFP250F22MDZ', 'ASFW4ZMNZJKDA', 'ASHJAZC9OA9NS', 'ASJLXOX1VD4DF', 'ASJSX783R5HTZ', 'ASJZT7DM51QEM', 'ASRA2UZ3JV87B', 'AT09WGFUM934H', 'AT28RL25Q2OLK', 'AT2J7H5TRZM8Z', 'AT53ZTTO707MB', 'AT6CZDCP4TRGA', 'AT8V3JOZD3KWK', 'ATDE9JYCPI0L1', 'ATDQ9CGCWTT8D', 'ATFBVUXDIRXT6', 'ATMQEI1LKR6VB', 'ATNOI7E8GTIVE', 'ATOKT8QYK967L', 'ATS2855497V0I', 'ATZJNEXX7LWD3', 'AU2UJF4I7KAWL', 'AU3GYRAKBUAEU', 'AU627A4UGIW6V', 'AUBEFRFHJR64Y', 'AUCIFMWP3DU8R', 'AUCISQA1YXX86', 'AUITG1DJ3QUGK', 'AUK79PXTAOJP9', 'AULFLNWJP1QXY', 'AUUV3XDYB16X5', 'AV10H5K6VPQIJ', 'AV8MDYLHHTUOY', 'AV9PIER7NE448', 'AVBLGXSWRN666', 'AVFJ327UXPXLF', 'AVJORH3ACR2A5', 'AVPNQUVZWMDSX', 'AVSMRPI23DQI2', 'AVTJEWTCJ3PBE', 'AVU1ILDDYW301', 'AW3LX47IHPFRL', 'AW5JSQCHC2ZJO', 'AW63IRQWH10GF', 'AW68KVDV7BBRS', 'AW6A4PPENVZY3', 'AW6FQE5QRF2LM', 'AW6J9IILGOZY3', 'AWH2AY17ZU7W2', 'AWHL379EE14K7', 'AWJWCKB92RJX2', 'AWNBZSEZ9P8BE', 'AWNJAY0M5UI70', 'AWPN47SSWK1JV', 'AWPODHOB4GFWL', 'AWSK1ZAEU1KFL', 'AWZR0O65DL2Q', 'AX05DBU8IRUWY', 'AX7317G153T8W', 'AXP8GO5Q3AXSA', 'AXR3CV6A4FMBG', 'AXU3VKZE848IY', 'AXU8RH1DEV21H', 'AXYM52DNK6NDF', 'AY3D7DG5L5WCK', 'AY3XPKRAMKKY7', 'AY4EXFOO43C3S', 'AY6A8KPYCE6B0', 'AYB4ELCS5AM8P', 'AYCAIHABPYWVJ', 'AYGEKID3G7DPW', 'AYLLSFYS3UP1H', 'AYMD77ITD15PT', 'AYNAH993VDECT', 'AYO1146CBIV5C', 'AYOMAHLWRQHUG', 'AYOTEJ617O60K', 'AYP0YPLSP9ISM', 'AZ515FFZ7I2P7', 'AZ8XSDMIX04VJ', 'AZAC8O310IK4E', 'AZBXKUH4AIW3X', 'AZCE11PSTCH1L', 'AZMY6E8B52L2T', 'AZNUHQSHZHSUE', 'AZOK5STV85FBJ']\n"
          ]
        }
      ],
      "source": [
        "# Making top 5 recommendations for user_id \"A3LDPF5FMB782Z\" with a similarity-based recommendation engine\n",
        "recommendations = get_recommendations(df, user_id=\"A3LDPF5FMB782Z\", top_n=5, algo=similarity_algo_optimized)\n"
      ]
    },
    {
      "cell_type": "code",
      "execution_count": 69,
      "metadata": {
        "colab": {
          "base_uri": "https://localhost:8080/",
          "height": 206
        },
        "id": "b5WfIX0Z6_q2",
        "outputId": "9e8e6c51-3827-4da0-e73d-3f4b2c44277a"
      },
      "outputs": [
        {
          "output_type": "execute_result",
          "data": {
            "text/plain": [
              "      prod_id  predicted_ratings\n",
              "0  B000067RT6                  5\n",
              "1  B0012Y6HC8                  5\n",
              "2  B001FA1NK0                  5\n",
              "3  B001TH7GSW                  5\n",
              "4  B001TH7GUU                  5"
            ],
            "text/html": [
              "\n",
              "  <div id=\"df-0ef9f5ea-0521-4732-87f0-0a0e11f317d9\" class=\"colab-df-container\">\n",
              "    <div>\n",
              "<style scoped>\n",
              "    .dataframe tbody tr th:only-of-type {\n",
              "        vertical-align: middle;\n",
              "    }\n",
              "\n",
              "    .dataframe tbody tr th {\n",
              "        vertical-align: top;\n",
              "    }\n",
              "\n",
              "    .dataframe thead th {\n",
              "        text-align: right;\n",
              "    }\n",
              "</style>\n",
              "<table border=\"1\" class=\"dataframe\">\n",
              "  <thead>\n",
              "    <tr style=\"text-align: right;\">\n",
              "      <th></th>\n",
              "      <th>prod_id</th>\n",
              "      <th>predicted_ratings</th>\n",
              "    </tr>\n",
              "  </thead>\n",
              "  <tbody>\n",
              "    <tr>\n",
              "      <th>0</th>\n",
              "      <td>B000067RT6</td>\n",
              "      <td>5</td>\n",
              "    </tr>\n",
              "    <tr>\n",
              "      <th>1</th>\n",
              "      <td>B0012Y6HC8</td>\n",
              "      <td>5</td>\n",
              "    </tr>\n",
              "    <tr>\n",
              "      <th>2</th>\n",
              "      <td>B001FA1NK0</td>\n",
              "      <td>5</td>\n",
              "    </tr>\n",
              "    <tr>\n",
              "      <th>3</th>\n",
              "      <td>B001TH7GSW</td>\n",
              "      <td>5</td>\n",
              "    </tr>\n",
              "    <tr>\n",
              "      <th>4</th>\n",
              "      <td>B001TH7GUU</td>\n",
              "      <td>5</td>\n",
              "    </tr>\n",
              "  </tbody>\n",
              "</table>\n",
              "</div>\n",
              "    <div class=\"colab-df-buttons\">\n",
              "\n",
              "  <div class=\"colab-df-container\">\n",
              "    <button class=\"colab-df-convert\" onclick=\"convertToInteractive('df-0ef9f5ea-0521-4732-87f0-0a0e11f317d9')\"\n",
              "            title=\"Convert this dataframe to an interactive table.\"\n",
              "            style=\"display:none;\">\n",
              "\n",
              "  <svg xmlns=\"http://www.w3.org/2000/svg\" height=\"24px\" viewBox=\"0 -960 960 960\">\n",
              "    <path d=\"M120-120v-720h720v720H120Zm60-500h600v-160H180v160Zm220 220h160v-160H400v160Zm0 220h160v-160H400v160ZM180-400h160v-160H180v160Zm440 0h160v-160H620v160ZM180-180h160v-160H180v160Zm440 0h160v-160H620v160Z\"/>\n",
              "  </svg>\n",
              "    </button>\n",
              "\n",
              "  <style>\n",
              "    .colab-df-container {\n",
              "      display:flex;\n",
              "      gap: 12px;\n",
              "    }\n",
              "\n",
              "    .colab-df-convert {\n",
              "      background-color: #E8F0FE;\n",
              "      border: none;\n",
              "      border-radius: 50%;\n",
              "      cursor: pointer;\n",
              "      display: none;\n",
              "      fill: #1967D2;\n",
              "      height: 32px;\n",
              "      padding: 0 0 0 0;\n",
              "      width: 32px;\n",
              "    }\n",
              "\n",
              "    .colab-df-convert:hover {\n",
              "      background-color: #E2EBFA;\n",
              "      box-shadow: 0px 1px 2px rgba(60, 64, 67, 0.3), 0px 1px 3px 1px rgba(60, 64, 67, 0.15);\n",
              "      fill: #174EA6;\n",
              "    }\n",
              "\n",
              "    .colab-df-buttons div {\n",
              "      margin-bottom: 4px;\n",
              "    }\n",
              "\n",
              "    [theme=dark] .colab-df-convert {\n",
              "      background-color: #3B4455;\n",
              "      fill: #D2E3FC;\n",
              "    }\n",
              "\n",
              "    [theme=dark] .colab-df-convert:hover {\n",
              "      background-color: #434B5C;\n",
              "      box-shadow: 0px 1px 3px 1px rgba(0, 0, 0, 0.15);\n",
              "      filter: drop-shadow(0px 1px 2px rgba(0, 0, 0, 0.3));\n",
              "      fill: #FFFFFF;\n",
              "    }\n",
              "  </style>\n",
              "\n",
              "    <script>\n",
              "      const buttonEl =\n",
              "        document.querySelector('#df-0ef9f5ea-0521-4732-87f0-0a0e11f317d9 button.colab-df-convert');\n",
              "      buttonEl.style.display =\n",
              "        google.colab.kernel.accessAllowed ? 'block' : 'none';\n",
              "\n",
              "      async function convertToInteractive(key) {\n",
              "        const element = document.querySelector('#df-0ef9f5ea-0521-4732-87f0-0a0e11f317d9');\n",
              "        const dataTable =\n",
              "          await google.colab.kernel.invokeFunction('convertToInteractive',\n",
              "                                                    [key], {});\n",
              "        if (!dataTable) return;\n",
              "\n",
              "        const docLinkHtml = 'Like what you see? Visit the ' +\n",
              "          '<a target=\"_blank\" href=https://colab.research.google.com/notebooks/data_table.ipynb>data table notebook</a>'\n",
              "          + ' to learn more about interactive tables.';\n",
              "        element.innerHTML = '';\n",
              "        dataTable['output_type'] = 'display_data';\n",
              "        await google.colab.output.renderOutput(dataTable, element);\n",
              "        const docLink = document.createElement('div');\n",
              "        docLink.innerHTML = docLinkHtml;\n",
              "        element.appendChild(docLink);\n",
              "      }\n",
              "    </script>\n",
              "  </div>\n",
              "\n",
              "\n",
              "<div id=\"df-e3ba60d0-5be2-4c43-927d-bc14ae16bafa\">\n",
              "  <button class=\"colab-df-quickchart\" onclick=\"quickchart('df-e3ba60d0-5be2-4c43-927d-bc14ae16bafa')\"\n",
              "            title=\"Suggest charts\"\n",
              "            style=\"display:none;\">\n",
              "\n",
              "<svg xmlns=\"http://www.w3.org/2000/svg\" height=\"24px\"viewBox=\"0 0 24 24\"\n",
              "     width=\"24px\">\n",
              "    <g>\n",
              "        <path d=\"M19 3H5c-1.1 0-2 .9-2 2v14c0 1.1.9 2 2 2h14c1.1 0 2-.9 2-2V5c0-1.1-.9-2-2-2zM9 17H7v-7h2v7zm4 0h-2V7h2v10zm4 0h-2v-4h2v4z\"/>\n",
              "    </g>\n",
              "</svg>\n",
              "  </button>\n",
              "\n",
              "<style>\n",
              "  .colab-df-quickchart {\n",
              "      --bg-color: #E8F0FE;\n",
              "      --fill-color: #1967D2;\n",
              "      --hover-bg-color: #E2EBFA;\n",
              "      --hover-fill-color: #174EA6;\n",
              "      --disabled-fill-color: #AAA;\n",
              "      --disabled-bg-color: #DDD;\n",
              "  }\n",
              "\n",
              "  [theme=dark] .colab-df-quickchart {\n",
              "      --bg-color: #3B4455;\n",
              "      --fill-color: #D2E3FC;\n",
              "      --hover-bg-color: #434B5C;\n",
              "      --hover-fill-color: #FFFFFF;\n",
              "      --disabled-bg-color: #3B4455;\n",
              "      --disabled-fill-color: #666;\n",
              "  }\n",
              "\n",
              "  .colab-df-quickchart {\n",
              "    background-color: var(--bg-color);\n",
              "    border: none;\n",
              "    border-radius: 50%;\n",
              "    cursor: pointer;\n",
              "    display: none;\n",
              "    fill: var(--fill-color);\n",
              "    height: 32px;\n",
              "    padding: 0;\n",
              "    width: 32px;\n",
              "  }\n",
              "\n",
              "  .colab-df-quickchart:hover {\n",
              "    background-color: var(--hover-bg-color);\n",
              "    box-shadow: 0 1px 2px rgba(60, 64, 67, 0.3), 0 1px 3px 1px rgba(60, 64, 67, 0.15);\n",
              "    fill: var(--button-hover-fill-color);\n",
              "  }\n",
              "\n",
              "  .colab-df-quickchart-complete:disabled,\n",
              "  .colab-df-quickchart-complete:disabled:hover {\n",
              "    background-color: var(--disabled-bg-color);\n",
              "    fill: var(--disabled-fill-color);\n",
              "    box-shadow: none;\n",
              "  }\n",
              "\n",
              "  .colab-df-spinner {\n",
              "    border: 2px solid var(--fill-color);\n",
              "    border-color: transparent;\n",
              "    border-bottom-color: var(--fill-color);\n",
              "    animation:\n",
              "      spin 1s steps(1) infinite;\n",
              "  }\n",
              "\n",
              "  @keyframes spin {\n",
              "    0% {\n",
              "      border-color: transparent;\n",
              "      border-bottom-color: var(--fill-color);\n",
              "      border-left-color: var(--fill-color);\n",
              "    }\n",
              "    20% {\n",
              "      border-color: transparent;\n",
              "      border-left-color: var(--fill-color);\n",
              "      border-top-color: var(--fill-color);\n",
              "    }\n",
              "    30% {\n",
              "      border-color: transparent;\n",
              "      border-left-color: var(--fill-color);\n",
              "      border-top-color: var(--fill-color);\n",
              "      border-right-color: var(--fill-color);\n",
              "    }\n",
              "    40% {\n",
              "      border-color: transparent;\n",
              "      border-right-color: var(--fill-color);\n",
              "      border-top-color: var(--fill-color);\n",
              "    }\n",
              "    60% {\n",
              "      border-color: transparent;\n",
              "      border-right-color: var(--fill-color);\n",
              "    }\n",
              "    80% {\n",
              "      border-color: transparent;\n",
              "      border-right-color: var(--fill-color);\n",
              "      border-bottom-color: var(--fill-color);\n",
              "    }\n",
              "    90% {\n",
              "      border-color: transparent;\n",
              "      border-bottom-color: var(--fill-color);\n",
              "    }\n",
              "  }\n",
              "</style>\n",
              "\n",
              "  <script>\n",
              "    async function quickchart(key) {\n",
              "      const quickchartButtonEl =\n",
              "        document.querySelector('#' + key + ' button');\n",
              "      quickchartButtonEl.disabled = true;  // To prevent multiple clicks.\n",
              "      quickchartButtonEl.classList.add('colab-df-spinner');\n",
              "      try {\n",
              "        const charts = await google.colab.kernel.invokeFunction(\n",
              "            'suggestCharts', [key], {});\n",
              "      } catch (error) {\n",
              "        console.error('Error during call to suggestCharts:', error);\n",
              "      }\n",
              "      quickchartButtonEl.classList.remove('colab-df-spinner');\n",
              "      quickchartButtonEl.classList.add('colab-df-quickchart-complete');\n",
              "    }\n",
              "    (() => {\n",
              "      let quickchartButtonEl =\n",
              "        document.querySelector('#df-e3ba60d0-5be2-4c43-927d-bc14ae16bafa button');\n",
              "      quickchartButtonEl.style.display =\n",
              "        google.colab.kernel.accessAllowed ? 'block' : 'none';\n",
              "    })();\n",
              "  </script>\n",
              "</div>\n",
              "\n",
              "    </div>\n",
              "  </div>\n"
            ],
            "application/vnd.google.colaboratory.intrinsic+json": {
              "type": "dataframe",
              "summary": "{\n  \"name\": \"pd\",\n  \"rows\": 5,\n  \"fields\": [\n    {\n      \"column\": \"prod_id\",\n      \"properties\": {\n        \"dtype\": \"string\",\n        \"num_unique_values\": 5,\n        \"samples\": [\n          \"B0012Y6HC8\",\n          \"B001TH7GUU\",\n          \"B001FA1NK0\"\n        ],\n        \"semantic_type\": \"\",\n        \"description\": \"\"\n      }\n    },\n    {\n      \"column\": \"predicted_ratings\",\n      \"properties\": {\n        \"dtype\": \"number\",\n        \"std\": 0,\n        \"min\": 5,\n        \"max\": 5,\n        \"num_unique_values\": 1,\n        \"samples\": [\n          5\n        ],\n        \"semantic_type\": \"\",\n        \"description\": \"\"\n      }\n    }\n  ]\n}"
            }
          },
          "metadata": {},
          "execution_count": 69
        }
      ],
      "source": [
        "# Building the dataframe for above recommendations with columns \"prod_id\" and \"predicted_ratings\"\n",
        "pd.DataFrame(recommendations, columns=['prod_id', 'predicted_ratings'])"
      ]
    },
    {
      "cell_type": "markdown",
      "metadata": {
        "id": "QgbzJKk7Tsnr"
      },
      "source": [
        "### **Item-Item Similarity-based Collaborative Filtering Recommendation System**"
      ]
    },
    {
      "cell_type": "markdown",
      "metadata": {
        "id": "qTJu_2hcTsnr"
      },
      "source": [
        "* Above we have seen **similarity-based collaborative filtering** where similarity is calculated **between users**. Now let us look into similarity-based collaborative filtering where similarity is seen **between items**."
      ]
    },
    {
      "cell_type": "code",
      "execution_count": 70,
      "metadata": {
        "colab": {
          "base_uri": "https://localhost:8080/"
        },
        "id": "Q8MBXOXzU-zN",
        "outputId": "505f9ed4-4eb6-4b82-a6ee-1d4e98b9d4c2"
      },
      "outputs": [
        {
          "output_type": "stream",
          "name": "stdout",
          "text": [
            "RMSE: 0.9531\n",
            "Precision:  0.848\n",
            "Recall:  0.894\n",
            "F_1 score:  0.87\n"
          ]
        }
      ],
      "source": [
        "# Using the optimal similarity measure for user-user based collaborative filtering\n",
        "sim_options = {'name': 'msd',\n",
        "               'user_based': True}\n",
        "\n",
        "# Creating an instance of KNNBasic with optimal hyperparameter values\n",
        "similarity_algo_optimized = KNNBasic(sim_options=sim_options, k=20, min_k=6, verbose=False)\n",
        "\n",
        "# Training the algorithm on the train set\n",
        "similarity_algo_optimized.fit(trainset)\n",
        "\n",
        "# Generate predictions on the testset\n",
        "# Assuming you have a 'testset' variable similar to 'trainset'\n",
        "predictions_optimized = similarity_algo_optimized.test(testset) # Rename the variable to avoid overwriting\n",
        "\n",
        "# Let us compute precision@k and recall@k with k=10.\n",
        "precision_recall_at_k(similarity_algo_optimized) # Pass the model object instead of the predictions list"
      ]
    },
    {
      "cell_type": "markdown",
      "metadata": {
        "id": "ni9LoeUVTsns"
      },
      "source": [
        "**Write your observations here:**____________\n",
        "\n",
        "The rmse value has further decreaed now to 0.951\n",
        "while F1 score has increased to 0.87 increasing the accuracy\n",
        "\n"
      ]
    },
    {
      "cell_type": "markdown",
      "metadata": {
        "id": "jFbcDQmxTsns"
      },
      "source": [
        "Let's now **predict a rating for a user with `userId = A3LDPF5FMB782Z` and `prod_Id = 1400501466`** as shown below. Here the user has already interacted or watched the product with productId \"1400501466\"."
      ]
    },
    {
      "cell_type": "code",
      "execution_count": 71,
      "metadata": {
        "colab": {
          "base_uri": "https://localhost:8080/"
        },
        "id": "JsF-aaWYTsns",
        "outputId": "fce09c99-4262-45f8-d3ef-e5b4e4e1da63"
      },
      "outputs": [
        {
          "output_type": "stream",
          "name": "stdout",
          "text": [
            "user: A3LDPF5FMB782Z item: 1400501466 r_ui = 5.00   est = 4.29   {'was_impossible': True, 'reason': 'User and/or item is unknown.'}\n"
          ]
        },
        {
          "output_type": "execute_result",
          "data": {
            "text/plain": [
              "Prediction(uid='A3LDPF5FMB782Z', iid=1400501466, r_ui=5, est=4.291219941798132, details={'was_impossible': True, 'reason': 'User and/or item is unknown.'})"
            ]
          },
          "metadata": {},
          "execution_count": 71
        }
      ],
      "source": [
        "# Predicting rating for a sample user with an interacted product\n",
        "similarity_algo_optimized.predict('A3LDPF5FMB782Z', 1400501466, r_ui=5, verbose=True)"
      ]
    },
    {
      "cell_type": "markdown",
      "metadata": {
        "id": "2h0OyDMFTsns"
      },
      "source": [
        "**Write your observations here:**____________\n",
        "\n",
        "prediction for rating for A3LDPF5FMB782Z is 4.29\n",
        "\n"
      ]
    },
    {
      "cell_type": "markdown",
      "metadata": {
        "id": "BqKGZoAtTsns"
      },
      "source": [
        "Below we are **predicting rating for the `userId = A34BZM6S9L7QI4` and `prod_id = 1400501466`**."
      ]
    },
    {
      "cell_type": "code",
      "execution_count": 72,
      "metadata": {
        "colab": {
          "base_uri": "https://localhost:8080/"
        },
        "id": "5yILOxXRTsns",
        "outputId": "c8656b6b-09d0-44ef-b53c-c4186d048aee"
      },
      "outputs": [
        {
          "output_type": "stream",
          "name": "stdout",
          "text": [
            "user: A34BZM6S9L7QI4 item: 1400501466 r_ui = 5.00   est = 4.29   {'was_impossible': True, 'reason': 'User and/or item is unknown.'}\n"
          ]
        },
        {
          "output_type": "execute_result",
          "data": {
            "text/plain": [
              "Prediction(uid='A34BZM6S9L7QI4', iid=1400501466, r_ui=5, est=4.291219941798132, details={'was_impossible': True, 'reason': 'User and/or item is unknown.'})"
            ]
          },
          "metadata": {},
          "execution_count": 72
        }
      ],
      "source": [
        "# Predicting rating for a sample user with a non interacted product\n",
        "similarity_algo_optimized.predict('A34BZM6S9L7QI4', 1400501466, r_ui=5, verbose=True)"
      ]
    },
    {
      "cell_type": "markdown",
      "metadata": {
        "id": "sDKaAveJTsns"
      },
      "source": [
        "**Write your observations here:**____________\n",
        "\n",
        "prediction for rating for A34BZM6S9L7QI4 is 4.29\n",
        "\n",
        "\n"
      ]
    },
    {
      "cell_type": "markdown",
      "metadata": {
        "id": "meSvpNLj_EjD"
      },
      "source": [
        "### **Hyperparameter tuning the item-item\n",
        "\n",
        "1.   List item\n",
        "2.   List item\n",
        "\n",
        "similarity-based model**\n",
        "- Use the following values for the param_grid and tune the model.\n",
        "  - 'k': [10, 20, 30]\n",
        "  - 'min_k': [3, 6, 9]\n",
        "  - 'sim_options': {'name': ['msd', 'cosine']\n",
        "  - 'user_based': [False]\n",
        "- Use GridSearchCV() to tune the model using the 'rmse' measure\n",
        "- Print the best score and best parameters"
      ]
    },
    {
      "cell_type": "markdown",
      "metadata": {
        "id": "JrSTaQemTsnt"
      },
      "source": [
        "Now let's build the **final model** by using **tuned values of the hyperparameters** which we received by using grid search cross-validation."
      ]
    },
    {
      "cell_type": "markdown",
      "metadata": {
        "id": "kOS9Dwnd_LN6"
      },
      "source": [
        "### **Use the best parameters from GridSearchCV to build the optimized item-item similarity-based model. Compare the performance of the optimized model with the baseline model.**"
      ]
    },
    {
      "cell_type": "code",
      "execution_count": 113,
      "metadata": {
        "colab": {
          "base_uri": "https://localhost:8080/"
        },
        "id": "dSeiM1qeTsnt",
        "outputId": "f0f2a4f0-a7bd-42db-bed2-4c76ef58a2ef"
      },
      "outputs": [
        {
          "output_type": "stream",
          "name": "stdout",
          "text": [
            "RMSE: 1.0186\n",
            "Precision:  0.835\n",
            "Recall:  0.84\n",
            "F_1 score:  0.837\n"
          ]
        }
      ],
      "source": [
        "# Defining similarity measure\n",
        "sim_options = {'name': 'cosine',\n",
        "               'user_based': False}\n",
        "\n",
        "# Defining nearest neighbour algorithm\n",
        "algo_knn_item = KNNBasic(sim_options=sim_options,verbose=False)\n",
        "\n",
        "# Train the algorithm on the train set\n",
        "algo_knn_item.fit(trainset)\n",
        "\n",
        "# Let us compute precision@k, recall@k, and f_1 score with k=10\n",
        "precision_recall_at_k(algo_knn_item)"
      ]
    },
    {
      "cell_type": "markdown",
      "metadata": {
        "id": "ZCXKnMI8Tsnt"
      },
      "source": [
        "**Write your observations here:__________**\n",
        "\n",
        "the rmse value is 1.0186, precision is .835 while f1 score is .837\n"
      ]
    },
    {
      "cell_type": "markdown",
      "metadata": {
        "id": "Sbcj_H94Tsnt"
      },
      "source": [
        "### **Steps:**\n",
        "- **Predict rating for the user with `userId=\"A3LDPF5FMB782Z\"`, and `prod_id= \"1400501466\"` using the optimized model**\n",
        "- **Predict rating for `userId=\"A34BZM6S9L7QI4\"` who has not interacted with `prod_id =\"1400501466\"`, by using the optimized model**\n",
        "- **Compare the output with the output from the baseline model**"
      ]
    },
    {
      "cell_type": "code",
      "execution_count": 75,
      "metadata": {
        "colab": {
          "base_uri": "https://localhost:8080/"
        },
        "id": "gIBRRvdoTsnt",
        "outputId": "ff1a5fd7-1aa8-4d77-c607-850ab41ac512"
      },
      "outputs": [
        {
          "output_type": "stream",
          "name": "stdout",
          "text": [
            "user: A3LDPF5FMB782Z item: 1400501466 r_ui = 5.00   est = 4.29   {'was_impossible': True, 'reason': 'User and/or item is unknown.'}\n"
          ]
        },
        {
          "output_type": "execute_result",
          "data": {
            "text/plain": [
              "Prediction(uid='A3LDPF5FMB782Z', iid=1400501466, r_ui=5, est=4.291219941798132, details={'was_impossible': True, 'reason': 'User and/or item is unknown.'})"
            ]
          },
          "metadata": {},
          "execution_count": 75
        }
      ],
      "source": [
        "# Use sim_item_item_optimized model to recommend for userId \"A3LDPF5FMB782Z\" and productId \"1400501466\"\n",
        "algo_knn_item.predict('A3LDPF5FMB782Z', 1400501466, r_ui=5, verbose=True)"
      ]
    },
    {
      "cell_type": "code",
      "execution_count": 76,
      "metadata": {
        "colab": {
          "base_uri": "https://localhost:8080/"
        },
        "id": "ZNybZMAJHnIr",
        "outputId": "c4a52c30-4c32-4296-d27a-f34735dd79f1"
      },
      "outputs": [
        {
          "output_type": "stream",
          "name": "stdout",
          "text": [
            "user: A34BZM6S9L7QI4 item: 1400501466 r_ui = 5.00   est = 4.29   {'was_impossible': True, 'reason': 'User and/or item is unknown.'}\n"
          ]
        },
        {
          "output_type": "execute_result",
          "data": {
            "text/plain": [
              "Prediction(uid='A34BZM6S9L7QI4', iid=1400501466, r_ui=5, est=4.291219941798132, details={'was_impossible': True, 'reason': 'User and/or item is unknown.'})"
            ]
          },
          "metadata": {},
          "execution_count": 76
        }
      ],
      "source": [
        "# Use sim_item_item_optimized model to recommend for userId \"A34BZM6S9L7QI4\" and productId \"1400501466\"\n",
        "algo_knn_item.predict('A34BZM6S9L7QI4', 1400501466, r_ui=5, verbose=True)"
      ]
    },
    {
      "cell_type": "markdown",
      "metadata": {
        "id": "kUR-kYzTHnIs"
      },
      "source": [
        "**Write your observations here:__________**\n",
        "\n",
        "The predicition values are same for both the users with rating 4.29\n",
        "\n"
      ]
    },
    {
      "cell_type": "markdown",
      "metadata": {
        "id": "MDlNB7tnTsnu"
      },
      "source": [
        "### **Identifying similar items to a given item (nearest neighbors)**"
      ]
    },
    {
      "cell_type": "markdown",
      "metadata": {
        "id": "RLdDiFA6Tsnu"
      },
      "source": [
        "We can also find out **similar items** to a given item or its nearest neighbors based on this **KNNBasic algorithm**. Below we are finding the 5 most similar items to the item with internal id 0 based on the `msd` distance metric."
      ]
    },
    {
      "cell_type": "code",
      "execution_count": 77,
      "metadata": {
        "colab": {
          "base_uri": "https://localhost:8080/"
        },
        "id": "ZRJS4oDFTsnu",
        "outputId": "8204916a-7657-4896-8399-4045c306eed9"
      },
      "outputs": [
        {
          "output_type": "execute_result",
          "data": {
            "text/plain": [
              "[20, 77, 92, 109, 111]"
            ]
          },
          "metadata": {},
          "execution_count": 77
        }
      ],
      "source": [
        "algo_knn_item.get_neighbors(0, k=5)"
      ]
    },
    {
      "cell_type": "markdown",
      "metadata": {
        "id": "hOPZXekGHnIs"
      },
      "source": [
        "**Predicting top 5 products for userId =\n",
        "\n",
        "*   List item\n",
        "*   List item\n",
        "\n",
        "\"A1A5KUIIIHFF4U\" with similarity based recommendation system.**\n",
        "\n",
        "**Hint:** Use the get_recommendations() function."
      ]
    },
    {
      "cell_type": "code",
      "execution_count": 78,
      "metadata": {
        "colab": {
          "base_uri": "https://localhost:8080/"
        },
        "id": "Qzuk5xIvfuVP",
        "outputId": "40ef591a-8ab5-4a2e-a89d-b1d9497d387a"
      },
      "outputs": [
        {
          "output_type": "stream",
          "name": "stdout",
          "text": [
            "Requirement already satisfied: scikit-learn in /usr/local/lib/python3.10/dist-packages (1.3.2)\n",
            "Requirement already satisfied: numpy<2.0,>=1.17.3 in /usr/local/lib/python3.10/dist-packages (from scikit-learn) (1.26.4)\n",
            "Requirement already satisfied: scipy>=1.5.0 in /usr/local/lib/python3.10/dist-packages (from scikit-learn) (1.13.1)\n",
            "Requirement already satisfied: joblib>=1.1.1 in /usr/local/lib/python3.10/dist-packages (from scikit-learn) (1.4.2)\n",
            "Requirement already satisfied: threadpoolctl>=2.0.0 in /usr/local/lib/python3.10/dist-packages (from scikit-learn) (3.5.0)\n"
          ]
        }
      ],
      "source": [
        "!pip install scikit-learn\n",
        "from sklearn.preprocessing import LabelEncoder\n",
        "\n",
        "data = df[['userId', 'productId']].apply(LabelEncoder().fit_transform)"
      ]
    },
    {
      "cell_type": "code",
      "execution_count": 79,
      "metadata": {
        "id": "lA61zOpqf_TE"
      },
      "outputs": [],
      "source": [
        "df_rating=data.copy()"
      ]
    },
    {
      "cell_type": "code",
      "source": [
        "df['userId_encoded'] = LabelEncoder().fit_transform(df['userId'])  # Add the encoded column to 'df'\n",
        "\n",
        "def get_recommendations(data, user_id, top_n, algo):\n",
        "\n",
        "    # Creating an empty list to store the recommended book ids\n",
        "    recommendations = []\n",
        "\n",
        "    # Creating an user item interactions matrix\n",
        "    # Use 'userId' instead of 'user_id' to match the column name in the DataFrame\n",
        "    user_item_interactions_matrix = data.pivot(index='userId', columns='productId', values='rating')\n",
        "\n",
        "    # Find the numerical label corresponding to the original user ID\n",
        "    # Assuming 'df' is the original DataFrame before Label Encoding\n",
        "    user_id_label = df[df['userId'] == user_id]['userId_encoded'].iloc[0]  # Replace 'userId_encoded' with the actual column name if different\n",
        "\n",
        "    # Extracting those book ids which the user_id has not interacted with yet\n",
        "    non_interacted_items = user_item_interactions_matrix.loc[user_id_label][user_item_interactions_matrix.loc[user_id_label].isnull()].index.tolist()\n",
        "\n",
        "    # Looping through each of the book id which user_id has not interacted with yet\n",
        "    for book_id in non_interacted_items:\n",
        "\n",
        "        # Predicting the ratings for those non interacted book ids by this user\n",
        "        est = algo.predict(user_id_label, book_id).est  # Use the label for prediction\n",
        "\n",
        "        # Appending the predicted ratings\n",
        "        recommendations.append((book_id, est))\n",
        "\n",
        "    # Sorting the predicted ratings in descending order\n",
        "    recommendations.sort(key=lambda x: x[1], reverse=True)\n",
        "\n",
        "    return recommendations[:top_n] # Returning top n predicted rating items for this user"
      ],
      "metadata": {
        "id": "KKqSu8-AjdDa"
      },
      "execution_count": 99,
      "outputs": []
    },
    {
      "cell_type": "code",
      "execution_count": 100,
      "metadata": {
        "colab": {
          "base_uri": "https://localhost:8080/"
        },
        "id": "_kXVTiysTsnv",
        "outputId": "16f13bac-739d-4150-c732-7df3ae2e6d3f"
      },
      "outputs": [
        {
          "output_type": "execute_result",
          "data": {
            "text/plain": [
              "[(0, 4.291219941798132),\n",
              " (1, 4.291219941798132),\n",
              " (2, 4.291219941798132),\n",
              " (3, 4.291219941798132),\n",
              " (5, 4.291219941798132)]"
            ]
          },
          "metadata": {},
          "execution_count": 100
        }
      ],
      "source": [
        "# Building the dataframe for above recommendations with columns \"prod_id\" and \"predicted_ratings\"\n",
        "acc=get_recommendations(data, 'A1A5KUIIIHFF4U', 5, algo_knn_item)\n",
        "acc"
      ]
    },
    {
      "cell_type": "code",
      "execution_count": 101,
      "metadata": {
        "colab": {
          "base_uri": "https://localhost:8080/",
          "height": 206
        },
        "id": "Fv1tIFj4iTq5",
        "outputId": "325b7736-6461-4514-fafa-d84cb81a9a3f"
      },
      "outputs": [
        {
          "output_type": "execute_result",
          "data": {
            "text/plain": [
              "   0        1\n",
              "0  0  4.29122\n",
              "1  1  4.29122\n",
              "2  2  4.29122\n",
              "3  3  4.29122\n",
              "4  5  4.29122"
            ],
            "text/html": [
              "\n",
              "  <div id=\"df-d11da23b-fd2d-4dd7-a58d-4f7ba18e9092\" class=\"colab-df-container\">\n",
              "    <div>\n",
              "<style scoped>\n",
              "    .dataframe tbody tr th:only-of-type {\n",
              "        vertical-align: middle;\n",
              "    }\n",
              "\n",
              "    .dataframe tbody tr th {\n",
              "        vertical-align: top;\n",
              "    }\n",
              "\n",
              "    .dataframe thead th {\n",
              "        text-align: right;\n",
              "    }\n",
              "</style>\n",
              "<table border=\"1\" class=\"dataframe\">\n",
              "  <thead>\n",
              "    <tr style=\"text-align: right;\">\n",
              "      <th></th>\n",
              "      <th>0</th>\n",
              "      <th>1</th>\n",
              "    </tr>\n",
              "  </thead>\n",
              "  <tbody>\n",
              "    <tr>\n",
              "      <th>0</th>\n",
              "      <td>0</td>\n",
              "      <td>4.29122</td>\n",
              "    </tr>\n",
              "    <tr>\n",
              "      <th>1</th>\n",
              "      <td>1</td>\n",
              "      <td>4.29122</td>\n",
              "    </tr>\n",
              "    <tr>\n",
              "      <th>2</th>\n",
              "      <td>2</td>\n",
              "      <td>4.29122</td>\n",
              "    </tr>\n",
              "    <tr>\n",
              "      <th>3</th>\n",
              "      <td>3</td>\n",
              "      <td>4.29122</td>\n",
              "    </tr>\n",
              "    <tr>\n",
              "      <th>4</th>\n",
              "      <td>5</td>\n",
              "      <td>4.29122</td>\n",
              "    </tr>\n",
              "  </tbody>\n",
              "</table>\n",
              "</div>\n",
              "    <div class=\"colab-df-buttons\">\n",
              "\n",
              "  <div class=\"colab-df-container\">\n",
              "    <button class=\"colab-df-convert\" onclick=\"convertToInteractive('df-d11da23b-fd2d-4dd7-a58d-4f7ba18e9092')\"\n",
              "            title=\"Convert this dataframe to an interactive table.\"\n",
              "            style=\"display:none;\">\n",
              "\n",
              "  <svg xmlns=\"http://www.w3.org/2000/svg\" height=\"24px\" viewBox=\"0 -960 960 960\">\n",
              "    <path d=\"M120-120v-720h720v720H120Zm60-500h600v-160H180v160Zm220 220h160v-160H400v160Zm0 220h160v-160H400v160ZM180-400h160v-160H180v160Zm440 0h160v-160H620v160ZM180-180h160v-160H180v160Zm440 0h160v-160H620v160Z\"/>\n",
              "  </svg>\n",
              "    </button>\n",
              "\n",
              "  <style>\n",
              "    .colab-df-container {\n",
              "      display:flex;\n",
              "      gap: 12px;\n",
              "    }\n",
              "\n",
              "    .colab-df-convert {\n",
              "      background-color: #E8F0FE;\n",
              "      border: none;\n",
              "      border-radius: 50%;\n",
              "      cursor: pointer;\n",
              "      display: none;\n",
              "      fill: #1967D2;\n",
              "      height: 32px;\n",
              "      padding: 0 0 0 0;\n",
              "      width: 32px;\n",
              "    }\n",
              "\n",
              "    .colab-df-convert:hover {\n",
              "      background-color: #E2EBFA;\n",
              "      box-shadow: 0px 1px 2px rgba(60, 64, 67, 0.3), 0px 1px 3px 1px rgba(60, 64, 67, 0.15);\n",
              "      fill: #174EA6;\n",
              "    }\n",
              "\n",
              "    .colab-df-buttons div {\n",
              "      margin-bottom: 4px;\n",
              "    }\n",
              "\n",
              "    [theme=dark] .colab-df-convert {\n",
              "      background-color: #3B4455;\n",
              "      fill: #D2E3FC;\n",
              "    }\n",
              "\n",
              "    [theme=dark] .colab-df-convert:hover {\n",
              "      background-color: #434B5C;\n",
              "      box-shadow: 0px 1px 3px 1px rgba(0, 0, 0, 0.15);\n",
              "      filter: drop-shadow(0px 1px 2px rgba(0, 0, 0, 0.3));\n",
              "      fill: #FFFFFF;\n",
              "    }\n",
              "  </style>\n",
              "\n",
              "    <script>\n",
              "      const buttonEl =\n",
              "        document.querySelector('#df-d11da23b-fd2d-4dd7-a58d-4f7ba18e9092 button.colab-df-convert');\n",
              "      buttonEl.style.display =\n",
              "        google.colab.kernel.accessAllowed ? 'block' : 'none';\n",
              "\n",
              "      async function convertToInteractive(key) {\n",
              "        const element = document.querySelector('#df-d11da23b-fd2d-4dd7-a58d-4f7ba18e9092');\n",
              "        const dataTable =\n",
              "          await google.colab.kernel.invokeFunction('convertToInteractive',\n",
              "                                                    [key], {});\n",
              "        if (!dataTable) return;\n",
              "\n",
              "        const docLinkHtml = 'Like what you see? Visit the ' +\n",
              "          '<a target=\"_blank\" href=https://colab.research.google.com/notebooks/data_table.ipynb>data table notebook</a>'\n",
              "          + ' to learn more about interactive tables.';\n",
              "        element.innerHTML = '';\n",
              "        dataTable['output_type'] = 'display_data';\n",
              "        await google.colab.output.renderOutput(dataTable, element);\n",
              "        const docLink = document.createElement('div');\n",
              "        docLink.innerHTML = docLinkHtml;\n",
              "        element.appendChild(docLink);\n",
              "      }\n",
              "    </script>\n",
              "  </div>\n",
              "\n",
              "\n",
              "<div id=\"df-52a1a675-5a40-4ca0-a02f-e5b1f796a28f\">\n",
              "  <button class=\"colab-df-quickchart\" onclick=\"quickchart('df-52a1a675-5a40-4ca0-a02f-e5b1f796a28f')\"\n",
              "            title=\"Suggest charts\"\n",
              "            style=\"display:none;\">\n",
              "\n",
              "<svg xmlns=\"http://www.w3.org/2000/svg\" height=\"24px\"viewBox=\"0 0 24 24\"\n",
              "     width=\"24px\">\n",
              "    <g>\n",
              "        <path d=\"M19 3H5c-1.1 0-2 .9-2 2v14c0 1.1.9 2 2 2h14c1.1 0 2-.9 2-2V5c0-1.1-.9-2-2-2zM9 17H7v-7h2v7zm4 0h-2V7h2v10zm4 0h-2v-4h2v4z\"/>\n",
              "    </g>\n",
              "</svg>\n",
              "  </button>\n",
              "\n",
              "<style>\n",
              "  .colab-df-quickchart {\n",
              "      --bg-color: #E8F0FE;\n",
              "      --fill-color: #1967D2;\n",
              "      --hover-bg-color: #E2EBFA;\n",
              "      --hover-fill-color: #174EA6;\n",
              "      --disabled-fill-color: #AAA;\n",
              "      --disabled-bg-color: #DDD;\n",
              "  }\n",
              "\n",
              "  [theme=dark] .colab-df-quickchart {\n",
              "      --bg-color: #3B4455;\n",
              "      --fill-color: #D2E3FC;\n",
              "      --hover-bg-color: #434B5C;\n",
              "      --hover-fill-color: #FFFFFF;\n",
              "      --disabled-bg-color: #3B4455;\n",
              "      --disabled-fill-color: #666;\n",
              "  }\n",
              "\n",
              "  .colab-df-quickchart {\n",
              "    background-color: var(--bg-color);\n",
              "    border: none;\n",
              "    border-radius: 50%;\n",
              "    cursor: pointer;\n",
              "    display: none;\n",
              "    fill: var(--fill-color);\n",
              "    height: 32px;\n",
              "    padding: 0;\n",
              "    width: 32px;\n",
              "  }\n",
              "\n",
              "  .colab-df-quickchart:hover {\n",
              "    background-color: var(--hover-bg-color);\n",
              "    box-shadow: 0 1px 2px rgba(60, 64, 67, 0.3), 0 1px 3px 1px rgba(60, 64, 67, 0.15);\n",
              "    fill: var(--button-hover-fill-color);\n",
              "  }\n",
              "\n",
              "  .colab-df-quickchart-complete:disabled,\n",
              "  .colab-df-quickchart-complete:disabled:hover {\n",
              "    background-color: var(--disabled-bg-color);\n",
              "    fill: var(--disabled-fill-color);\n",
              "    box-shadow: none;\n",
              "  }\n",
              "\n",
              "  .colab-df-spinner {\n",
              "    border: 2px solid var(--fill-color);\n",
              "    border-color: transparent;\n",
              "    border-bottom-color: var(--fill-color);\n",
              "    animation:\n",
              "      spin 1s steps(1) infinite;\n",
              "  }\n",
              "\n",
              "  @keyframes spin {\n",
              "    0% {\n",
              "      border-color: transparent;\n",
              "      border-bottom-color: var(--fill-color);\n",
              "      border-left-color: var(--fill-color);\n",
              "    }\n",
              "    20% {\n",
              "      border-color: transparent;\n",
              "      border-left-color: var(--fill-color);\n",
              "      border-top-color: var(--fill-color);\n",
              "    }\n",
              "    30% {\n",
              "      border-color: transparent;\n",
              "      border-left-color: var(--fill-color);\n",
              "      border-top-color: var(--fill-color);\n",
              "      border-right-color: var(--fill-color);\n",
              "    }\n",
              "    40% {\n",
              "      border-color: transparent;\n",
              "      border-right-color: var(--fill-color);\n",
              "      border-top-color: var(--fill-color);\n",
              "    }\n",
              "    60% {\n",
              "      border-color: transparent;\n",
              "      border-right-color: var(--fill-color);\n",
              "    }\n",
              "    80% {\n",
              "      border-color: transparent;\n",
              "      border-right-color: var(--fill-color);\n",
              "      border-bottom-color: var(--fill-color);\n",
              "    }\n",
              "    90% {\n",
              "      border-color: transparent;\n",
              "      border-bottom-color: var(--fill-color);\n",
              "    }\n",
              "  }\n",
              "</style>\n",
              "\n",
              "  <script>\n",
              "    async function quickchart(key) {\n",
              "      const quickchartButtonEl =\n",
              "        document.querySelector('#' + key + ' button');\n",
              "      quickchartButtonEl.disabled = true;  // To prevent multiple clicks.\n",
              "      quickchartButtonEl.classList.add('colab-df-spinner');\n",
              "      try {\n",
              "        const charts = await google.colab.kernel.invokeFunction(\n",
              "            'suggestCharts', [key], {});\n",
              "      } catch (error) {\n",
              "        console.error('Error during call to suggestCharts:', error);\n",
              "      }\n",
              "      quickchartButtonEl.classList.remove('colab-df-spinner');\n",
              "      quickchartButtonEl.classList.add('colab-df-quickchart-complete');\n",
              "    }\n",
              "    (() => {\n",
              "      let quickchartButtonEl =\n",
              "        document.querySelector('#df-52a1a675-5a40-4ca0-a02f-e5b1f796a28f button');\n",
              "      quickchartButtonEl.style.display =\n",
              "        google.colab.kernel.accessAllowed ? 'block' : 'none';\n",
              "    })();\n",
              "  </script>\n",
              "</div>\n",
              "\n",
              "    </div>\n",
              "  </div>\n"
            ],
            "application/vnd.google.colaboratory.intrinsic+json": {
              "type": "dataframe",
              "summary": "{\n  \"name\": \"pd\",\n  \"rows\": 5,\n  \"fields\": [\n    {\n      \"column\": 0,\n      \"properties\": {\n        \"dtype\": \"number\",\n        \"std\": 1,\n        \"min\": 0,\n        \"max\": 5,\n        \"num_unique_values\": 5,\n        \"samples\": [\n          1,\n          5,\n          2\n        ],\n        \"semantic_type\": \"\",\n        \"description\": \"\"\n      }\n    },\n    {\n      \"column\": 1,\n      \"properties\": {\n        \"dtype\": \"number\",\n        \"std\": 0.0,\n        \"min\": 4.291219941798132,\n        \"max\": 4.291219941798132,\n        \"num_unique_values\": 1,\n        \"samples\": [\n          4.291219941798132\n        ],\n        \"semantic_type\": \"\",\n        \"description\": \"\"\n      }\n    }\n  ]\n}"
            }
          },
          "metadata": {},
          "execution_count": 101
        }
      ],
      "source": [
        "pd.DataFrame(acc)"
      ]
    },
    {
      "cell_type": "markdown",
      "metadata": {
        "id": "DHzmYvs0Tsnv"
      },
      "source": [
        "Now as we have seen **similarity-based collaborative filtering algorithms**, let us now get into **model-based collaborative filtering algorithms**."
      ]
    },
    {
      "cell_type": "markdown",
      "metadata": {
        "id": "rKgJpSA9vOOL"
      },
      "source": [
        "### **Model 3: Model-Based Collaborative Filtering - Matrix Factorization**"
      ]
    },
    {
      "cell_type": "markdown",
      "metadata": {
        "id": "YF6ZGyqhCAob"
      },
      "source": [
        "Model-based Collaborative Filtering is a **personalized recommendation system**, the recommendations are based on the past behavior of the user and it is not dependent on any additional information. We use **latent features** to find recommendations for each user."
      ]
    },
    {
      "cell_type": "markdown",
      "metadata": {
        "id": "n4Otha8ovOOL"
      },
      "source": [
        "### Singular Value Decomposition (SVD)"
      ]
    },
    {
      "cell_type": "markdown",
      "metadata": {
        "id": "3sGl3QkLvOOL"
      },
      "source": [
        "SVD is used to **compute the latent features** from the **user-item matrix**. But SVD does not work when we **miss values** in the **user-item matrix**."
      ]
    },
    {
      "cell_type": "code",
      "execution_count": 102,
      "metadata": {
        "colab": {
          "base_uri": "https://localhost:8080/"
        },
        "id": "07-2PT5Ssjqm",
        "outputId": "c207e541-4f20-4541-df22-cbf96caccc2c"
      },
      "outputs": [
        {
          "output_type": "stream",
          "name": "stdout",
          "text": [
            "RMSE: 0.8986\n",
            "Precision:  0.852\n",
            "Recall:  0.88\n",
            "F_1 score:  0.866\n"
          ]
        }
      ],
      "source": [
        "# Using SVD matrix factorization\n",
        "svd = SVD(random_state=1)\n",
        "\n",
        "# Training the algorithm on the train set\n",
        "svd.fit(trainset)\n",
        "\n",
        "# Let us compute precision@k and recall@k with k=10\n",
        "precision_recall_at_k(svd)"
      ]
    },
    {
      "cell_type": "markdown",
      "metadata": {
        "id": "BQ6fTuCDnVNL"
      },
      "source": [
        "**Write your observations here:___________**\n",
        "\n",
        "The overall accuracy has increased as rmse is now 0.896 while f1 score is 0.866\n",
        "\n"
      ]
    },
    {
      "cell_type": "markdown",
      "metadata": {
        "id": "z9LBN0rsHnIt"
      },
      "source": [
        "**Let's now predict the rating for a user with `userId = \"A3LDPF5FMB782Z\"` and `prod_id = \"1400501466`.**"
      ]
    },
    {
      "cell_type": "code",
      "execution_count": 103,
      "metadata": {
        "colab": {
          "base_uri": "https://localhost:8080/"
        },
        "id": "yWIhfdxXsjqm",
        "outputId": "9e10ea4a-74cc-4834-86a9-42515b6aa157"
      },
      "outputs": [
        {
          "output_type": "stream",
          "name": "stdout",
          "text": [
            "user: A3LDPF5FMB782Z item: 1400501466 r_ui = 5.00   est = 4.17   {'was_impossible': False}\n"
          ]
        },
        {
          "output_type": "execute_result",
          "data": {
            "text/plain": [
              "Prediction(uid='A3LDPF5FMB782Z', iid=1400501466, r_ui=5, est=4.17495767829676, details={'was_impossible': False})"
            ]
          },
          "metadata": {},
          "execution_count": 103
        }
      ],
      "source": [
        "# Making prediction\n",
        "svd.predict(\"A3LDPF5FMB782Z\", 1400501466, r_ui=5, verbose=True)"
      ]
    },
    {
      "cell_type": "markdown",
      "metadata": {
        "id": "oIjzqDY5nVNM"
      },
      "source": [
        "**Write your observations here:___________**\n",
        "\n",
        "---\n",
        "now the predicted value for user A3LDPF5FMB782Z's rating is 4.17"
      ]
    },
    {
      "cell_type": "markdown",
      "metadata": {
        "id": "I1aYxVeMnVNM"
      },
      "source": [
        "**Below we are predicting rating for the `userId = \"A34BZM6S9L7QI4\"` and `productId = \"1400501466\"`.**"
      ]
    },
    {
      "cell_type": "code",
      "execution_count": 104,
      "metadata": {
        "colab": {
          "base_uri": "https://localhost:8080/"
        },
        "id": "APm-uMSvcAMf",
        "outputId": "363a3331-2bfc-4f21-e30b-9fc6b92cdf22"
      },
      "outputs": [
        {
          "output_type": "stream",
          "name": "stdout",
          "text": [
            "user: A34BZM6S9L7QI4 item: 1400501466 r_ui = 5.00   est = 4.58   {'was_impossible': False}\n"
          ]
        },
        {
          "output_type": "execute_result",
          "data": {
            "text/plain": [
              "Prediction(uid='A34BZM6S9L7QI4', iid=1400501466, r_ui=5, est=4.576655079807248, details={'was_impossible': False})"
            ]
          },
          "metadata": {},
          "execution_count": 104
        }
      ],
      "source": [
        "# Making prediction\n",
        "svd.predict(\"A34BZM6S9L7QI4\", 1400501466, r_ui=5, verbose=True)"
      ]
    },
    {
      "cell_type": "markdown",
      "metadata": {
        "id": "NEL6dy3wnVNM"
      },
      "source": [
        "**Write your observations here:___________**\n",
        "\n",
        "\n",
        "now the predicted value for user A3LDPF5FMB782Z's rating is 4.58\n"
      ]
    },
    {
      "cell_type": "markdown",
      "metadata": {
        "id": "x13Eb9Owvpcw"
      },
      "source": [
        "### **Improving Matrix Factorization based recommendation system by tuning its hyperparameters**\n",
        "\n",
        "> Add blockquote\n",
        "\n"
      ]
    },
    {
      "cell_type": "markdown",
      "metadata": {
        "id": "iQcDPhhcnVNN"
      },
      "source": [
        "Below we will be tuning only three hyperparameters:\n",
        "- **n_epochs**: The number of iterations of the SGD algorithm.\n",
        "- **lr_all**: The learning rate for all parameters.\n",
        "- **reg_all**: The regularization term for all parameters."
      ]
    },
    {
      "cell_type": "markdown",
      "metadata": {
        "id": "KzY78HsrnVNO"
      },
      "source": [
        "Now, we will **the build final model** by using **tuned values** of the hyperparameters, which we received using grid search cross-validation above."
      ]
    },
    {
      "cell_type": "code",
      "execution_count": 107,
      "metadata": {
        "colab": {
          "base_uri": "https://localhost:8080/"
        },
        "id": "F2GmUebX-caD",
        "outputId": "c61c04df-7a66-4c02-c9d3-763535c5889e"
      },
      "outputs": [
        {
          "output_type": "stream",
          "name": "stdout",
          "text": [
            "0.9802483846562818\n",
            "{'n_epochs': 30, 'lr_all': 0.005, 'reg_all': 0.2}\n"
          ]
        }
      ],
      "source": [
        "# Assuming 'data' is your DataFrame with columns 'userId', 'productId', and 'rating'\n",
        "reader = Reader(rating_scale=(1, 5))  # Define rating scale\n",
        "data_surprise = Dataset.load_from_df(data[['userId', 'productId', 'rating']], reader)\n",
        "\n",
        "# Set the parameter space to tune\n",
        "param_grid = {'n_epochs': [10, 20, 30], 'lr_all': [0.001, 0.005, 0.01],\n",
        "              'reg_all': [0.2, 0.4, 0.6]}\n",
        "\n",
        "# Performing 3-fold gridsearch cross validation\n",
        "gs_ = GridSearchCV(SVD, param_grid, measures=['rmse'], cv=3, n_jobs=-1)\n",
        "\n",
        "# Fitting data using Surprise Dataset object\n",
        "gs_.fit(data_surprise)  # Use data_surprise instead of data\n",
        "\n",
        "# Best RMSE score\n",
        "print(gs_.best_score['rmse'])\n",
        "\n",
        "# Combination of parameters that gave the best RMSE score\n",
        "print(gs_.best_params['rmse'])"
      ]
    },
    {
      "cell_type": "code",
      "execution_count": 108,
      "metadata": {
        "colab": {
          "base_uri": "https://localhost:8080/"
        },
        "id": "TA_7xe-nnhuu",
        "outputId": "018f977b-d8d5-49d8-d222-3ad8668d6325"
      },
      "outputs": [
        {
          "output_type": "stream",
          "name": "stdout",
          "text": [
            "RMSE: 0.8892\n",
            "Precision:  0.853\n",
            "Recall:  0.883\n",
            "F_1 score:  0.868\n"
          ]
        }
      ],
      "source": [
        "# Building the optimized SVD model\n",
        "svd_optimized = SVD(n_epochs=30, lr_all=0.005, reg_all=0.2, random_state=1)\n",
        "\n",
        "# Training the algorithm on the train set\n",
        "svd_optimized=svd_optimized.fit(trainset)\n",
        "\n",
        "# Let us compute precision@k and recall@k with k=10\n",
        "precision_recall_at_k(svd_optimized)"
      ]
    },
    {
      "cell_type": "markdown",
      "metadata": {
        "id": "9HJvPsjITsny"
      },
      "source": [
        "**Write your observations here:_____________**\n",
        "\n",
        "Further the value of rmse has decreased to 0.8892 while f1 score has increased to 0.868"
      ]
    },
    {
      "cell_type": "markdown",
      "metadata": {
        "id": "dUjHwiFYHnIw"
      },
      "source": [
        "### **Steps:**\n",
        "- **Predict rating for the user with `userId=\"A3LDPF5FMB782Z\"`, and `prod_id= \"1400501466\"` using the optimized model**\n",
        "- **Predict rating for `userId=\"A34BZM6S9L7QI4\"` who has not interacted with `prod_id =\"1400501466\"`, by using the optimized model**\n",
        "- **Compare the output with the output from the baseline model**"
      ]
    },
    {
      "cell_type": "code",
      "execution_count": 109,
      "metadata": {
        "colab": {
          "base_uri": "https://localhost:8080/"
        },
        "id": "HTIkUQMnHnIw",
        "outputId": "d85d090f-e7b1-4665-dba2-7471e2ec04cb"
      },
      "outputs": [
        {
          "output_type": "stream",
          "name": "stdout",
          "text": [
            "user: A3LDPF5FMB782Z item: 1400501466 r_ui = 5.00   est = 4.19   {'was_impossible': False}\n"
          ]
        },
        {
          "output_type": "execute_result",
          "data": {
            "text/plain": [
              "Prediction(uid='A3LDPF5FMB782Z', iid=1400501466, r_ui=5, est=4.190337096986113, details={'was_impossible': False})"
            ]
          },
          "metadata": {},
          "execution_count": 109
        }
      ],
      "source": [
        "# Use svd_algo_optimized model to recommend for userId \"A3LDPF5FMB782Z\" and productId \"1400501466\"\n",
        "svd_optimized.predict('A3LDPF5FMB782Z', 1400501466, r_ui=5, verbose=True)"
      ]
    },
    {
      "cell_type": "code",
      "execution_count": 116,
      "metadata": {
        "colab": {
          "base_uri": "https://localhost:8080/"
        },
        "id": "s-ugM9o4HnIx",
        "outputId": "b21cef80-0316-4f4c-d55b-85adfb91d768"
      },
      "outputs": [
        {
          "output_type": "stream",
          "name": "stdout",
          "text": [
            "user: A34BZM6S9L7QI4 item: 1400501466 r_ui = 5.00   est = 4.55   {'was_impossible': False}\n"
          ]
        },
        {
          "output_type": "execute_result",
          "data": {
            "text/plain": [
              "Prediction(uid='A34BZM6S9L7QI4', iid=1400501466, r_ui=5, est=4.553531722657694, details={'was_impossible': False})"
            ]
          },
          "metadata": {},
          "execution_count": 116
        }
      ],
      "source": [
        "# Use svd_algo_optimized model to recommend for userId \"A34BZM6S9L7QI4\" and productId \"1400501466\"\n",
        "svd_optimized.predict('A34BZM6S9L7QI4', 1400501466, r_ui=5, verbose=True)"
      ]
    },
    {
      "cell_type": "markdown",
      "source": [
        "now the predicted value for user A3LDPF5FMB782Z's rating is 4.19 and the predicted value for user A3LDPF5FMB782Z's rating is 4.55"
      ],
      "metadata": {
        "id": "buWeh6HDy-7t"
      }
    },
    {
      "cell_type": "markdown",
      "metadata": {
        "id": "nnwPwgjB8DwS"
      },
      "source": [
        "### **Conclusion and Recommendations**"
      ]
    },
    {
      "cell_type": "markdown",
      "metadata": {
        "id": "xuqnifw9NF2p"
      },
      "source": [
        "\n",
        "**conclusion**\n",
        "\n",
        "WE built recommendation systems using the following algorithms. They are as follows:\n",
        "Item-item similarity-based collaborative filtering\n",
        "Model-based (matrix factorization) collaborative filtering\n",
        "To demonstrate these surprise library has been used. For these algorithms, grid search cross-validation is used to find the optimal hyperparameters for the data, and improve the performance of the model**.\n",
        "\n",
        "For performance evaluation of these models, precision@k and recall@k are used. Using these two metrics, the F_1 score is calculated for each working model.\n",
        "\n",
        "Overall, the optimized matrix factorisation-based recommendation system has given the best performance in terms of the F1-Score (~0.86)\n",
        "\n",
        "Matrix Factorization has lower RMSE (1.50) due to the reason that it assumes that both products and users and ratings are present in some low dimensional space describing their properties and recommend a product based on its proximity to the user in the latent space. Implying it accounts for latent factors as well.\n",
        "\n",
        "We can try to further improve the performance of these models using hyperparameter tuning.\n",
        "\n",
        "\n",
        "\n",
        "**RECOMMENDATIONS:**\n",
        "\n",
        " Personalized Product Recommendations: it could recommend users prodcust according to their taste and hence this could increase their sales\n",
        "\n",
        " Send personalized email campaigns showcasing recommended products to individual users\n",
        "\n",
        "  Identify highly recommended and frequently purchased items to stock up prodcuts\n",
        "\n",
        "Showcase positive reviews and ratings to build trust and encourage purchases.\n",
        "\n",
        "Regularly update the recommendation algorithm based on new data and user feedback to improve its performance.\n",
        "\n",
        "\n",
        "\n",
        "\n",
        "\n"
      ]
    }
  ],
  "metadata": {
    "colab": {
      "provenance": []
    },
    "kernelspec": {
      "display_name": "Python 3 (ipykernel)",
      "language": "python",
      "name": "python3"
    },
    "language_info": {
      "codemirror_mode": {
        "name": "ipython",
        "version": 3
      },
      "file_extension": ".py",
      "mimetype": "text/x-python",
      "name": "python",
      "nbconvert_exporter": "python",
      "pygments_lexer": "ipython3",
      "version": "3.9.7"
    }
  },
  "nbformat": 4,
  "nbformat_minor": 0
}